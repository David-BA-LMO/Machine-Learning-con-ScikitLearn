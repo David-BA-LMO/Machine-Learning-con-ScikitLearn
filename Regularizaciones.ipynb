{
  "nbformat": 4,
  "nbformat_minor": 0,
  "metadata": {
    "colab": {
      "provenance": []
    },
    "kernelspec": {
      "name": "python3",
      "display_name": "Python 3"
    },
    "language_info": {
      "name": "python"
    }
  },
  "cells": [
    {
      "cell_type": "markdown",
      "source": [
        "# **Regularizaciones**\n",
        "\n",
        "Hemos visto ya varias estrategias para evitar el overfitting o sobreajuste de nuestros datos. Recordemos que buscamos que nuestros algoritmos sean capaces de generalizar a nuevos casos que no han sido vistos durante su entrenamiento. Las regularizaciones son técnicas utilizadas para evitar este sobreajuste, al agregar una penalización a los coeficientes."
      ],
      "metadata": {
        "id": "nfuGeWFx5X8w"
      }
    },
    {
      "cell_type": "markdown",
      "source": [
        "# **Normas de un vector**"
      ],
      "metadata": {
        "id": "mxDGvB9yfwNy"
      }
    },
    {
      "cell_type": "markdown",
      "source": [
        "\n",
        "Antes de comenzar con las regularizaciones en sí, conviene retomar un concepto básico en Álgebra Lineal: la norma. La norma de un vector $v$ es una medida de su \"longitud\" o \"tamaño\" en el espacio vectorial. Hay diferentes tipos de normas, pero las más comunes son la norma *L2* también conocida como norma euclidiana y denotada como $\\left \\| v \\right \\|_{2}$, y la norma *L1* o $\\left \\| v \\right \\|_{1}$. La primera es a la que más habituados estamos al tratarse de una simple generalización del Teorema de Pitágoras para más de dos dimensiones. La última puede visualizarse como la suma de las distancias proyectadas en cada eje. Podemos generalizar a normas *Ln*. Salvo que se indique otra refencia la distancia se calcula respecto al punto de origen, aunque en muchas ocasiones calcularemos las distancias entre dos vectores distintos. Su uso en Ciencia de Datos está muy generalizado, desde el cálculo de distancias entre vectores a rescalados de datos.\n",
        "\n",
        " <div style=\"display: flex; justify-content: center;\">\n",
        "<img src=\"https://drive.google.com/uc?export=view&id=1MonzaW9BUyHOdFmMgmiLfGvsdTzttf7u\" width=\"600\">\n",
        "\n",
        "La fórmula de la norma *L1* para $n$ dimensiones es:\n",
        "\n",
        "$$\\left \\| v \\right \\|_{1} = \\sum_{i=1}^{n}\\left | v_{i} \\right |$$\n",
        "\n",
        "Para la norma *L2* sería:\n",
        "\n",
        "$$\\left \\| v \\right \\|_{2} = \\sqrt{ \\sum_{i=1}^{n}v_{i}^{2}}$$\n",
        "\n",
        "Así si tenemos un vector $p = \\begin{bmatrix}3\n",
        "\\\\ 4\n",
        "\\end{bmatrix}$ su norma L1 sería $\\left \\| p \\right \\|_{1} = 3+4 =7$, mientras que su norma L2 sería $\\left \\| p \\right \\|_{2} = \\sqrt{3^{2}+4^{2}} = 5$.\n",
        "\n",
        "El uso de una u otra norma depende del contexto de uso. Pongamos que deseamos calcular la distancia entre vectores. Al elevar sus coeficientes al cuadrado, la norma *L2* puede devolver valores mucho más altos si las distancias crecen significativamente. Es por ello que si queremos evitar valores elevadas utilizamos *L1*, siendo así mucho menos sensible a outliers."
      ],
      "metadata": {
        "id": "oz_jTFZbgBke"
      }
    },
    {
      "cell_type": "markdown",
      "source": [
        "# **Regularización Ridge**"
      ],
      "metadata": {
        "id": "0JNcY3gs_1RP"
      }
    },
    {
      "cell_type": "markdown",
      "source": [
        "\n",
        "Recordemos que en los modelos de regresión, el objetivo es localizar los coeficientes que minimicen la función de pérdida. Con las regularizaciones añadimos un término más a la función de pérdida: el valor de los mismos coeficientes. En otras palabras, ahora los coeficientes no solo minimizan el error sino también su propio valor. Geométricamente, coeficientes altos en una variable implican pendientes altas lo que supone mayor sensibilidad a los valores de dicha variable. Con la regularización los coeficientes se mantienen a raya, por lo que el modelo se desensibiliza. Esto reduce el sesgo y añade capacidad de generalización a nuevos datos.\n",
        "\n",
        "<div style=\"display: flex; justify-content: center;\">\n",
        "<img src=\"https://drive.google.com/uc?export=view&id=1zcUApK3HQggAu-eDn1n9KAWzpSq2OXNK\" width=\"700\">\n",
        "\n",
        "La primera que veamos es la **Regularización Ridge**. Esta aplica una penalización que consiste en sumar a la función de pérdida la suma de los cuadrados de los coeficientes.\n",
        "\n",
        "$$L_{2} = \\sum_{i=1}^{n}(\\hat{y} - y)^{2} + \\alpha(\\sum_{j=1}^{k}w_{i}^{2})$$\n",
        "\n",
        "Al añadir esa suma a una función que pretendemos minimizar, forzamos al algoritmo a mantener los coeficientes en valores no demasiado elevados, de lo contrario, el término derecho de la ecuación aumenta.\n",
        "El hiperparámetro $\\lambda$ indica la intensidad de la regularización. Para un valor $\\lambda = 0$ el modelo es formalmente equivalente a la Regresión Lineal ordinaria. A medida que aumentamos $\\lambda$ hacemos que el modelo sea más y más restringido. Aumentar excesivamente $\\lambda$ ocasionará que nuestro modelo tienda antes a minimizar los coeficientes que el error. Localizar el punto óptimo de $\\lambda$ dependerá de el equilibrio que busquemos entre precisión y generalización.\n",
        "\n",
        "La Regularización Ridge es un técnica especialmente útil cuando se trabaja con datos multicolineales, ya que ayuda a distribuir el efecto de las variables correlacionadas entre múltiples características, mejorando la estabilidad y el rendimiento del modelo.\n",
        "\n",
        " <div style=\"display: flex; justify-content: center;\">\n",
        "<img src=\"https://drive.google.com/uc?export=view&id=1VZGSl_Uqntgcr9gl49Zcn6KShwqNVO5F\" width=\"400\">\n",
        "\n",
        "En la imagen podemos ver como aquellos valores de los coeficientes lejos de $0$ son mucho más sensibles en el sentido de que cualquier mínima modificación en el coeficiente implica cambios radicales en la penalización. Ridge es especialmente útil para mantener los coeficientes cercanos a $0$ especialmente cuando estos son originalmente grandes."
      ],
      "metadata": {
        "id": "lUaUy-DU51wl"
      }
    },
    {
      "cell_type": "markdown",
      "source": [
        "# **Regularización Lasso**"
      ],
      "metadata": {
        "id": "dbhk9WZ9Iter"
      }
    },
    {
      "cell_type": "markdown",
      "source": [
        "En la Regularización Lasso utilizamos una norma distinta como penalización, la L1 o norma de Manhattan.\n",
        "\n",
        "$$L_{1} = \\sum_{i=1}^{n}(\\hat{y} - y)^{2} + \\alpha(\\sum_{j=1}^{k}w_{i})$$\n",
        "\n",
        "Esta regularización es mucho más estricta que Ridge, permitiendo reducir los coeficientes a valor $0$. Cuando un coeficiente tiene valor nulo significa que la columna o variable en su totalidad no está siendo tenida en cuenta en el modelo. En otras palabras, Lasso puede ser utilizada como técnica de reducción de dimensionalidad. Es por ello que *L1* es preferible cuando se sospecha que solo unos pocos predictores son realmente importantes, y se desea un modelo más parsimonioso y sencillo que se enfoque solo en esos predictores, en ocasiones, a costa de la precisión.\n",
        "\n",
        " <div style=\"display: flex; justify-content: center;\">\n",
        "<img src=\"https://drive.google.com/uc?export=view&id=1-TI9k_a6sJYZgdh1ptOUejjMi4Mbcy35\" width=\"400\">\n",
        "\n",
        "A diferencia de la regularización Ridge, Lasso no es más sensible hacia los coeficientes alejados de $0$. Entre otras cosas esto implica que la penalización es igualmente intensa en todo el rango de valores. Como consecuencia de ello, es mucho más sencillo que algunos coeficientes acaben siendo $0$."
      ],
      "metadata": {
        "id": "ABQHObk0Iwby"
      }
    },
    {
      "cell_type": "markdown",
      "source": [
        "# **Análisis del DataFrame**"
      ],
      "metadata": {
        "id": "WQG9UrLmxjvM"
      }
    },
    {
      "cell_type": "code",
      "source": [
        "import matplotlib.pyplot as plt\n",
        "import numpy as np\n",
        "import pandas as pd\n",
        "import math\n",
        "from typing import List, Tuple, Dict\n",
        "import seaborn as sns\n",
        "\n",
        "url='https://drive.google.com/file/d/1gdk_ZEj5iRkBEYdJM2oX5jjBDQl0oqxz/view?usp=sharing'\n",
        "file_id=url.split('/')[-2]\n",
        "dwn_url='https://drive.google.com/uc?id=' + file_id\n",
        "data = pd.read_csv(dwn_url)\n",
        "\n",
        "data.head(6)"
      ],
      "metadata": {
        "colab": {
          "base_uri": "https://localhost:8080/",
          "height": 237
        },
        "id": "ueh-X9iNx6yv",
        "outputId": "bbf7e35e-7ce9-495a-b7a4-8047ada3c259"
      },
      "execution_count": null,
      "outputs": [
        {
          "output_type": "execute_result",
          "data": {
            "text/plain": [
              "   SquareFeet  Bedrooms  Bathrooms Neighborhood  YearBuilt          Price\n",
              "0        2126         4          1        Rural       1969  215355.283618\n",
              "1        2459         3          2        Rural       1980  195014.221626\n",
              "2        1860         2          1       Suburb       1970  306891.012076\n",
              "3        2294         2          1        Urban       1996  206786.787153\n",
              "4        2130         5          2       Suburb       2001  272436.239065\n",
              "5        2095         2          3       Suburb       2020  198208.803907"
            ],
            "text/html": [
              "\n",
              "  <div id=\"df-2b74164a-9617-4e20-9169-b362c5503342\" class=\"colab-df-container\">\n",
              "    <div>\n",
              "<style scoped>\n",
              "    .dataframe tbody tr th:only-of-type {\n",
              "        vertical-align: middle;\n",
              "    }\n",
              "\n",
              "    .dataframe tbody tr th {\n",
              "        vertical-align: top;\n",
              "    }\n",
              "\n",
              "    .dataframe thead th {\n",
              "        text-align: right;\n",
              "    }\n",
              "</style>\n",
              "<table border=\"1\" class=\"dataframe\">\n",
              "  <thead>\n",
              "    <tr style=\"text-align: right;\">\n",
              "      <th></th>\n",
              "      <th>SquareFeet</th>\n",
              "      <th>Bedrooms</th>\n",
              "      <th>Bathrooms</th>\n",
              "      <th>Neighborhood</th>\n",
              "      <th>YearBuilt</th>\n",
              "      <th>Price</th>\n",
              "    </tr>\n",
              "  </thead>\n",
              "  <tbody>\n",
              "    <tr>\n",
              "      <th>0</th>\n",
              "      <td>2126</td>\n",
              "      <td>4</td>\n",
              "      <td>1</td>\n",
              "      <td>Rural</td>\n",
              "      <td>1969</td>\n",
              "      <td>215355.283618</td>\n",
              "    </tr>\n",
              "    <tr>\n",
              "      <th>1</th>\n",
              "      <td>2459</td>\n",
              "      <td>3</td>\n",
              "      <td>2</td>\n",
              "      <td>Rural</td>\n",
              "      <td>1980</td>\n",
              "      <td>195014.221626</td>\n",
              "    </tr>\n",
              "    <tr>\n",
              "      <th>2</th>\n",
              "      <td>1860</td>\n",
              "      <td>2</td>\n",
              "      <td>1</td>\n",
              "      <td>Suburb</td>\n",
              "      <td>1970</td>\n",
              "      <td>306891.012076</td>\n",
              "    </tr>\n",
              "    <tr>\n",
              "      <th>3</th>\n",
              "      <td>2294</td>\n",
              "      <td>2</td>\n",
              "      <td>1</td>\n",
              "      <td>Urban</td>\n",
              "      <td>1996</td>\n",
              "      <td>206786.787153</td>\n",
              "    </tr>\n",
              "    <tr>\n",
              "      <th>4</th>\n",
              "      <td>2130</td>\n",
              "      <td>5</td>\n",
              "      <td>2</td>\n",
              "      <td>Suburb</td>\n",
              "      <td>2001</td>\n",
              "      <td>272436.239065</td>\n",
              "    </tr>\n",
              "    <tr>\n",
              "      <th>5</th>\n",
              "      <td>2095</td>\n",
              "      <td>2</td>\n",
              "      <td>3</td>\n",
              "      <td>Suburb</td>\n",
              "      <td>2020</td>\n",
              "      <td>198208.803907</td>\n",
              "    </tr>\n",
              "  </tbody>\n",
              "</table>\n",
              "</div>\n",
              "    <div class=\"colab-df-buttons\">\n",
              "\n",
              "  <div class=\"colab-df-container\">\n",
              "    <button class=\"colab-df-convert\" onclick=\"convertToInteractive('df-2b74164a-9617-4e20-9169-b362c5503342')\"\n",
              "            title=\"Convert this dataframe to an interactive table.\"\n",
              "            style=\"display:none;\">\n",
              "\n",
              "  <svg xmlns=\"http://www.w3.org/2000/svg\" height=\"24px\" viewBox=\"0 -960 960 960\">\n",
              "    <path d=\"M120-120v-720h720v720H120Zm60-500h600v-160H180v160Zm220 220h160v-160H400v160Zm0 220h160v-160H400v160ZM180-400h160v-160H180v160Zm440 0h160v-160H620v160ZM180-180h160v-160H180v160Zm440 0h160v-160H620v160Z\"/>\n",
              "  </svg>\n",
              "    </button>\n",
              "\n",
              "  <style>\n",
              "    .colab-df-container {\n",
              "      display:flex;\n",
              "      gap: 12px;\n",
              "    }\n",
              "\n",
              "    .colab-df-convert {\n",
              "      background-color: #E8F0FE;\n",
              "      border: none;\n",
              "      border-radius: 50%;\n",
              "      cursor: pointer;\n",
              "      display: none;\n",
              "      fill: #1967D2;\n",
              "      height: 32px;\n",
              "      padding: 0 0 0 0;\n",
              "      width: 32px;\n",
              "    }\n",
              "\n",
              "    .colab-df-convert:hover {\n",
              "      background-color: #E2EBFA;\n",
              "      box-shadow: 0px 1px 2px rgba(60, 64, 67, 0.3), 0px 1px 3px 1px rgba(60, 64, 67, 0.15);\n",
              "      fill: #174EA6;\n",
              "    }\n",
              "\n",
              "    .colab-df-buttons div {\n",
              "      margin-bottom: 4px;\n",
              "    }\n",
              "\n",
              "    [theme=dark] .colab-df-convert {\n",
              "      background-color: #3B4455;\n",
              "      fill: #D2E3FC;\n",
              "    }\n",
              "\n",
              "    [theme=dark] .colab-df-convert:hover {\n",
              "      background-color: #434B5C;\n",
              "      box-shadow: 0px 1px 3px 1px rgba(0, 0, 0, 0.15);\n",
              "      filter: drop-shadow(0px 1px 2px rgba(0, 0, 0, 0.3));\n",
              "      fill: #FFFFFF;\n",
              "    }\n",
              "  </style>\n",
              "\n",
              "    <script>\n",
              "      const buttonEl =\n",
              "        document.querySelector('#df-2b74164a-9617-4e20-9169-b362c5503342 button.colab-df-convert');\n",
              "      buttonEl.style.display =\n",
              "        google.colab.kernel.accessAllowed ? 'block' : 'none';\n",
              "\n",
              "      async function convertToInteractive(key) {\n",
              "        const element = document.querySelector('#df-2b74164a-9617-4e20-9169-b362c5503342');\n",
              "        const dataTable =\n",
              "          await google.colab.kernel.invokeFunction('convertToInteractive',\n",
              "                                                    [key], {});\n",
              "        if (!dataTable) return;\n",
              "\n",
              "        const docLinkHtml = 'Like what you see? Visit the ' +\n",
              "          '<a target=\"_blank\" href=https://colab.research.google.com/notebooks/data_table.ipynb>data table notebook</a>'\n",
              "          + ' to learn more about interactive tables.';\n",
              "        element.innerHTML = '';\n",
              "        dataTable['output_type'] = 'display_data';\n",
              "        await google.colab.output.renderOutput(dataTable, element);\n",
              "        const docLink = document.createElement('div');\n",
              "        docLink.innerHTML = docLinkHtml;\n",
              "        element.appendChild(docLink);\n",
              "      }\n",
              "    </script>\n",
              "  </div>\n",
              "\n",
              "\n",
              "<div id=\"df-b3549451-9b88-4a27-92c0-38a34ac5f99a\">\n",
              "  <button class=\"colab-df-quickchart\" onclick=\"quickchart('df-b3549451-9b88-4a27-92c0-38a34ac5f99a')\"\n",
              "            title=\"Suggest charts\"\n",
              "            style=\"display:none;\">\n",
              "\n",
              "<svg xmlns=\"http://www.w3.org/2000/svg\" height=\"24px\"viewBox=\"0 0 24 24\"\n",
              "     width=\"24px\">\n",
              "    <g>\n",
              "        <path d=\"M19 3H5c-1.1 0-2 .9-2 2v14c0 1.1.9 2 2 2h14c1.1 0 2-.9 2-2V5c0-1.1-.9-2-2-2zM9 17H7v-7h2v7zm4 0h-2V7h2v10zm4 0h-2v-4h2v4z\"/>\n",
              "    </g>\n",
              "</svg>\n",
              "  </button>\n",
              "\n",
              "<style>\n",
              "  .colab-df-quickchart {\n",
              "      --bg-color: #E8F0FE;\n",
              "      --fill-color: #1967D2;\n",
              "      --hover-bg-color: #E2EBFA;\n",
              "      --hover-fill-color: #174EA6;\n",
              "      --disabled-fill-color: #AAA;\n",
              "      --disabled-bg-color: #DDD;\n",
              "  }\n",
              "\n",
              "  [theme=dark] .colab-df-quickchart {\n",
              "      --bg-color: #3B4455;\n",
              "      --fill-color: #D2E3FC;\n",
              "      --hover-bg-color: #434B5C;\n",
              "      --hover-fill-color: #FFFFFF;\n",
              "      --disabled-bg-color: #3B4455;\n",
              "      --disabled-fill-color: #666;\n",
              "  }\n",
              "\n",
              "  .colab-df-quickchart {\n",
              "    background-color: var(--bg-color);\n",
              "    border: none;\n",
              "    border-radius: 50%;\n",
              "    cursor: pointer;\n",
              "    display: none;\n",
              "    fill: var(--fill-color);\n",
              "    height: 32px;\n",
              "    padding: 0;\n",
              "    width: 32px;\n",
              "  }\n",
              "\n",
              "  .colab-df-quickchart:hover {\n",
              "    background-color: var(--hover-bg-color);\n",
              "    box-shadow: 0 1px 2px rgba(60, 64, 67, 0.3), 0 1px 3px 1px rgba(60, 64, 67, 0.15);\n",
              "    fill: var(--button-hover-fill-color);\n",
              "  }\n",
              "\n",
              "  .colab-df-quickchart-complete:disabled,\n",
              "  .colab-df-quickchart-complete:disabled:hover {\n",
              "    background-color: var(--disabled-bg-color);\n",
              "    fill: var(--disabled-fill-color);\n",
              "    box-shadow: none;\n",
              "  }\n",
              "\n",
              "  .colab-df-spinner {\n",
              "    border: 2px solid var(--fill-color);\n",
              "    border-color: transparent;\n",
              "    border-bottom-color: var(--fill-color);\n",
              "    animation:\n",
              "      spin 1s steps(1) infinite;\n",
              "  }\n",
              "\n",
              "  @keyframes spin {\n",
              "    0% {\n",
              "      border-color: transparent;\n",
              "      border-bottom-color: var(--fill-color);\n",
              "      border-left-color: var(--fill-color);\n",
              "    }\n",
              "    20% {\n",
              "      border-color: transparent;\n",
              "      border-left-color: var(--fill-color);\n",
              "      border-top-color: var(--fill-color);\n",
              "    }\n",
              "    30% {\n",
              "      border-color: transparent;\n",
              "      border-left-color: var(--fill-color);\n",
              "      border-top-color: var(--fill-color);\n",
              "      border-right-color: var(--fill-color);\n",
              "    }\n",
              "    40% {\n",
              "      border-color: transparent;\n",
              "      border-right-color: var(--fill-color);\n",
              "      border-top-color: var(--fill-color);\n",
              "    }\n",
              "    60% {\n",
              "      border-color: transparent;\n",
              "      border-right-color: var(--fill-color);\n",
              "    }\n",
              "    80% {\n",
              "      border-color: transparent;\n",
              "      border-right-color: var(--fill-color);\n",
              "      border-bottom-color: var(--fill-color);\n",
              "    }\n",
              "    90% {\n",
              "      border-color: transparent;\n",
              "      border-bottom-color: var(--fill-color);\n",
              "    }\n",
              "  }\n",
              "</style>\n",
              "\n",
              "  <script>\n",
              "    async function quickchart(key) {\n",
              "      const quickchartButtonEl =\n",
              "        document.querySelector('#' + key + ' button');\n",
              "      quickchartButtonEl.disabled = true;  // To prevent multiple clicks.\n",
              "      quickchartButtonEl.classList.add('colab-df-spinner');\n",
              "      try {\n",
              "        const charts = await google.colab.kernel.invokeFunction(\n",
              "            'suggestCharts', [key], {});\n",
              "      } catch (error) {\n",
              "        console.error('Error during call to suggestCharts:', error);\n",
              "      }\n",
              "      quickchartButtonEl.classList.remove('colab-df-spinner');\n",
              "      quickchartButtonEl.classList.add('colab-df-quickchart-complete');\n",
              "    }\n",
              "    (() => {\n",
              "      let quickchartButtonEl =\n",
              "        document.querySelector('#df-b3549451-9b88-4a27-92c0-38a34ac5f99a button');\n",
              "      quickchartButtonEl.style.display =\n",
              "        google.colab.kernel.accessAllowed ? 'block' : 'none';\n",
              "    })();\n",
              "  </script>\n",
              "</div>\n",
              "    </div>\n",
              "  </div>\n"
            ],
            "application/vnd.google.colaboratory.intrinsic+json": {
              "type": "dataframe",
              "variable_name": "data",
              "summary": "{\n  \"name\": \"data\",\n  \"rows\": 50000,\n  \"fields\": [\n    {\n      \"column\": \"SquareFeet\",\n      \"properties\": {\n        \"dtype\": \"number\",\n        \"std\": 575,\n        \"min\": 1000,\n        \"max\": 2999,\n        \"num_unique_values\": 2000,\n        \"samples\": [\n          2578,\n          2250,\n          1585\n        ],\n        \"semantic_type\": \"\",\n        \"description\": \"\"\n      }\n    },\n    {\n      \"column\": \"Bedrooms\",\n      \"properties\": {\n        \"dtype\": \"number\",\n        \"std\": 1,\n        \"min\": 2,\n        \"max\": 5,\n        \"num_unique_values\": 4,\n        \"samples\": [\n          3,\n          5,\n          4\n        ],\n        \"semantic_type\": \"\",\n        \"description\": \"\"\n      }\n    },\n    {\n      \"column\": \"Bathrooms\",\n      \"properties\": {\n        \"dtype\": \"number\",\n        \"std\": 0,\n        \"min\": 1,\n        \"max\": 3,\n        \"num_unique_values\": 3,\n        \"samples\": [\n          1,\n          2,\n          3\n        ],\n        \"semantic_type\": \"\",\n        \"description\": \"\"\n      }\n    },\n    {\n      \"column\": \"Neighborhood\",\n      \"properties\": {\n        \"dtype\": \"category\",\n        \"num_unique_values\": 3,\n        \"samples\": [\n          \"Rural\",\n          \"Suburb\",\n          \"Urban\"\n        ],\n        \"semantic_type\": \"\",\n        \"description\": \"\"\n      }\n    },\n    {\n      \"column\": \"YearBuilt\",\n      \"properties\": {\n        \"dtype\": \"number\",\n        \"std\": 20,\n        \"min\": 1950,\n        \"max\": 2021,\n        \"num_unique_values\": 72,\n        \"samples\": [\n          2001,\n          1967,\n          1962\n        ],\n        \"semantic_type\": \"\",\n        \"description\": \"\"\n      }\n    },\n    {\n      \"column\": \"Price\",\n      \"properties\": {\n        \"dtype\": \"number\",\n        \"std\": 76141.84296604691,\n        \"min\": -36588.16539749279,\n        \"max\": 492195.2599720151,\n        \"num_unique_values\": 50000,\n        \"samples\": [\n          170835.03571295898,\n          126913.4699981214,\n          246611.88309182983\n        ],\n        \"semantic_type\": \"\",\n        \"description\": \"\"\n      }\n    }\n  ]\n}"
            }
          },
          "metadata": {},
          "execution_count": 52
        }
      ]
    },
    {
      "cell_type": "code",
      "source": [
        "data.shape"
      ],
      "metadata": {
        "colab": {
          "base_uri": "https://localhost:8080/"
        },
        "id": "CEdCzcUryziX",
        "outputId": "3d7aa8cd-5a8d-4abb-c65c-01d9224b00a6"
      },
      "execution_count": null,
      "outputs": [
        {
          "output_type": "execute_result",
          "data": {
            "text/plain": [
              "(50000, 6)"
            ]
          },
          "metadata": {},
          "execution_count": 53
        }
      ]
    },
    {
      "cell_type": "code",
      "source": [
        "num_columns = data.select_dtypes(include=[\"int64\",\"float64\"]).columns.tolist()\n",
        "print(\"Columnas numéricas: \", num_columns)\n",
        "\n",
        "cat_columns = data.select_dtypes(include=[\"object\"]).columns.tolist()\n",
        "print(\"Columnas categóricas: \", cat_columns)"
      ],
      "metadata": {
        "colab": {
          "base_uri": "https://localhost:8080/"
        },
        "id": "rGuOPlV3TzSs",
        "outputId": "d5b6d0a0-03d9-42a5-ec69-5ec866e43354"
      },
      "execution_count": null,
      "outputs": [
        {
          "output_type": "stream",
          "name": "stdout",
          "text": [
            "Columnas numéricas:  ['SquareFeet', 'Bedrooms', 'Bathrooms', 'YearBuilt', 'Price']\n",
            "Columnas categóricas:  ['Neighborhood']\n"
          ]
        }
      ]
    },
    {
      "cell_type": "code",
      "source": [
        "target_column = \"Price\"\n",
        "\n",
        "num_pred_columns = num_columns\n",
        "num_pred_columns.remove(target_column)\n",
        "print(\"Columnas numéricas predictoras: \", num_pred_columns)"
      ],
      "metadata": {
        "colab": {
          "base_uri": "https://localhost:8080/"
        },
        "id": "C5Nh7ECdfQ4C",
        "outputId": "8e84fa7b-affe-43e0-beae-173723552730"
      },
      "execution_count": null,
      "outputs": [
        {
          "output_type": "stream",
          "name": "stdout",
          "text": [
            "Columnas numéricas predictoras:  ['SquareFeet', 'Bedrooms', 'Bathrooms', 'YearBuilt']\n"
          ]
        }
      ]
    },
    {
      "cell_type": "code",
      "source": [
        "data.describe().T"
      ],
      "metadata": {
        "colab": {
          "base_uri": "https://localhost:8080/",
          "height": 206
        },
        "id": "rYIYgsvcy3bB",
        "outputId": "cb46e02a-6a27-4047-a09f-33eb3d8a228c"
      },
      "execution_count": null,
      "outputs": [
        {
          "output_type": "execute_result",
          "data": {
            "text/plain": [
              "              count           mean           std           min            25%  \\\n",
              "SquareFeet  50000.0    2006.374680    575.513241   1000.000000    1513.000000   \n",
              "Bedrooms    50000.0       3.498700      1.116326      2.000000       3.000000   \n",
              "Bathrooms   50000.0       1.995420      0.815851      1.000000       1.000000   \n",
              "YearBuilt   50000.0    1985.404420     20.719377   1950.000000    1967.000000   \n",
              "Price       50000.0  224827.325151  76141.842966 -36588.165397  169955.860225   \n",
              "\n",
              "                      50%            75%            max  \n",
              "SquareFeet    2007.000000    2506.000000    2999.000000  \n",
              "Bedrooms         3.000000       4.000000       5.000000  \n",
              "Bathrooms        2.000000       3.000000       3.000000  \n",
              "YearBuilt     1985.000000    2003.000000    2021.000000  \n",
              "Price       225052.141166  279373.630052  492195.259972  "
            ],
            "text/html": [
              "\n",
              "  <div id=\"df-d908e2e6-75b5-4f24-b457-d64759502b48\" class=\"colab-df-container\">\n",
              "    <div>\n",
              "<style scoped>\n",
              "    .dataframe tbody tr th:only-of-type {\n",
              "        vertical-align: middle;\n",
              "    }\n",
              "\n",
              "    .dataframe tbody tr th {\n",
              "        vertical-align: top;\n",
              "    }\n",
              "\n",
              "    .dataframe thead th {\n",
              "        text-align: right;\n",
              "    }\n",
              "</style>\n",
              "<table border=\"1\" class=\"dataframe\">\n",
              "  <thead>\n",
              "    <tr style=\"text-align: right;\">\n",
              "      <th></th>\n",
              "      <th>count</th>\n",
              "      <th>mean</th>\n",
              "      <th>std</th>\n",
              "      <th>min</th>\n",
              "      <th>25%</th>\n",
              "      <th>50%</th>\n",
              "      <th>75%</th>\n",
              "      <th>max</th>\n",
              "    </tr>\n",
              "  </thead>\n",
              "  <tbody>\n",
              "    <tr>\n",
              "      <th>SquareFeet</th>\n",
              "      <td>50000.0</td>\n",
              "      <td>2006.374680</td>\n",
              "      <td>575.513241</td>\n",
              "      <td>1000.000000</td>\n",
              "      <td>1513.000000</td>\n",
              "      <td>2007.000000</td>\n",
              "      <td>2506.000000</td>\n",
              "      <td>2999.000000</td>\n",
              "    </tr>\n",
              "    <tr>\n",
              "      <th>Bedrooms</th>\n",
              "      <td>50000.0</td>\n",
              "      <td>3.498700</td>\n",
              "      <td>1.116326</td>\n",
              "      <td>2.000000</td>\n",
              "      <td>3.000000</td>\n",
              "      <td>3.000000</td>\n",
              "      <td>4.000000</td>\n",
              "      <td>5.000000</td>\n",
              "    </tr>\n",
              "    <tr>\n",
              "      <th>Bathrooms</th>\n",
              "      <td>50000.0</td>\n",
              "      <td>1.995420</td>\n",
              "      <td>0.815851</td>\n",
              "      <td>1.000000</td>\n",
              "      <td>1.000000</td>\n",
              "      <td>2.000000</td>\n",
              "      <td>3.000000</td>\n",
              "      <td>3.000000</td>\n",
              "    </tr>\n",
              "    <tr>\n",
              "      <th>YearBuilt</th>\n",
              "      <td>50000.0</td>\n",
              "      <td>1985.404420</td>\n",
              "      <td>20.719377</td>\n",
              "      <td>1950.000000</td>\n",
              "      <td>1967.000000</td>\n",
              "      <td>1985.000000</td>\n",
              "      <td>2003.000000</td>\n",
              "      <td>2021.000000</td>\n",
              "    </tr>\n",
              "    <tr>\n",
              "      <th>Price</th>\n",
              "      <td>50000.0</td>\n",
              "      <td>224827.325151</td>\n",
              "      <td>76141.842966</td>\n",
              "      <td>-36588.165397</td>\n",
              "      <td>169955.860225</td>\n",
              "      <td>225052.141166</td>\n",
              "      <td>279373.630052</td>\n",
              "      <td>492195.259972</td>\n",
              "    </tr>\n",
              "  </tbody>\n",
              "</table>\n",
              "</div>\n",
              "    <div class=\"colab-df-buttons\">\n",
              "\n",
              "  <div class=\"colab-df-container\">\n",
              "    <button class=\"colab-df-convert\" onclick=\"convertToInteractive('df-d908e2e6-75b5-4f24-b457-d64759502b48')\"\n",
              "            title=\"Convert this dataframe to an interactive table.\"\n",
              "            style=\"display:none;\">\n",
              "\n",
              "  <svg xmlns=\"http://www.w3.org/2000/svg\" height=\"24px\" viewBox=\"0 -960 960 960\">\n",
              "    <path d=\"M120-120v-720h720v720H120Zm60-500h600v-160H180v160Zm220 220h160v-160H400v160Zm0 220h160v-160H400v160ZM180-400h160v-160H180v160Zm440 0h160v-160H620v160ZM180-180h160v-160H180v160Zm440 0h160v-160H620v160Z\"/>\n",
              "  </svg>\n",
              "    </button>\n",
              "\n",
              "  <style>\n",
              "    .colab-df-container {\n",
              "      display:flex;\n",
              "      gap: 12px;\n",
              "    }\n",
              "\n",
              "    .colab-df-convert {\n",
              "      background-color: #E8F0FE;\n",
              "      border: none;\n",
              "      border-radius: 50%;\n",
              "      cursor: pointer;\n",
              "      display: none;\n",
              "      fill: #1967D2;\n",
              "      height: 32px;\n",
              "      padding: 0 0 0 0;\n",
              "      width: 32px;\n",
              "    }\n",
              "\n",
              "    .colab-df-convert:hover {\n",
              "      background-color: #E2EBFA;\n",
              "      box-shadow: 0px 1px 2px rgba(60, 64, 67, 0.3), 0px 1px 3px 1px rgba(60, 64, 67, 0.15);\n",
              "      fill: #174EA6;\n",
              "    }\n",
              "\n",
              "    .colab-df-buttons div {\n",
              "      margin-bottom: 4px;\n",
              "    }\n",
              "\n",
              "    [theme=dark] .colab-df-convert {\n",
              "      background-color: #3B4455;\n",
              "      fill: #D2E3FC;\n",
              "    }\n",
              "\n",
              "    [theme=dark] .colab-df-convert:hover {\n",
              "      background-color: #434B5C;\n",
              "      box-shadow: 0px 1px 3px 1px rgba(0, 0, 0, 0.15);\n",
              "      filter: drop-shadow(0px 1px 2px rgba(0, 0, 0, 0.3));\n",
              "      fill: #FFFFFF;\n",
              "    }\n",
              "  </style>\n",
              "\n",
              "    <script>\n",
              "      const buttonEl =\n",
              "        document.querySelector('#df-d908e2e6-75b5-4f24-b457-d64759502b48 button.colab-df-convert');\n",
              "      buttonEl.style.display =\n",
              "        google.colab.kernel.accessAllowed ? 'block' : 'none';\n",
              "\n",
              "      async function convertToInteractive(key) {\n",
              "        const element = document.querySelector('#df-d908e2e6-75b5-4f24-b457-d64759502b48');\n",
              "        const dataTable =\n",
              "          await google.colab.kernel.invokeFunction('convertToInteractive',\n",
              "                                                    [key], {});\n",
              "        if (!dataTable) return;\n",
              "\n",
              "        const docLinkHtml = 'Like what you see? Visit the ' +\n",
              "          '<a target=\"_blank\" href=https://colab.research.google.com/notebooks/data_table.ipynb>data table notebook</a>'\n",
              "          + ' to learn more about interactive tables.';\n",
              "        element.innerHTML = '';\n",
              "        dataTable['output_type'] = 'display_data';\n",
              "        await google.colab.output.renderOutput(dataTable, element);\n",
              "        const docLink = document.createElement('div');\n",
              "        docLink.innerHTML = docLinkHtml;\n",
              "        element.appendChild(docLink);\n",
              "      }\n",
              "    </script>\n",
              "  </div>\n",
              "\n",
              "\n",
              "<div id=\"df-4ca4d088-d9fc-4859-8c10-7dd673677e32\">\n",
              "  <button class=\"colab-df-quickchart\" onclick=\"quickchart('df-4ca4d088-d9fc-4859-8c10-7dd673677e32')\"\n",
              "            title=\"Suggest charts\"\n",
              "            style=\"display:none;\">\n",
              "\n",
              "<svg xmlns=\"http://www.w3.org/2000/svg\" height=\"24px\"viewBox=\"0 0 24 24\"\n",
              "     width=\"24px\">\n",
              "    <g>\n",
              "        <path d=\"M19 3H5c-1.1 0-2 .9-2 2v14c0 1.1.9 2 2 2h14c1.1 0 2-.9 2-2V5c0-1.1-.9-2-2-2zM9 17H7v-7h2v7zm4 0h-2V7h2v10zm4 0h-2v-4h2v4z\"/>\n",
              "    </g>\n",
              "</svg>\n",
              "  </button>\n",
              "\n",
              "<style>\n",
              "  .colab-df-quickchart {\n",
              "      --bg-color: #E8F0FE;\n",
              "      --fill-color: #1967D2;\n",
              "      --hover-bg-color: #E2EBFA;\n",
              "      --hover-fill-color: #174EA6;\n",
              "      --disabled-fill-color: #AAA;\n",
              "      --disabled-bg-color: #DDD;\n",
              "  }\n",
              "\n",
              "  [theme=dark] .colab-df-quickchart {\n",
              "      --bg-color: #3B4455;\n",
              "      --fill-color: #D2E3FC;\n",
              "      --hover-bg-color: #434B5C;\n",
              "      --hover-fill-color: #FFFFFF;\n",
              "      --disabled-bg-color: #3B4455;\n",
              "      --disabled-fill-color: #666;\n",
              "  }\n",
              "\n",
              "  .colab-df-quickchart {\n",
              "    background-color: var(--bg-color);\n",
              "    border: none;\n",
              "    border-radius: 50%;\n",
              "    cursor: pointer;\n",
              "    display: none;\n",
              "    fill: var(--fill-color);\n",
              "    height: 32px;\n",
              "    padding: 0;\n",
              "    width: 32px;\n",
              "  }\n",
              "\n",
              "  .colab-df-quickchart:hover {\n",
              "    background-color: var(--hover-bg-color);\n",
              "    box-shadow: 0 1px 2px rgba(60, 64, 67, 0.3), 0 1px 3px 1px rgba(60, 64, 67, 0.15);\n",
              "    fill: var(--button-hover-fill-color);\n",
              "  }\n",
              "\n",
              "  .colab-df-quickchart-complete:disabled,\n",
              "  .colab-df-quickchart-complete:disabled:hover {\n",
              "    background-color: var(--disabled-bg-color);\n",
              "    fill: var(--disabled-fill-color);\n",
              "    box-shadow: none;\n",
              "  }\n",
              "\n",
              "  .colab-df-spinner {\n",
              "    border: 2px solid var(--fill-color);\n",
              "    border-color: transparent;\n",
              "    border-bottom-color: var(--fill-color);\n",
              "    animation:\n",
              "      spin 1s steps(1) infinite;\n",
              "  }\n",
              "\n",
              "  @keyframes spin {\n",
              "    0% {\n",
              "      border-color: transparent;\n",
              "      border-bottom-color: var(--fill-color);\n",
              "      border-left-color: var(--fill-color);\n",
              "    }\n",
              "    20% {\n",
              "      border-color: transparent;\n",
              "      border-left-color: var(--fill-color);\n",
              "      border-top-color: var(--fill-color);\n",
              "    }\n",
              "    30% {\n",
              "      border-color: transparent;\n",
              "      border-left-color: var(--fill-color);\n",
              "      border-top-color: var(--fill-color);\n",
              "      border-right-color: var(--fill-color);\n",
              "    }\n",
              "    40% {\n",
              "      border-color: transparent;\n",
              "      border-right-color: var(--fill-color);\n",
              "      border-top-color: var(--fill-color);\n",
              "    }\n",
              "    60% {\n",
              "      border-color: transparent;\n",
              "      border-right-color: var(--fill-color);\n",
              "    }\n",
              "    80% {\n",
              "      border-color: transparent;\n",
              "      border-right-color: var(--fill-color);\n",
              "      border-bottom-color: var(--fill-color);\n",
              "    }\n",
              "    90% {\n",
              "      border-color: transparent;\n",
              "      border-bottom-color: var(--fill-color);\n",
              "    }\n",
              "  }\n",
              "</style>\n",
              "\n",
              "  <script>\n",
              "    async function quickchart(key) {\n",
              "      const quickchartButtonEl =\n",
              "        document.querySelector('#' + key + ' button');\n",
              "      quickchartButtonEl.disabled = true;  // To prevent multiple clicks.\n",
              "      quickchartButtonEl.classList.add('colab-df-spinner');\n",
              "      try {\n",
              "        const charts = await google.colab.kernel.invokeFunction(\n",
              "            'suggestCharts', [key], {});\n",
              "      } catch (error) {\n",
              "        console.error('Error during call to suggestCharts:', error);\n",
              "      }\n",
              "      quickchartButtonEl.classList.remove('colab-df-spinner');\n",
              "      quickchartButtonEl.classList.add('colab-df-quickchart-complete');\n",
              "    }\n",
              "    (() => {\n",
              "      let quickchartButtonEl =\n",
              "        document.querySelector('#df-4ca4d088-d9fc-4859-8c10-7dd673677e32 button');\n",
              "      quickchartButtonEl.style.display =\n",
              "        google.colab.kernel.accessAllowed ? 'block' : 'none';\n",
              "    })();\n",
              "  </script>\n",
              "</div>\n",
              "    </div>\n",
              "  </div>\n"
            ],
            "application/vnd.google.colaboratory.intrinsic+json": {
              "type": "dataframe",
              "summary": "{\n  \"name\": \"data\",\n  \"rows\": 5,\n  \"fields\": [\n    {\n      \"column\": \"count\",\n      \"properties\": {\n        \"dtype\": \"number\",\n        \"std\": 0.0,\n        \"min\": 50000.0,\n        \"max\": 50000.0,\n        \"num_unique_values\": 1,\n        \"samples\": [\n          50000.0\n        ],\n        \"semantic_type\": \"\",\n        \"description\": \"\"\n      }\n    },\n    {\n      \"column\": \"mean\",\n      \"properties\": {\n        \"dtype\": \"number\",\n        \"std\": 100103.88873179487,\n        \"min\": 1.99542,\n        \"max\": 224827.32515099045,\n        \"num_unique_values\": 5,\n        \"samples\": [\n          3.4987\n        ],\n        \"semantic_type\": \"\",\n        \"description\": \"\"\n      }\n    },\n    {\n      \"column\": \"std\",\n      \"properties\": {\n        \"dtype\": \"number\",\n        \"std\": 33985.68131855709,\n        \"min\": 0.8158506823228849,\n        \"max\": 76141.84296604691,\n        \"num_unique_values\": 5,\n        \"samples\": [\n          1.1163257739856558\n        ],\n        \"semantic_type\": \"\",\n        \"description\": \"\"\n      }\n    },\n    {\n      \"column\": \"min\",\n      \"properties\": {\n        \"dtype\": \"number\",\n        \"std\": 16712.506409055986,\n        \"min\": -36588.16539749279,\n        \"max\": 1950.0,\n        \"num_unique_values\": 5,\n        \"samples\": [\n          2.0\n        ],\n        \"semantic_type\": \"\",\n        \"description\": \"\"\n      }\n    },\n    {\n      \"column\": \"25%\",\n      \"properties\": {\n        \"dtype\": \"number\",\n        \"std\": 75622.21179963209,\n        \"min\": 1.0,\n        \"max\": 169955.8602251014,\n        \"num_unique_values\": 5,\n        \"samples\": [\n          3.0\n        ],\n        \"semantic_type\": \"\",\n        \"description\": \"\"\n      }\n    },\n    {\n      \"column\": \"50%\",\n      \"properties\": {\n        \"dtype\": \"number\",\n        \"std\": 100204.4568826983,\n        \"min\": 2.0,\n        \"max\": 225052.14116600397,\n        \"num_unique_values\": 5,\n        \"samples\": [\n          3.0\n        ],\n        \"semantic_type\": \"\",\n        \"description\": \"\"\n      }\n    },\n    {\n      \"column\": \"75%\",\n      \"properties\": {\n        \"dtype\": \"number\",\n        \"std\": 124439.99842129453,\n        \"min\": 3.0,\n        \"max\": 279373.6300523317,\n        \"num_unique_values\": 5,\n        \"samples\": [\n          4.0\n        ],\n        \"semantic_type\": \"\",\n        \"description\": \"\"\n      }\n    },\n    {\n      \"column\": \"max\",\n      \"properties\": {\n        \"dtype\": \"number\",\n        \"std\": 219558.1121044494,\n        \"min\": 3.0,\n        \"max\": 492195.2599720151,\n        \"num_unique_values\": 5,\n        \"samples\": [\n          5.0\n        ],\n        \"semantic_type\": \"\",\n        \"description\": \"\"\n      }\n    }\n  ]\n}"
            }
          },
          "metadata": {},
          "execution_count": 56
        }
      ]
    },
    {
      "cell_type": "code",
      "source": [
        "data.isnull().sum()"
      ],
      "metadata": {
        "colab": {
          "base_uri": "https://localhost:8080/"
        },
        "id": "RBPJfUczzatU",
        "outputId": "a3e76e15-714e-4ace-ef74-d9cb0a36475d"
      },
      "execution_count": null,
      "outputs": [
        {
          "output_type": "execute_result",
          "data": {
            "text/plain": [
              "SquareFeet      0\n",
              "Bedrooms        0\n",
              "Bathrooms       0\n",
              "Neighborhood    0\n",
              "YearBuilt       0\n",
              "Price           0\n",
              "dtype: int64"
            ]
          },
          "metadata": {},
          "execution_count": 57
        }
      ]
    },
    {
      "cell_type": "code",
      "source": [
        "data.drop_duplicates(subset=\"Price\", inplace=True)"
      ],
      "metadata": {
        "id": "MXCZ1od0ROQs"
      },
      "execution_count": null,
      "outputs": []
    },
    {
      "cell_type": "code",
      "source": [
        "data[\"Neighborhood\"].value_counts()"
      ],
      "metadata": {
        "colab": {
          "base_uri": "https://localhost:8080/"
        },
        "id": "QTCxV6KcR5VS",
        "outputId": "55355edf-17a7-44bd-b6d5-ed36df8e892d"
      },
      "execution_count": null,
      "outputs": [
        {
          "output_type": "execute_result",
          "data": {
            "text/plain": [
              "Neighborhood\n",
              "Suburb    16721\n",
              "Rural     16676\n",
              "Urban     16603\n",
              "Name: count, dtype: int64"
            ]
          },
          "metadata": {},
          "execution_count": 59
        }
      ]
    },
    {
      "cell_type": "markdown",
      "source": [
        "# **Ridge Regression**"
      ],
      "metadata": {
        "id": "14J_Pv6nSfyJ"
      }
    },
    {
      "cell_type": "code",
      "source": [
        "from sklearn.pipeline import Pipeline\n",
        "from sklearn.linear_model import Ridge\n",
        "from sklearn.preprocessing import StandardScaler, OneHotEncoder, MinMaxScaler, RobustScaler, OneHotEncoder\n",
        "from sklearn.compose import ColumnTransformer\n",
        "from sklearn.decomposition import PCA\n",
        "\n",
        "# CONSTRUCCIÓN DEL PIPELINE CON REGRESIÓN RIDGE\n",
        "# Transformador para columnas numéricas.\n",
        "numeric_transformer = Pipeline(steps=[\n",
        "    ('scaler', StandardScaler()),\n",
        "    #('pca', PCA(n_components=2))\n",
        "])\n",
        "\n",
        "# Transformador para columnas categóricas.\n",
        "categorical_transformer = Pipeline(steps=[\n",
        "    ('onehot', OneHotEncoder(handle_unknown='ignore'))\n",
        "])\n",
        "\n",
        "# Integramos ambos en un preprocesador con ColumnTransformer, indicando el transformador y la lista de columnas a aplicar.\n",
        "preprocessor = ColumnTransformer(\n",
        "    transformers=[\n",
        "        ('num', numeric_transformer, num_pred_columns),\n",
        "        ('cat', categorical_transformer, cat_columns)\n",
        "    ]\n",
        ")\n",
        "\n",
        "# Creamos el pipeline completo incluyendo ahora sí el estimador, en este caso un Regresor Lineal.\n",
        "model = Pipeline(steps=[\n",
        "    ('preprocessor', preprocessor),\n",
        "    ('regressor', Ridge())\n",
        "])"
      ],
      "metadata": {
        "id": "btQ6uxoqSj2_"
      },
      "execution_count": null,
      "outputs": []
    },
    {
      "cell_type": "code",
      "source": [
        "# DIVISIÓN ENTRE COLUMNAS PREDICTIVAS Y OBJETIVO\n",
        "# Separar columnas predictoras de columna objetivo\n",
        "X = data.drop(columns=target_column)\n",
        "y = data[target_column]"
      ],
      "metadata": {
        "id": "5JvlVmP9TVjh"
      },
      "execution_count": null,
      "outputs": []
    },
    {
      "cell_type": "code",
      "source": [
        "from sklearn.model_selection import train_test_split, GridSearchCV, cross_val_score, KFold\n",
        "\n",
        "# DIVISIÓN ENTRE DATOS DE ENTRENAMIENTO Y DATOS DE TESTEO\n",
        "# Seleccionamos una proporción de 80% de los datos para entrenamiento y 20% para el testeo.\n",
        "X_train, X_test, y_train, y_test = train_test_split(X, y, test_size=0.2)\n",
        "\n",
        "print(\"Tamaño datos de entrenamiento:\", X_train.shape)\n",
        "print(\"Tamaño datos de testeo:\", X_test.shape)"
      ],
      "metadata": {
        "colab": {
          "base_uri": "https://localhost:8080/"
        },
        "id": "q_qFrWgXTX5Z",
        "outputId": "c5f5eb83-2399-496f-9b66-1e56b44c079b"
      },
      "execution_count": null,
      "outputs": [
        {
          "output_type": "stream",
          "name": "stdout",
          "text": [
            "Tamaño datos de entrenamiento: (40000, 5)\n",
            "Tamaño datos de testeo: (10000, 5)\n"
          ]
        }
      ]
    },
    {
      "cell_type": "code",
      "source": [
        "\"\"\"\n",
        "Introducimos aquí el objeto GridSearchCV. Es una modificación de la Validación Cruzada original, pero en este caso\n",
        "para optimización de hiperparámetros. Las regularizaciones es un buen ejemplo puesto que desconocemos el valor\n",
        "óptimo del parametro alpha. GridSearchCV es una herramienta de \"búsqueda exaustiva\" que como su propio nombre nod\n",
        "dice nos permite probar con todas las combinaciones de hiperparámetros que le indiquemos, devolviéndonos\n",
        "aquel en el que conseguimos mejores puntuaciones. Evidentemente esto eleva la cantidad de cómputo y de tiempo\n",
        "necesario.\n",
        "\n",
        "GridSearchCV necesita pasarle el modelo a optimizar (puede ser un pipeline), así como el número de folds. Por\n",
        "último los hiperparámetros son pasados en forma de diccionario, el cual incluirá los nombres del hiperparámetro\n",
        "como claves y los valores a testear como una lista. Para cada combinación de hiperparámetros GridSearchCV genera\n",
        "una validación cruzada y devuelve una puntuaciones.\n",
        "\n",
        "En ocasiones, como estrategia para un resultado más robusto, GridSearchCV, que es en sí mismo una validación\n",
        "cruzada, se ejecuta dentro de un bucle externo también de validaciones cruzadas. A esto lo denominamos\n",
        "validación cruzada anidada. Por cada iteración de la validación cruzada externa (que recordemos selecciona un\n",
        "subcojunto de entrenamiento y otro de evaluación) realizamos una selección de hiperparámetros, el cual realiza\n",
        "su propia validación cruzada a partir del subcojunto de entrenamiento. Combiene inducarle una misma métrica\n",
        "de puntuación para comparar ambos resultados.\n",
        "\n",
        "\"\"\"\n",
        "\n",
        "# CONFIGURACIÓN DE LA BÚSQUEDA DE HIPERPARÁMETROS\n",
        "metaparameter_list = ['regressor__alpha']\n",
        "# Configurar la búsqueda por validación cruzada para encontrar el mejor valor de alpha\n",
        "param_grid = {\n",
        "    metaparameter_list[0]: np.logspace(-4, 2, 40)  # Explorar 20 valores de alpha entre 10^-4 y 10^2\n",
        "}\n",
        "\n",
        "# Configurar el GridSearchCV\n",
        "grid_search = GridSearchCV(model, param_grid, cv=5, verbose = True, scoring='neg_mean_squared_error')"
      ],
      "metadata": {
        "id": "8Y_xJ3n9TQmF"
      },
      "execution_count": null,
      "outputs": []
    },
    {
      "cell_type": "code",
      "source": [
        "# BÚSQUEDA DE HIPERPARÁMETROS CON VALIDACIÓN ANIDADA\n",
        "n_splits = 5\n",
        "outer_cv = KFold(n_splits=n_splits, shuffle=True, random_state=42)\n",
        "best_params_list = []\n",
        "best_scores = []\n",
        "\n",
        "# Aquí estamos haciendo una Validación Cruzada manualmente. En cada iteración (tantas como número de folds indicados) se calculará un GridSearchCV\n",
        "# con el conjunto de entrenamiento seleccionado en ese fold.\n",
        "for train_index, test_index in outer_cv.split(X_train):\n",
        "    X_train_fold = X_train.iloc[train_index]\n",
        "    X_test_fold = X_train.iloc[test_index]\n",
        "    y_train_fold = y_train.iloc[train_index]\n",
        "    y_test_fold = y_train.iloc[test_index]\n",
        "\n",
        "    # Ejecutar GridSearchCV\n",
        "    grid_search.fit(X_train_fold, y_train_fold) # Este GridSearch lo hemos definido más arriba.\n",
        "\n",
        "    # Almacenar los mejores parámetros y los mejores resultados en cada split\n",
        "    best_params_list.append(grid_search.best_params_)\n",
        "    best_scores.append(grid_search.best_score_)\n",
        "\n",
        "# Un bucle por fold, indicando el hiperparámetro óptimo y la mejor métrica de error de esa iteración.\n",
        "for split in range(n_splits):\n",
        "  for metaparameter in metaparameter_list:\n",
        "    print(f'Mejor puntuación en el fold {split} del {metaparameter} en VC anidada: {round(best_params_list[split][metaparameter],3)}')\n",
        "  print(f\"Mejor RMSE en el fold {split}: {np.round(np.sqrt(-best_scores[split]),2)}\\n\")\n",
        "\n",
        "# Un bucle para los estadísticos de cada hiperparámetro\n",
        "for metaparameter in metaparameter_list:\n",
        "  values = [value[metaparameter] for value in best_params_list] # Recogemos los diferentes valores que nos devuelve cada fold\n",
        "  mean = sum(values) / len(values) # Calculamos la media\n",
        "  std = np.sqrt(sum((value - mean) ** 2 for value in values) / len(values)) # Calculamos la Desviación Típica\n",
        "  print(f'Promedio de las puntuaciones {metaparameter} en VC anidada: {round(mean,3)}')\n",
        "  print(f'Desviación Típica de las puntuaciones {metaparameter} en VC anidada: {round(std,3)}\\n')"
      ],
      "metadata": {
        "colab": {
          "base_uri": "https://localhost:8080/"
        },
        "id": "1I5TOg0ihBGZ",
        "outputId": "b10c76f7-ce01-46c5-9a15-6e0806cb73d2"
      },
      "execution_count": null,
      "outputs": [
        {
          "output_type": "stream",
          "name": "stdout",
          "text": [
            "Fitting 5 folds for each of 40 candidates, totalling 200 fits\n",
            "Fitting 5 folds for each of 40 candidates, totalling 200 fits\n",
            "Fitting 5 folds for each of 40 candidates, totalling 200 fits\n",
            "Fitting 5 folds for each of 40 candidates, totalling 200 fits\n",
            "Fitting 5 folds for each of 40 candidates, totalling 200 fits\n",
            "Mejor puntuación en el fold 0 del regressor__alpha en VC anidada: 2.031\n",
            "Mejor RMSE en el fold 0: 49880.48\n",
            "\n",
            "Mejor puntuación en el fold 1 del regressor__alpha en VC anidada: 5.878\n",
            "Mejor RMSE en el fold 1: 50078.09\n",
            "\n",
            "Mejor puntuación en el fold 2 del regressor__alpha en VC anidada: 5.878\n",
            "Mejor RMSE en el fold 2: 49906.23\n",
            "\n",
            "Mejor puntuación en el fold 3 del regressor__alpha en VC anidada: 4.125\n",
            "Mejor RMSE en el fold 3: 49825.22\n",
            "\n",
            "Mejor puntuación en el fold 4 del regressor__alpha en VC anidada: 2.894\n",
            "Mejor RMSE en el fold 4: 49956.6\n",
            "\n",
            "Promedio de las puntuaciones regressor__alpha en VC anidada: 4.161\n",
            "Desviación Típica de las puntuaciones regressor__alpha en VC anidada: 1.552\n",
            "\n"
          ]
        }
      ]
    },
    {
      "cell_type": "code",
      "source": [
        "# BÚSQUEDA DE HIPERPARÁMETROS SIN VALIDACIÓN ANIDADA\n",
        "# Entrenamos ahora con GridSearchCV sin anidar.\n",
        "grid_search.fit(X_train, y_train)\n",
        "\n",
        "# Mostrar mejor puntuación y los mejores parámetros. Podemos compararlo a aquellos valores obtenidos en la validación cruzada anidada.\n",
        "for metaparameter in metaparameter_list:\n",
        "  print(f'Mejor puntuación del {metaparameter} en VC anidada: {round(grid_search.best_params_[metaparameter],3)}')\n",
        "print(\"Mejor Mean Squared Error (MSE):\", np.round(np.sqrt(-grid_search.best_score_),2))\n"
      ],
      "metadata": {
        "colab": {
          "base_uri": "https://localhost:8080/"
        },
        "id": "Glje7cfyTm-U",
        "outputId": "662ff267-14d3-42fb-8a25-701e0bfe7d0d"
      },
      "execution_count": null,
      "outputs": [
        {
          "output_type": "stream",
          "name": "stdout",
          "text": [
            "Fitting 5 folds for each of 40 candidates, totalling 200 fits\n",
            "Mejor puntuación del regressor__alpha en VC anidada: 2.894\n",
            "Mejor Mean Squared Error (MSE): 49928.14\n"
          ]
        }
      ]
    },
    {
      "cell_type": "code",
      "source": [
        "# TESTEO DEL MODELO\n",
        "# Recoger el modelo con los mejores hiperparámetros\n",
        "best_model = grid_search.best_estimator_\n",
        "y_pred = best_model.predict(X_test)"
      ],
      "metadata": {
        "id": "Vn45qcuIw3X9"
      },
      "execution_count": null,
      "outputs": []
    },
    {
      "cell_type": "code",
      "source": [
        "# COEFICIENTES FINALES\n",
        "# Acceder al modelo de regresión dentro del pipeline\n",
        "ridge_regressor = best_model.named_steps['regressor']\n",
        "preprocessor = best_model.named_steps['preprocessor']\n",
        "\n",
        "# Obtener los coeficientes y el interceptor\n",
        "coefficients = np.round(ridge_regressor.coef_)\n",
        "intercept = np.round(ridge_regressor.intercept_)\n",
        "feature_names = preprocessor.get_feature_names_out() # Sacamos los nombres de las columnas.\n",
        "coef_dict = dict(zip(feature_names, coefficients.flatten())) # Asociando los coeficientes con los nombres de las características\n",
        "print(\"Interceptor del modelo:\", intercept)\n",
        "print(\"Coeficientes finales del modelo:\", coef_dict)"
      ],
      "metadata": {
        "colab": {
          "base_uri": "https://localhost:8080/"
        },
        "id": "v4tQE2JF-p3D",
        "outputId": "743765d1-c6cd-4782-d353-ec7b36002717"
      },
      "execution_count": null,
      "outputs": [
        {
          "output_type": "stream",
          "name": "stdout",
          "text": [
            "Interceptor del modelo: 224906.0\n",
            "Coeficientes finales del modelo: {'num__SquareFeet': 57110.0, 'num__Bedrooms': 5771.0, 'num__Bathrooms': 2197.0, 'num__YearBuilt': 11.0, 'cat__Neighborhood_Rural': -378.0, 'cat__Neighborhood_Suburb': -990.0, 'cat__Neighborhood_Urban': 1368.0}\n"
          ]
        }
      ]
    },
    {
      "cell_type": "code",
      "source": [
        "from sklearn.metrics import mean_squared_error, mean_absolute_error, r2_score\n",
        "\n",
        "# EVALUACIÓN DEL MODELO\n",
        "# Evaluación del modelo en el conjunto de prueba. Notar como es necesario pasar tanto nuestras predicciones\n",
        "# y_pred como los valores reales de la variable objetivo y_test.\n",
        "mae = round(mean_absolute_error(y_test, y_pred),2)\n",
        "mse = round(mean_squared_error(y_test, y_pred),2)\n",
        "rmse = round(np.sqrt(mse),2)\n",
        "r2 = round(r2_score(y_test, y_pred),3)\n",
        "\n",
        "print(f\"Mean Absolute Error (MAE) en el conjunto de testeo: {mae}\")\n",
        "print(f\"Mean Squared Error (MSE) en el conjunto de testeo: {mse}\")\n",
        "print(f\"Root Mean Squared Error (RMSE) en el conjunto de testeo: {rmse}\")\n",
        "print(f\"R-squared (R2) en el conjunto de testeo: {r2}\")"
      ],
      "metadata": {
        "colab": {
          "base_uri": "https://localhost:8080/"
        },
        "id": "0J2dbVBTTtu0",
        "outputId": "123ded57-62a0-4e7c-a2e5-4b62af523464"
      },
      "execution_count": null,
      "outputs": [
        {
          "output_type": "stream",
          "name": "stdout",
          "text": [
            "Mean Absolute Error (MAE) en el conjunto de testeo: 39826.54\n",
            "Mean Squared Error (MSE) en el conjunto de testeo: 2490428380.04\n",
            "Root Mean Squared Error (RMSE) en el conjunto de testeo: 49904.19\n",
            "R-squared (R2) en el conjunto de testeo: 0.572\n"
          ]
        }
      ]
    }
  ]
}