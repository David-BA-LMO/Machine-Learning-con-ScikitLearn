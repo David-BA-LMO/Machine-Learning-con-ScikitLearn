{
  "nbformat": 4,
  "nbformat_minor": 0,
  "metadata": {
    "colab": {
      "provenance": [],
      "gpuType": "T4"
    },
    "kernelspec": {
      "name": "python3",
      "display_name": "Python 3"
    },
    "language_info": {
      "name": "python"
    },
    "accelerator": "GPU"
  },
  "cells": [
    {
      "cell_type": "markdown",
      "source": [
        "# **Random Forests**\n",
        "\n",
        "Los **Random Forest** son quizas la versión más simple de un modelo de ensamblaje: métodos de Machine Learning constituidos por la integración de otros algoritmos. En los Random Forest, este ensamblado se realiza combinando árboles de decisión, combinación que busca evitar el sobreajuste sin perder precisión."
      ],
      "metadata": {
        "id": "obQev3-H_Wv6"
      }
    },
    {
      "cell_type": "markdown",
      "source": [
        "# ***Bootstrapping* y *Bagging***"
      ],
      "metadata": {
        "id": "nTHkz7vsCyp7"
      }
    },
    {
      "cell_type": "markdown",
      "source": [
        "Hemos comentado que una de los grandes inconvenientes de los algoritmos de Árbol de Decisión es su tendencia hacia el sobreajuste, es decir, su incapaz de generalizar los buenos resultados obtenidos con las muestras de entrenamiento a nuevos datos no vistos con anterioridad. Ese hándicap puede ser eliminado con la flexibilidad que aportan los Random Forest.\n",
        "\n",
        "La construcción del bosque se inicia creando diferentes subconjuntos a partir de los datos totales iniciales. Esta técnica se conoce como *bootstrapping* y se trata de un muestreo con remplazo, es decir, es posible que una misma instancia aparezca en varios subconjuntos de muestras. Una vez realizado el muestreo se procede a entrenar un algoritmo de Árbol de Decisión para cada muestra pero con una restricción que no teníamos en el método original: solo se permiten particiones en base a un subconjunto aleatorio de columnas. En una versión alternativa de los Random Forest, los *Extreme Random Trees*, genera aleatoriamente varios criterios de partición para cada variable, seleccionando el mejor de ellos. Un forma de reducir sobreajuste a costa de la precisión.\n",
        "\n",
        "Una vez entrenados cada uno de los algoritmos podemos hacer predicciones, las culaes pasan por todos los árboles. La clasificación final se realiza simplemente por votación o por media en caso de tratarse de un regresión."
      ],
      "metadata": {
        "id": "ozve61ctC1Vk"
      }
    },
    {
      "cell_type": "markdown",
      "source": [
        "¿Y si en vez de entrenar un algoritmo entrenamos varios de ellos y tomamos como resultado el valor mayoritario? Esta meta-estrategia es conocida como *bagging* y combina el muestreo con remplazo (*bootstrapping*) con la agregación conjunta final. Ya hemos visto que es el método que utiliza Random Forest, aunque realmente puede aplicarse a multitud de algoritmos de Machine Learning. Cada uno de los árboles del Random Forest se entrena totalmente independiente del resto. La estimación final para una muestra (llamada *agregación*) es simplemente el voto mayoritario de todos los árboles o, como opción por defecto en ScikitLearn, la probabilidad dad por cada árbol ponderada por el número de muestras. En caso de tratarse de una tarea de regresión se utiliza la media de todos los árboles.\n",
        "\n",
        "<div style=\"display: flex; justify-content: center;\">\n",
        "<img src=\"https://drive.google.com/uc?export=view&id=1xYAhCr4mCc6Y1Fk8LYIew3s6aE9WUNMw\" width=\"600\">\n",
        "\n",
        "Como hemos comentado antes, en Random Forest utilizamos *bootstrapping*: cada árbol del bosque se entrena con un subconjunto aleatorio del conjunto de datos original, creado mediante muestreo con reemplazo. Esto significa que algunos ejemplos del conjunto de datos original pueden aparecer varias veces en el subconjunto, mientras que otros pueden no aparecer en absoluto. Las muestras que no aparecen en el subconjunto de un árbol en particular se denominan *Out-Of-Bag* (fuera de bolsa). Estos ejemplos no se utilizan para entrenar ese árbol específico y, por lo tanto, pueden usarse para evaluar su rendimiento. No deja de ser una suerte de Validación Cruzada. El rendimiento calculado sobre estas muestras fuera del conjunto de entrenamiento se basa en la métrica de precisión y se conoce como *Out-Of-Bag Error* (OOB Error)."
      ],
      "metadata": {
        "id": "UQzVsdXhRbBq"
      }
    },
    {
      "cell_type": "markdown",
      "source": [
        "# **Interpretación del modelo**"
      ],
      "metadata": {
        "id": "JfM8GWu85Pvz"
      }
    },
    {
      "cell_type": "markdown",
      "source": [
        "Si hemos entendido bien cómo funciona un Árbol de Decisión, nos daremos cuenta que las variables/columnas que son antes seleccionadas para realizar las particiones, son las que mejor dividen los datos y por tanto las más discriminativas. Ya hemos comentado como el Random Forest solo aparece un subconjunto de características en cada árbol. Pero al realizar pruebas con muchos árboles, podemos realizar una estimación de la importancia de las variables en la clasificación/predicción. Promediando la profundidad a la que aparecen de media ciertas características, Random Forest es capaz de devolvernos una estimación de su importancia. Sin embargo, estas estimaciones suelen sesgarse en favor de variables numéricas y su interpretación debe hacerse con cuidado."
      ],
      "metadata": {
        "id": "8UZhfmMv5UPW"
      }
    },
    {
      "cell_type": "markdown",
      "source": [
        "# **Guía de uso de Random Forest**"
      ],
      "metadata": {
        "id": "3ahn6lJhyNxl"
      }
    },
    {
      "cell_type": "markdown",
      "source": [
        "Como ensamblaje de Árboles de Decisión que son, los Random Forest comparten muchas de sus mismas ventajas. Su flexibilidad para tareas de regresión y clasificación, el tratamiento automático de valores faltantes, el manejo de variables categóricas y numéricas sin necesidad de preprocesamiento intenso, su resistencia al ruido y el desbalanceo de clases o su capacidad para capturar relaciones no lineales en los datos son algunas de sus principales puntos fuertes. A estas ventajas heredadas de los Árboles de Decisión se suman aquellas que resultan de su contitución como meta-algoritmos de ensamblaje: mayor precisión y robustez. Si por algo destacan los Random Forest es su capacidad de esquivar el sobreajuste inherente a los Árboles de Decisión, así como ser igualmente menos sensibles a outliers y capturar mayor varianza de los datos de muestra.\n",
        "\n",
        "Sin embargo, precisamente por este mismo ensamblaje, los Random Forest pierden la mayor virtud de los Árboles de Decisión: su interpretabilidad. Además y como es de esperar, el entrenamiento combinado de muchos árboles de decisión supone también más tiempo y mayores recursos de computación.\n",
        "\n",
        "Estos son los principales meta-parámetros de un Random Forest:\n",
        "\n",
        "- `n_estimators`: número de estimadores, es decir, Árboles de Decisión. Aumentando los estimadores mejoramos en precisión, pero también en tiempo de computación. Un número mayor de estimadores mejora el rendimiento hasta un punto crítico en el que no hay mejora en aumentar el número de árboles.\n",
        "- `min_samples_split`: número mínimo de muestras necesarias para dividir un nodo. Un valor más alto puede evitar el sobreajuste. Valores más bajos implican el desarrollo total del árbol.\n",
        "- `max_features`: número máximo de variables/columnas a utilizar en la selección aleatoria. Menos características implica mayor diversidad de árboles y mejor manejo del sobreajuste. Suelen indicarse como la raiz o el logaritmo del total de variables.\n",
        "- `max_depth`: profundidad máxima del árbol. Controla la profundidad del árbol ayuda a prevenir el sobreajuste. Los árboles se desarrollan hasta que cada hoja contenga menos de `min_samples_split` muestras. Se recomienda un valor `None` para que el parámetro sea controlado por `min_samples_split`."
      ],
      "metadata": {
        "id": "yiT_qotIRgzX"
      }
    },
    {
      "cell_type": "markdown",
      "source": [
        "# **Análisis del DataFrame**"
      ],
      "metadata": {
        "id": "Qv9u6m90gEA0"
      }
    },
    {
      "cell_type": "code",
      "source": [
        "import matplotlib.pyplot as plt\n",
        "import numpy as np\n",
        "import pandas as pd\n",
        "import math\n",
        "from typing import List, Tuple, Dict\n",
        "import seaborn as sns\n",
        "\n",
        "url='https://drive.google.com/file/d/1btCzqdC5EHUdpJbICCdouOUAJQukx3mM/view?usp=sharing'\n",
        "file_id=url.split('/')[-2]\n",
        "dwn_url='https://drive.google.com/uc?id=' + file_id\n",
        "data = pd.read_csv(dwn_url)\n",
        "\n",
        "data.head(6)"
      ],
      "metadata": {
        "colab": {
          "base_uri": "https://localhost:8080/",
          "height": 237
        },
        "id": "wYDcte2pHA5Q",
        "outputId": "b7436041-792c-4fd7-96bc-59e91058b280"
      },
      "execution_count": null,
      "outputs": [
        {
          "output_type": "execute_result",
          "data": {
            "text/plain": [
              "   cap-diameter  cap-shape  gill-attachment  gill-color  stem-height  \\\n",
              "0          1372          2                2          10     3.807467   \n",
              "1          1461          2                2          10     3.807467   \n",
              "2          1371          2                2          10     3.612496   \n",
              "3          1261          6                2          10     3.787572   \n",
              "4          1305          6                2          10     3.711971   \n",
              "5          1337          6                2          10     3.775635   \n",
              "\n",
              "   stem-width  stem-color    season  class  \n",
              "0        1545          11  1.804273      1  \n",
              "1        1557          11  1.804273      1  \n",
              "2        1566          11  1.804273      1  \n",
              "3        1566          11  1.804273      1  \n",
              "4        1464          11  0.943195      1  \n",
              "5        1520          11  0.943195      1  "
            ],
            "text/html": [
              "\n",
              "  <div id=\"df-d052ffdf-813e-4942-822d-f22f1a210a9b\" class=\"colab-df-container\">\n",
              "    <div>\n",
              "<style scoped>\n",
              "    .dataframe tbody tr th:only-of-type {\n",
              "        vertical-align: middle;\n",
              "    }\n",
              "\n",
              "    .dataframe tbody tr th {\n",
              "        vertical-align: top;\n",
              "    }\n",
              "\n",
              "    .dataframe thead th {\n",
              "        text-align: right;\n",
              "    }\n",
              "</style>\n",
              "<table border=\"1\" class=\"dataframe\">\n",
              "  <thead>\n",
              "    <tr style=\"text-align: right;\">\n",
              "      <th></th>\n",
              "      <th>cap-diameter</th>\n",
              "      <th>cap-shape</th>\n",
              "      <th>gill-attachment</th>\n",
              "      <th>gill-color</th>\n",
              "      <th>stem-height</th>\n",
              "      <th>stem-width</th>\n",
              "      <th>stem-color</th>\n",
              "      <th>season</th>\n",
              "      <th>class</th>\n",
              "    </tr>\n",
              "  </thead>\n",
              "  <tbody>\n",
              "    <tr>\n",
              "      <th>0</th>\n",
              "      <td>1372</td>\n",
              "      <td>2</td>\n",
              "      <td>2</td>\n",
              "      <td>10</td>\n",
              "      <td>3.807467</td>\n",
              "      <td>1545</td>\n",
              "      <td>11</td>\n",
              "      <td>1.804273</td>\n",
              "      <td>1</td>\n",
              "    </tr>\n",
              "    <tr>\n",
              "      <th>1</th>\n",
              "      <td>1461</td>\n",
              "      <td>2</td>\n",
              "      <td>2</td>\n",
              "      <td>10</td>\n",
              "      <td>3.807467</td>\n",
              "      <td>1557</td>\n",
              "      <td>11</td>\n",
              "      <td>1.804273</td>\n",
              "      <td>1</td>\n",
              "    </tr>\n",
              "    <tr>\n",
              "      <th>2</th>\n",
              "      <td>1371</td>\n",
              "      <td>2</td>\n",
              "      <td>2</td>\n",
              "      <td>10</td>\n",
              "      <td>3.612496</td>\n",
              "      <td>1566</td>\n",
              "      <td>11</td>\n",
              "      <td>1.804273</td>\n",
              "      <td>1</td>\n",
              "    </tr>\n",
              "    <tr>\n",
              "      <th>3</th>\n",
              "      <td>1261</td>\n",
              "      <td>6</td>\n",
              "      <td>2</td>\n",
              "      <td>10</td>\n",
              "      <td>3.787572</td>\n",
              "      <td>1566</td>\n",
              "      <td>11</td>\n",
              "      <td>1.804273</td>\n",
              "      <td>1</td>\n",
              "    </tr>\n",
              "    <tr>\n",
              "      <th>4</th>\n",
              "      <td>1305</td>\n",
              "      <td>6</td>\n",
              "      <td>2</td>\n",
              "      <td>10</td>\n",
              "      <td>3.711971</td>\n",
              "      <td>1464</td>\n",
              "      <td>11</td>\n",
              "      <td>0.943195</td>\n",
              "      <td>1</td>\n",
              "    </tr>\n",
              "    <tr>\n",
              "      <th>5</th>\n",
              "      <td>1337</td>\n",
              "      <td>6</td>\n",
              "      <td>2</td>\n",
              "      <td>10</td>\n",
              "      <td>3.775635</td>\n",
              "      <td>1520</td>\n",
              "      <td>11</td>\n",
              "      <td>0.943195</td>\n",
              "      <td>1</td>\n",
              "    </tr>\n",
              "  </tbody>\n",
              "</table>\n",
              "</div>\n",
              "    <div class=\"colab-df-buttons\">\n",
              "\n",
              "  <div class=\"colab-df-container\">\n",
              "    <button class=\"colab-df-convert\" onclick=\"convertToInteractive('df-d052ffdf-813e-4942-822d-f22f1a210a9b')\"\n",
              "            title=\"Convert this dataframe to an interactive table.\"\n",
              "            style=\"display:none;\">\n",
              "\n",
              "  <svg xmlns=\"http://www.w3.org/2000/svg\" height=\"24px\" viewBox=\"0 -960 960 960\">\n",
              "    <path d=\"M120-120v-720h720v720H120Zm60-500h600v-160H180v160Zm220 220h160v-160H400v160Zm0 220h160v-160H400v160ZM180-400h160v-160H180v160Zm440 0h160v-160H620v160ZM180-180h160v-160H180v160Zm440 0h160v-160H620v160Z\"/>\n",
              "  </svg>\n",
              "    </button>\n",
              "\n",
              "  <style>\n",
              "    .colab-df-container {\n",
              "      display:flex;\n",
              "      gap: 12px;\n",
              "    }\n",
              "\n",
              "    .colab-df-convert {\n",
              "      background-color: #E8F0FE;\n",
              "      border: none;\n",
              "      border-radius: 50%;\n",
              "      cursor: pointer;\n",
              "      display: none;\n",
              "      fill: #1967D2;\n",
              "      height: 32px;\n",
              "      padding: 0 0 0 0;\n",
              "      width: 32px;\n",
              "    }\n",
              "\n",
              "    .colab-df-convert:hover {\n",
              "      background-color: #E2EBFA;\n",
              "      box-shadow: 0px 1px 2px rgba(60, 64, 67, 0.3), 0px 1px 3px 1px rgba(60, 64, 67, 0.15);\n",
              "      fill: #174EA6;\n",
              "    }\n",
              "\n",
              "    .colab-df-buttons div {\n",
              "      margin-bottom: 4px;\n",
              "    }\n",
              "\n",
              "    [theme=dark] .colab-df-convert {\n",
              "      background-color: #3B4455;\n",
              "      fill: #D2E3FC;\n",
              "    }\n",
              "\n",
              "    [theme=dark] .colab-df-convert:hover {\n",
              "      background-color: #434B5C;\n",
              "      box-shadow: 0px 1px 3px 1px rgba(0, 0, 0, 0.15);\n",
              "      filter: drop-shadow(0px 1px 2px rgba(0, 0, 0, 0.3));\n",
              "      fill: #FFFFFF;\n",
              "    }\n",
              "  </style>\n",
              "\n",
              "    <script>\n",
              "      const buttonEl =\n",
              "        document.querySelector('#df-d052ffdf-813e-4942-822d-f22f1a210a9b button.colab-df-convert');\n",
              "      buttonEl.style.display =\n",
              "        google.colab.kernel.accessAllowed ? 'block' : 'none';\n",
              "\n",
              "      async function convertToInteractive(key) {\n",
              "        const element = document.querySelector('#df-d052ffdf-813e-4942-822d-f22f1a210a9b');\n",
              "        const dataTable =\n",
              "          await google.colab.kernel.invokeFunction('convertToInteractive',\n",
              "                                                    [key], {});\n",
              "        if (!dataTable) return;\n",
              "\n",
              "        const docLinkHtml = 'Like what you see? Visit the ' +\n",
              "          '<a target=\"_blank\" href=https://colab.research.google.com/notebooks/data_table.ipynb>data table notebook</a>'\n",
              "          + ' to learn more about interactive tables.';\n",
              "        element.innerHTML = '';\n",
              "        dataTable['output_type'] = 'display_data';\n",
              "        await google.colab.output.renderOutput(dataTable, element);\n",
              "        const docLink = document.createElement('div');\n",
              "        docLink.innerHTML = docLinkHtml;\n",
              "        element.appendChild(docLink);\n",
              "      }\n",
              "    </script>\n",
              "  </div>\n",
              "\n",
              "\n",
              "<div id=\"df-d3de08c7-fe4b-40f1-8344-2505cfbb833a\">\n",
              "  <button class=\"colab-df-quickchart\" onclick=\"quickchart('df-d3de08c7-fe4b-40f1-8344-2505cfbb833a')\"\n",
              "            title=\"Suggest charts\"\n",
              "            style=\"display:none;\">\n",
              "\n",
              "<svg xmlns=\"http://www.w3.org/2000/svg\" height=\"24px\"viewBox=\"0 0 24 24\"\n",
              "     width=\"24px\">\n",
              "    <g>\n",
              "        <path d=\"M19 3H5c-1.1 0-2 .9-2 2v14c0 1.1.9 2 2 2h14c1.1 0 2-.9 2-2V5c0-1.1-.9-2-2-2zM9 17H7v-7h2v7zm4 0h-2V7h2v10zm4 0h-2v-4h2v4z\"/>\n",
              "    </g>\n",
              "</svg>\n",
              "  </button>\n",
              "\n",
              "<style>\n",
              "  .colab-df-quickchart {\n",
              "      --bg-color: #E8F0FE;\n",
              "      --fill-color: #1967D2;\n",
              "      --hover-bg-color: #E2EBFA;\n",
              "      --hover-fill-color: #174EA6;\n",
              "      --disabled-fill-color: #AAA;\n",
              "      --disabled-bg-color: #DDD;\n",
              "  }\n",
              "\n",
              "  [theme=dark] .colab-df-quickchart {\n",
              "      --bg-color: #3B4455;\n",
              "      --fill-color: #D2E3FC;\n",
              "      --hover-bg-color: #434B5C;\n",
              "      --hover-fill-color: #FFFFFF;\n",
              "      --disabled-bg-color: #3B4455;\n",
              "      --disabled-fill-color: #666;\n",
              "  }\n",
              "\n",
              "  .colab-df-quickchart {\n",
              "    background-color: var(--bg-color);\n",
              "    border: none;\n",
              "    border-radius: 50%;\n",
              "    cursor: pointer;\n",
              "    display: none;\n",
              "    fill: var(--fill-color);\n",
              "    height: 32px;\n",
              "    padding: 0;\n",
              "    width: 32px;\n",
              "  }\n",
              "\n",
              "  .colab-df-quickchart:hover {\n",
              "    background-color: var(--hover-bg-color);\n",
              "    box-shadow: 0 1px 2px rgba(60, 64, 67, 0.3), 0 1px 3px 1px rgba(60, 64, 67, 0.15);\n",
              "    fill: var(--button-hover-fill-color);\n",
              "  }\n",
              "\n",
              "  .colab-df-quickchart-complete:disabled,\n",
              "  .colab-df-quickchart-complete:disabled:hover {\n",
              "    background-color: var(--disabled-bg-color);\n",
              "    fill: var(--disabled-fill-color);\n",
              "    box-shadow: none;\n",
              "  }\n",
              "\n",
              "  .colab-df-spinner {\n",
              "    border: 2px solid var(--fill-color);\n",
              "    border-color: transparent;\n",
              "    border-bottom-color: var(--fill-color);\n",
              "    animation:\n",
              "      spin 1s steps(1) infinite;\n",
              "  }\n",
              "\n",
              "  @keyframes spin {\n",
              "    0% {\n",
              "      border-color: transparent;\n",
              "      border-bottom-color: var(--fill-color);\n",
              "      border-left-color: var(--fill-color);\n",
              "    }\n",
              "    20% {\n",
              "      border-color: transparent;\n",
              "      border-left-color: var(--fill-color);\n",
              "      border-top-color: var(--fill-color);\n",
              "    }\n",
              "    30% {\n",
              "      border-color: transparent;\n",
              "      border-left-color: var(--fill-color);\n",
              "      border-top-color: var(--fill-color);\n",
              "      border-right-color: var(--fill-color);\n",
              "    }\n",
              "    40% {\n",
              "      border-color: transparent;\n",
              "      border-right-color: var(--fill-color);\n",
              "      border-top-color: var(--fill-color);\n",
              "    }\n",
              "    60% {\n",
              "      border-color: transparent;\n",
              "      border-right-color: var(--fill-color);\n",
              "    }\n",
              "    80% {\n",
              "      border-color: transparent;\n",
              "      border-right-color: var(--fill-color);\n",
              "      border-bottom-color: var(--fill-color);\n",
              "    }\n",
              "    90% {\n",
              "      border-color: transparent;\n",
              "      border-bottom-color: var(--fill-color);\n",
              "    }\n",
              "  }\n",
              "</style>\n",
              "\n",
              "  <script>\n",
              "    async function quickchart(key) {\n",
              "      const quickchartButtonEl =\n",
              "        document.querySelector('#' + key + ' button');\n",
              "      quickchartButtonEl.disabled = true;  // To prevent multiple clicks.\n",
              "      quickchartButtonEl.classList.add('colab-df-spinner');\n",
              "      try {\n",
              "        const charts = await google.colab.kernel.invokeFunction(\n",
              "            'suggestCharts', [key], {});\n",
              "      } catch (error) {\n",
              "        console.error('Error during call to suggestCharts:', error);\n",
              "      }\n",
              "      quickchartButtonEl.classList.remove('colab-df-spinner');\n",
              "      quickchartButtonEl.classList.add('colab-df-quickchart-complete');\n",
              "    }\n",
              "    (() => {\n",
              "      let quickchartButtonEl =\n",
              "        document.querySelector('#df-d3de08c7-fe4b-40f1-8344-2505cfbb833a button');\n",
              "      quickchartButtonEl.style.display =\n",
              "        google.colab.kernel.accessAllowed ? 'block' : 'none';\n",
              "    })();\n",
              "  </script>\n",
              "</div>\n",
              "    </div>\n",
              "  </div>\n"
            ],
            "application/vnd.google.colaboratory.intrinsic+json": {
              "type": "dataframe",
              "variable_name": "data",
              "summary": "{\n  \"name\": \"data\",\n  \"rows\": 54035,\n  \"fields\": [\n    {\n      \"column\": \"cap-diameter\",\n      \"properties\": {\n        \"dtype\": \"number\",\n        \"std\": 359,\n        \"min\": 0,\n        \"max\": 1891,\n        \"num_unique_values\": 1847,\n        \"samples\": [\n          11,\n          1677,\n          44\n        ],\n        \"semantic_type\": \"\",\n        \"description\": \"\"\n      }\n    },\n    {\n      \"column\": \"cap-shape\",\n      \"properties\": {\n        \"dtype\": \"number\",\n        \"std\": 2,\n        \"min\": 0,\n        \"max\": 6,\n        \"num_unique_values\": 7,\n        \"samples\": [\n          2,\n          6,\n          5\n        ],\n        \"semantic_type\": \"\",\n        \"description\": \"\"\n      }\n    },\n    {\n      \"column\": \"gill-attachment\",\n      \"properties\": {\n        \"dtype\": \"number\",\n        \"std\": 2,\n        \"min\": 0,\n        \"max\": 6,\n        \"num_unique_values\": 7,\n        \"samples\": [\n          2,\n          0,\n          4\n        ],\n        \"semantic_type\": \"\",\n        \"description\": \"\"\n      }\n    },\n    {\n      \"column\": \"gill-color\",\n      \"properties\": {\n        \"dtype\": \"number\",\n        \"std\": 3,\n        \"min\": 0,\n        \"max\": 11,\n        \"num_unique_values\": 12,\n        \"samples\": [\n          4,\n          6,\n          10\n        ],\n        \"semantic_type\": \"\",\n        \"description\": \"\"\n      }\n    },\n    {\n      \"column\": \"stem-height\",\n      \"properties\": {\n        \"dtype\": \"number\",\n        \"std\": 0.6509686159221912,\n        \"min\": 0.0004256969608359,\n        \"max\": 3.8353196773222433,\n        \"num_unique_values\": 1455,\n        \"samples\": [\n          0.004404685938308,\n          1.826781637620518,\n          1.396199434131862\n        ],\n        \"semantic_type\": \"\",\n        \"description\": \"\"\n      }\n    },\n    {\n      \"column\": \"stem-width\",\n      \"properties\": {\n        \"dtype\": \"number\",\n        \"std\": 782,\n        \"min\": 0,\n        \"max\": 3569,\n        \"num_unique_values\": 3510,\n        \"samples\": [\n          3028,\n          1505,\n          3516\n        ],\n        \"semantic_type\": \"\",\n        \"description\": \"\"\n      }\n    },\n    {\n      \"column\": \"stem-color\",\n      \"properties\": {\n        \"dtype\": \"number\",\n        \"std\": 3,\n        \"min\": 0,\n        \"max\": 12,\n        \"num_unique_values\": 13,\n        \"samples\": [\n          7,\n          4,\n          11\n        ],\n        \"semantic_type\": \"\",\n        \"description\": \"\"\n      }\n    },\n    {\n      \"column\": \"season\",\n      \"properties\": {\n        \"dtype\": \"number\",\n        \"std\": 0.3055935859378124,\n        \"min\": 0.0273721330556057,\n        \"max\": 1.804272708628173,\n        \"num_unique_values\": 4,\n        \"samples\": [\n          0.9431945538974952,\n          0.0273721330556057,\n          1.804272708628173\n        ],\n        \"semantic_type\": \"\",\n        \"description\": \"\"\n      }\n    },\n    {\n      \"column\": \"class\",\n      \"properties\": {\n        \"dtype\": \"number\",\n        \"std\": 0,\n        \"min\": 0,\n        \"max\": 1,\n        \"num_unique_values\": 2,\n        \"samples\": [\n          0,\n          1\n        ],\n        \"semantic_type\": \"\",\n        \"description\": \"\"\n      }\n    }\n  ]\n}"
            }
          },
          "metadata": {},
          "execution_count": 25
        }
      ]
    },
    {
      "cell_type": "code",
      "source": [
        "data.shape"
      ],
      "metadata": {
        "colab": {
          "base_uri": "https://localhost:8080/"
        },
        "id": "diXJ1xnaXHzm",
        "outputId": "4ac7b1b0-3e56-4b1a-defb-f075848b401a"
      },
      "execution_count": null,
      "outputs": [
        {
          "output_type": "execute_result",
          "data": {
            "text/plain": [
              "(54035, 9)"
            ]
          },
          "metadata": {},
          "execution_count": 26
        }
      ]
    },
    {
      "cell_type": "code",
      "source": [
        "list_columns = data.columns.tolist()\n",
        "\n",
        "num_columns = data.select_dtypes(include=[\"int64\",\"float64\"]).columns.tolist()\n",
        "print(\"Columnas numéricas: \", num_columns)\n",
        "\n",
        "cat_columns = data.select_dtypes(include=[\"object\"]).columns.tolist()\n",
        "print(\"Columnas categóricas: \", cat_columns)"
      ],
      "metadata": {
        "colab": {
          "base_uri": "https://localhost:8080/"
        },
        "id": "fhTTMbUMXK4v",
        "outputId": "e4bb09cb-d0de-468c-97c8-e0d1157d4c6e"
      },
      "execution_count": null,
      "outputs": [
        {
          "output_type": "stream",
          "name": "stdout",
          "text": [
            "Columnas numéricas:  ['cap-diameter', 'cap-shape', 'gill-attachment', 'gill-color', 'stem-height', 'stem-width', 'stem-color', 'season', 'class']\n",
            "Columnas categóricas:  []\n"
          ]
        }
      ]
    },
    {
      "cell_type": "code",
      "source": [
        "target_column = \"class\"\n",
        "\n",
        "pred_columns = [col for col in list_columns if col != target_column]\n",
        "num_pred_columns = [col for col in pred_columns if col in num_columns]\n",
        "cat_pred_columns = [col for col in pred_columns if col in cat_columns]\n",
        "print(\"Columnas predictoras: \", pred_columns)\n",
        "print(\"Columnas numéricas predictoras: \", num_pred_columns)\n",
        "print(\"Columnas categóricas predictoras: \", cat_pred_columns)"
      ],
      "metadata": {
        "colab": {
          "base_uri": "https://localhost:8080/"
        },
        "id": "K9yFIh7gXN7L",
        "outputId": "c317bae8-3c44-44ca-d1bd-6f90891498a8"
      },
      "execution_count": null,
      "outputs": [
        {
          "output_type": "stream",
          "name": "stdout",
          "text": [
            "Columnas predictoras:  ['cap-diameter', 'cap-shape', 'gill-attachment', 'gill-color', 'stem-height', 'stem-width', 'stem-color', 'season']\n",
            "Columnas numéricas predictoras:  ['cap-diameter', 'cap-shape', 'gill-attachment', 'gill-color', 'stem-height', 'stem-width', 'stem-color', 'season', 'class']\n",
            "Columnas categóricas predictoras:  []\n"
          ]
        }
      ]
    },
    {
      "cell_type": "code",
      "source": [
        "data.describe().T"
      ],
      "metadata": {
        "colab": {
          "base_uri": "https://localhost:8080/",
          "height": 331
        },
        "id": "vbxUv-TqXSHO",
        "outputId": "a92e9be9-c8fc-409b-9042-c8dd0588d1a2"
      },
      "execution_count": null,
      "outputs": [
        {
          "output_type": "execute_result",
          "data": {
            "text/plain": [
              "                   count         mean         std       min         25%  \\\n",
              "cap-diameter     54035.0   567.257204  359.883763  0.000000  289.000000   \n",
              "cap-shape        54035.0     4.000315    2.160505  0.000000    2.000000   \n",
              "gill-attachment  54035.0     2.142056    2.228821  0.000000    0.000000   \n",
              "gill-color       54035.0     7.329509    3.200266  0.000000    5.000000   \n",
              "stem-height      54035.0     0.759110    0.650969  0.000426    0.270997   \n",
              "stem-width       54035.0  1051.081299  782.056076  0.000000  421.000000   \n",
              "stem-color       54035.0     8.418062    3.262078  0.000000    6.000000   \n",
              "season           54035.0     0.952163    0.305594  0.027372    0.888450   \n",
              "class            54035.0     0.549181    0.497580  0.000000    0.000000   \n",
              "\n",
              "                        50%          75%          max  \n",
              "cap-diameter     525.000000   781.000000  1891.000000  \n",
              "cap-shape          5.000000     6.000000     6.000000  \n",
              "gill-attachment    1.000000     4.000000     6.000000  \n",
              "gill-color         8.000000    10.000000    11.000000  \n",
              "stem-height        0.593295     1.054858     3.835320  \n",
              "stem-width       923.000000  1523.000000  3569.000000  \n",
              "stem-color        11.000000    11.000000    12.000000  \n",
              "season             0.943195     0.943195     1.804273  \n",
              "class              1.000000     1.000000     1.000000  "
            ],
            "text/html": [
              "\n",
              "  <div id=\"df-4b48e8ad-8f16-4265-b3c0-06facaa9691d\" class=\"colab-df-container\">\n",
              "    <div>\n",
              "<style scoped>\n",
              "    .dataframe tbody tr th:only-of-type {\n",
              "        vertical-align: middle;\n",
              "    }\n",
              "\n",
              "    .dataframe tbody tr th {\n",
              "        vertical-align: top;\n",
              "    }\n",
              "\n",
              "    .dataframe thead th {\n",
              "        text-align: right;\n",
              "    }\n",
              "</style>\n",
              "<table border=\"1\" class=\"dataframe\">\n",
              "  <thead>\n",
              "    <tr style=\"text-align: right;\">\n",
              "      <th></th>\n",
              "      <th>count</th>\n",
              "      <th>mean</th>\n",
              "      <th>std</th>\n",
              "      <th>min</th>\n",
              "      <th>25%</th>\n",
              "      <th>50%</th>\n",
              "      <th>75%</th>\n",
              "      <th>max</th>\n",
              "    </tr>\n",
              "  </thead>\n",
              "  <tbody>\n",
              "    <tr>\n",
              "      <th>cap-diameter</th>\n",
              "      <td>54035.0</td>\n",
              "      <td>567.257204</td>\n",
              "      <td>359.883763</td>\n",
              "      <td>0.000000</td>\n",
              "      <td>289.000000</td>\n",
              "      <td>525.000000</td>\n",
              "      <td>781.000000</td>\n",
              "      <td>1891.000000</td>\n",
              "    </tr>\n",
              "    <tr>\n",
              "      <th>cap-shape</th>\n",
              "      <td>54035.0</td>\n",
              "      <td>4.000315</td>\n",
              "      <td>2.160505</td>\n",
              "      <td>0.000000</td>\n",
              "      <td>2.000000</td>\n",
              "      <td>5.000000</td>\n",
              "      <td>6.000000</td>\n",
              "      <td>6.000000</td>\n",
              "    </tr>\n",
              "    <tr>\n",
              "      <th>gill-attachment</th>\n",
              "      <td>54035.0</td>\n",
              "      <td>2.142056</td>\n",
              "      <td>2.228821</td>\n",
              "      <td>0.000000</td>\n",
              "      <td>0.000000</td>\n",
              "      <td>1.000000</td>\n",
              "      <td>4.000000</td>\n",
              "      <td>6.000000</td>\n",
              "    </tr>\n",
              "    <tr>\n",
              "      <th>gill-color</th>\n",
              "      <td>54035.0</td>\n",
              "      <td>7.329509</td>\n",
              "      <td>3.200266</td>\n",
              "      <td>0.000000</td>\n",
              "      <td>5.000000</td>\n",
              "      <td>8.000000</td>\n",
              "      <td>10.000000</td>\n",
              "      <td>11.000000</td>\n",
              "    </tr>\n",
              "    <tr>\n",
              "      <th>stem-height</th>\n",
              "      <td>54035.0</td>\n",
              "      <td>0.759110</td>\n",
              "      <td>0.650969</td>\n",
              "      <td>0.000426</td>\n",
              "      <td>0.270997</td>\n",
              "      <td>0.593295</td>\n",
              "      <td>1.054858</td>\n",
              "      <td>3.835320</td>\n",
              "    </tr>\n",
              "    <tr>\n",
              "      <th>stem-width</th>\n",
              "      <td>54035.0</td>\n",
              "      <td>1051.081299</td>\n",
              "      <td>782.056076</td>\n",
              "      <td>0.000000</td>\n",
              "      <td>421.000000</td>\n",
              "      <td>923.000000</td>\n",
              "      <td>1523.000000</td>\n",
              "      <td>3569.000000</td>\n",
              "    </tr>\n",
              "    <tr>\n",
              "      <th>stem-color</th>\n",
              "      <td>54035.0</td>\n",
              "      <td>8.418062</td>\n",
              "      <td>3.262078</td>\n",
              "      <td>0.000000</td>\n",
              "      <td>6.000000</td>\n",
              "      <td>11.000000</td>\n",
              "      <td>11.000000</td>\n",
              "      <td>12.000000</td>\n",
              "    </tr>\n",
              "    <tr>\n",
              "      <th>season</th>\n",
              "      <td>54035.0</td>\n",
              "      <td>0.952163</td>\n",
              "      <td>0.305594</td>\n",
              "      <td>0.027372</td>\n",
              "      <td>0.888450</td>\n",
              "      <td>0.943195</td>\n",
              "      <td>0.943195</td>\n",
              "      <td>1.804273</td>\n",
              "    </tr>\n",
              "    <tr>\n",
              "      <th>class</th>\n",
              "      <td>54035.0</td>\n",
              "      <td>0.549181</td>\n",
              "      <td>0.497580</td>\n",
              "      <td>0.000000</td>\n",
              "      <td>0.000000</td>\n",
              "      <td>1.000000</td>\n",
              "      <td>1.000000</td>\n",
              "      <td>1.000000</td>\n",
              "    </tr>\n",
              "  </tbody>\n",
              "</table>\n",
              "</div>\n",
              "    <div class=\"colab-df-buttons\">\n",
              "\n",
              "  <div class=\"colab-df-container\">\n",
              "    <button class=\"colab-df-convert\" onclick=\"convertToInteractive('df-4b48e8ad-8f16-4265-b3c0-06facaa9691d')\"\n",
              "            title=\"Convert this dataframe to an interactive table.\"\n",
              "            style=\"display:none;\">\n",
              "\n",
              "  <svg xmlns=\"http://www.w3.org/2000/svg\" height=\"24px\" viewBox=\"0 -960 960 960\">\n",
              "    <path d=\"M120-120v-720h720v720H120Zm60-500h600v-160H180v160Zm220 220h160v-160H400v160Zm0 220h160v-160H400v160ZM180-400h160v-160H180v160Zm440 0h160v-160H620v160ZM180-180h160v-160H180v160Zm440 0h160v-160H620v160Z\"/>\n",
              "  </svg>\n",
              "    </button>\n",
              "\n",
              "  <style>\n",
              "    .colab-df-container {\n",
              "      display:flex;\n",
              "      gap: 12px;\n",
              "    }\n",
              "\n",
              "    .colab-df-convert {\n",
              "      background-color: #E8F0FE;\n",
              "      border: none;\n",
              "      border-radius: 50%;\n",
              "      cursor: pointer;\n",
              "      display: none;\n",
              "      fill: #1967D2;\n",
              "      height: 32px;\n",
              "      padding: 0 0 0 0;\n",
              "      width: 32px;\n",
              "    }\n",
              "\n",
              "    .colab-df-convert:hover {\n",
              "      background-color: #E2EBFA;\n",
              "      box-shadow: 0px 1px 2px rgba(60, 64, 67, 0.3), 0px 1px 3px 1px rgba(60, 64, 67, 0.15);\n",
              "      fill: #174EA6;\n",
              "    }\n",
              "\n",
              "    .colab-df-buttons div {\n",
              "      margin-bottom: 4px;\n",
              "    }\n",
              "\n",
              "    [theme=dark] .colab-df-convert {\n",
              "      background-color: #3B4455;\n",
              "      fill: #D2E3FC;\n",
              "    }\n",
              "\n",
              "    [theme=dark] .colab-df-convert:hover {\n",
              "      background-color: #434B5C;\n",
              "      box-shadow: 0px 1px 3px 1px rgba(0, 0, 0, 0.15);\n",
              "      filter: drop-shadow(0px 1px 2px rgba(0, 0, 0, 0.3));\n",
              "      fill: #FFFFFF;\n",
              "    }\n",
              "  </style>\n",
              "\n",
              "    <script>\n",
              "      const buttonEl =\n",
              "        document.querySelector('#df-4b48e8ad-8f16-4265-b3c0-06facaa9691d button.colab-df-convert');\n",
              "      buttonEl.style.display =\n",
              "        google.colab.kernel.accessAllowed ? 'block' : 'none';\n",
              "\n",
              "      async function convertToInteractive(key) {\n",
              "        const element = document.querySelector('#df-4b48e8ad-8f16-4265-b3c0-06facaa9691d');\n",
              "        const dataTable =\n",
              "          await google.colab.kernel.invokeFunction('convertToInteractive',\n",
              "                                                    [key], {});\n",
              "        if (!dataTable) return;\n",
              "\n",
              "        const docLinkHtml = 'Like what you see? Visit the ' +\n",
              "          '<a target=\"_blank\" href=https://colab.research.google.com/notebooks/data_table.ipynb>data table notebook</a>'\n",
              "          + ' to learn more about interactive tables.';\n",
              "        element.innerHTML = '';\n",
              "        dataTable['output_type'] = 'display_data';\n",
              "        await google.colab.output.renderOutput(dataTable, element);\n",
              "        const docLink = document.createElement('div');\n",
              "        docLink.innerHTML = docLinkHtml;\n",
              "        element.appendChild(docLink);\n",
              "      }\n",
              "    </script>\n",
              "  </div>\n",
              "\n",
              "\n",
              "<div id=\"df-9a96ca76-ecfa-4793-a581-ddca646ba87b\">\n",
              "  <button class=\"colab-df-quickchart\" onclick=\"quickchart('df-9a96ca76-ecfa-4793-a581-ddca646ba87b')\"\n",
              "            title=\"Suggest charts\"\n",
              "            style=\"display:none;\">\n",
              "\n",
              "<svg xmlns=\"http://www.w3.org/2000/svg\" height=\"24px\"viewBox=\"0 0 24 24\"\n",
              "     width=\"24px\">\n",
              "    <g>\n",
              "        <path d=\"M19 3H5c-1.1 0-2 .9-2 2v14c0 1.1.9 2 2 2h14c1.1 0 2-.9 2-2V5c0-1.1-.9-2-2-2zM9 17H7v-7h2v7zm4 0h-2V7h2v10zm4 0h-2v-4h2v4z\"/>\n",
              "    </g>\n",
              "</svg>\n",
              "  </button>\n",
              "\n",
              "<style>\n",
              "  .colab-df-quickchart {\n",
              "      --bg-color: #E8F0FE;\n",
              "      --fill-color: #1967D2;\n",
              "      --hover-bg-color: #E2EBFA;\n",
              "      --hover-fill-color: #174EA6;\n",
              "      --disabled-fill-color: #AAA;\n",
              "      --disabled-bg-color: #DDD;\n",
              "  }\n",
              "\n",
              "  [theme=dark] .colab-df-quickchart {\n",
              "      --bg-color: #3B4455;\n",
              "      --fill-color: #D2E3FC;\n",
              "      --hover-bg-color: #434B5C;\n",
              "      --hover-fill-color: #FFFFFF;\n",
              "      --disabled-bg-color: #3B4455;\n",
              "      --disabled-fill-color: #666;\n",
              "  }\n",
              "\n",
              "  .colab-df-quickchart {\n",
              "    background-color: var(--bg-color);\n",
              "    border: none;\n",
              "    border-radius: 50%;\n",
              "    cursor: pointer;\n",
              "    display: none;\n",
              "    fill: var(--fill-color);\n",
              "    height: 32px;\n",
              "    padding: 0;\n",
              "    width: 32px;\n",
              "  }\n",
              "\n",
              "  .colab-df-quickchart:hover {\n",
              "    background-color: var(--hover-bg-color);\n",
              "    box-shadow: 0 1px 2px rgba(60, 64, 67, 0.3), 0 1px 3px 1px rgba(60, 64, 67, 0.15);\n",
              "    fill: var(--button-hover-fill-color);\n",
              "  }\n",
              "\n",
              "  .colab-df-quickchart-complete:disabled,\n",
              "  .colab-df-quickchart-complete:disabled:hover {\n",
              "    background-color: var(--disabled-bg-color);\n",
              "    fill: var(--disabled-fill-color);\n",
              "    box-shadow: none;\n",
              "  }\n",
              "\n",
              "  .colab-df-spinner {\n",
              "    border: 2px solid var(--fill-color);\n",
              "    border-color: transparent;\n",
              "    border-bottom-color: var(--fill-color);\n",
              "    animation:\n",
              "      spin 1s steps(1) infinite;\n",
              "  }\n",
              "\n",
              "  @keyframes spin {\n",
              "    0% {\n",
              "      border-color: transparent;\n",
              "      border-bottom-color: var(--fill-color);\n",
              "      border-left-color: var(--fill-color);\n",
              "    }\n",
              "    20% {\n",
              "      border-color: transparent;\n",
              "      border-left-color: var(--fill-color);\n",
              "      border-top-color: var(--fill-color);\n",
              "    }\n",
              "    30% {\n",
              "      border-color: transparent;\n",
              "      border-left-color: var(--fill-color);\n",
              "      border-top-color: var(--fill-color);\n",
              "      border-right-color: var(--fill-color);\n",
              "    }\n",
              "    40% {\n",
              "      border-color: transparent;\n",
              "      border-right-color: var(--fill-color);\n",
              "      border-top-color: var(--fill-color);\n",
              "    }\n",
              "    60% {\n",
              "      border-color: transparent;\n",
              "      border-right-color: var(--fill-color);\n",
              "    }\n",
              "    80% {\n",
              "      border-color: transparent;\n",
              "      border-right-color: var(--fill-color);\n",
              "      border-bottom-color: var(--fill-color);\n",
              "    }\n",
              "    90% {\n",
              "      border-color: transparent;\n",
              "      border-bottom-color: var(--fill-color);\n",
              "    }\n",
              "  }\n",
              "</style>\n",
              "\n",
              "  <script>\n",
              "    async function quickchart(key) {\n",
              "      const quickchartButtonEl =\n",
              "        document.querySelector('#' + key + ' button');\n",
              "      quickchartButtonEl.disabled = true;  // To prevent multiple clicks.\n",
              "      quickchartButtonEl.classList.add('colab-df-spinner');\n",
              "      try {\n",
              "        const charts = await google.colab.kernel.invokeFunction(\n",
              "            'suggestCharts', [key], {});\n",
              "      } catch (error) {\n",
              "        console.error('Error during call to suggestCharts:', error);\n",
              "      }\n",
              "      quickchartButtonEl.classList.remove('colab-df-spinner');\n",
              "      quickchartButtonEl.classList.add('colab-df-quickchart-complete');\n",
              "    }\n",
              "    (() => {\n",
              "      let quickchartButtonEl =\n",
              "        document.querySelector('#df-9a96ca76-ecfa-4793-a581-ddca646ba87b button');\n",
              "      quickchartButtonEl.style.display =\n",
              "        google.colab.kernel.accessAllowed ? 'block' : 'none';\n",
              "    })();\n",
              "  </script>\n",
              "</div>\n",
              "    </div>\n",
              "  </div>\n"
            ],
            "application/vnd.google.colaboratory.intrinsic+json": {
              "type": "dataframe",
              "summary": "{\n  \"name\": \"data\",\n  \"rows\": 9,\n  \"fields\": [\n    {\n      \"column\": \"count\",\n      \"properties\": {\n        \"dtype\": \"number\",\n        \"std\": 0.0,\n        \"min\": 54035.0,\n        \"max\": 54035.0,\n        \"num_unique_values\": 1,\n        \"samples\": [\n          54035.0\n        ],\n        \"semantic_type\": \"\",\n        \"description\": \"\"\n      }\n    },\n    {\n      \"column\": \"mean\",\n      \"properties\": {\n        \"dtype\": \"number\",\n        \"std\": 375.32442557772293,\n        \"min\": 0.5491810863329324,\n        \"max\": 1051.0812991579533,\n        \"num_unique_values\": 9,\n        \"samples\": [\n          0.9521629527084753\n        ],\n        \"semantic_type\": \"\",\n        \"description\": \"\"\n      }\n    },\n    {\n      \"column\": \"std\",\n      \"properties\": {\n        \"dtype\": \"number\",\n        \"std\": 272.2884190221664,\n        \"min\": 0.3055935859378124,\n        \"max\": 782.0560759927652,\n        \"num_unique_values\": 9,\n        \"samples\": [\n          0.3055935859378124\n        ],\n        \"semantic_type\": \"\",\n        \"description\": \"\"\n      }\n    },\n    {\n      \"column\": \"min\",\n      \"properties\": {\n        \"dtype\": \"number\",\n        \"std\": 0.009107395209101627,\n        \"min\": 0.0,\n        \"max\": 0.0273721330556057,\n        \"num_unique_values\": 3,\n        \"samples\": [\n          0.0\n        ],\n        \"semantic_type\": \"\",\n        \"description\": \"\"\n      }\n    },\n    {\n      \"column\": \"25%\",\n      \"properties\": {\n        \"dtype\": \"number\",\n        \"std\": 159.12276270703185,\n        \"min\": 0.0,\n        \"max\": 421.0,\n        \"num_unique_values\": 8,\n        \"samples\": [\n          2.0\n        ],\n        \"semantic_type\": \"\",\n        \"description\": \"\"\n      }\n    },\n    {\n      \"column\": \"50%\",\n      \"properties\": {\n        \"dtype\": \"number\",\n        \"std\": 332.76403973988823,\n        \"min\": 0.593295054604175,\n        \"max\": 923.0,\n        \"num_unique_values\": 8,\n        \"samples\": [\n          5.0\n        ],\n        \"semantic_type\": \"\",\n        \"description\": \"\"\n      }\n    },\n    {\n      \"column\": \"75%\",\n      \"properties\": {\n        \"dtype\": \"number\",\n        \"std\": 538.7957138168017,\n        \"min\": 0.9431945538974952,\n        \"max\": 1523.0,\n        \"num_unique_values\": 9,\n        \"samples\": [\n          0.9431945538974952\n        ],\n        \"semantic_type\": \"\",\n        \"description\": \"\"\n      }\n    },\n    {\n      \"column\": \"max\",\n      \"properties\": {\n        \"dtype\": \"number\",\n        \"std\": 1272.34442118774,\n        \"min\": 1.0,\n        \"max\": 3569.0,\n        \"num_unique_values\": 8,\n        \"samples\": [\n          6.0\n        ],\n        \"semantic_type\": \"\",\n        \"description\": \"\"\n      }\n    }\n  ]\n}"
            }
          },
          "metadata": {},
          "execution_count": 29
        }
      ]
    },
    {
      "cell_type": "code",
      "source": [
        "target_classes = data[target_column].unique().tolist()"
      ],
      "metadata": {
        "id": "ORHAWdrBow9D"
      },
      "execution_count": null,
      "outputs": []
    },
    {
      "cell_type": "code",
      "source": [
        "data.isnull().sum()"
      ],
      "metadata": {
        "colab": {
          "base_uri": "https://localhost:8080/"
        },
        "id": "cPenpfyjXUZj",
        "outputId": "cc305b25-3df5-4ef1-d880-0dbb644aa71e"
      },
      "execution_count": null,
      "outputs": [
        {
          "output_type": "execute_result",
          "data": {
            "text/plain": [
              "cap-diameter       0\n",
              "cap-shape          0\n",
              "gill-attachment    0\n",
              "gill-color         0\n",
              "stem-height        0\n",
              "stem-width         0\n",
              "stem-color         0\n",
              "season             0\n",
              "class              0\n",
              "dtype: int64"
            ]
          },
          "metadata": {},
          "execution_count": 31
        }
      ]
    },
    {
      "cell_type": "code",
      "source": [
        "class_counts = data[target_column].value_counts()\n",
        "plt.figure(figsize=(4, 2))\n",
        "plt.bar(class_counts.index, class_counts.values, color=['orange', 'purple'])\n",
        "plt.xlabel('Clase')\n",
        "plt.ylabel('Frecuencia')\n",
        "plt.title('Frecuencia de clases objetivo')\n",
        "plt.xticks([0, 1], ['Clase 0', 'Clase 1'])\n",
        "plt.show()"
      ],
      "metadata": {
        "colab": {
          "base_uri": "https://localhost:8080/",
          "height": 256
        },
        "id": "DhTuyJRLqg34",
        "outputId": "1dbef214-31cc-4b64-dee3-6c37be906761"
      },
      "execution_count": null,
      "outputs": [
        {
          "output_type": "display_data",
          "data": {
            "text/plain": [
              "<Figure size 400x200 with 1 Axes>"
            ],
            "image/png": "[encoded data removed]"
          },
          "metadata": {}
        }
      ]
    },
    {
      "cell_type": "markdown",
      "source": [
        "# **Clasificación binaria con Random Forest**"
      ],
      "metadata": {
        "id": "Qa5vnIiAf1U5"
      }
    },
    {
      "cell_type": "code",
      "source": [
        "from sklearn.pipeline import Pipeline\n",
        "from sklearn.preprocessing import StandardScaler, MinMaxScaler, RobustScaler\n",
        "from sklearn.ensemble import RandomForestClassifier\n",
        "from sklearn.compose import ColumnTransformer\n",
        "\n",
        "# CREACIÓN DEL PIPELINE CON SVMs\n",
        "model = Pipeline([\n",
        "    ('classifier', RandomForestClassifier(random_state=42, max_depth=None, oob_score=True)) # Random Forest para tareas de clasificación.\n",
        "])"
      ],
      "metadata": {
        "id": "TRm6Y2UbgA-z"
      },
      "execution_count": null,
      "outputs": []
    },
    {
      "cell_type": "code",
      "source": [
        "# DIVISIÓN ENTRE COLUMNAS PREDICTIVAS Y OBJETIVO\n",
        "# Separar colunas predictoras de columna objetivo\n",
        "X = data.drop(columns=target_column)\n",
        "y = data[target_column]"
      ],
      "metadata": {
        "id": "8527oG8hgIqV"
      },
      "execution_count": null,
      "outputs": []
    },
    {
      "cell_type": "code",
      "source": [
        "from sklearn.model_selection import train_test_split, GridSearchCV, cross_val_score, KFold\n",
        "\n",
        "# DIVISIÓN ENTRE DATOS DE ENTRENAMIENTO Y DATOS DE TESTEO\n",
        "# Seleccionamos una proporción de 80% de los datos para entrenamiento y 20% para el testeo.\n",
        "X_train, X_test, y_train, y_test = train_test_split(X, y, test_size=0.2)\n",
        "\n",
        "print(\"Tamaño datos de entrenamiento:\", X_train.shape)\n",
        "print(\"Tamaño datos de testeo:\", X_test.shape)"
      ],
      "metadata": {
        "colab": {
          "base_uri": "https://localhost:8080/"
        },
        "id": "mDmIFq7zghx-",
        "outputId": "538e57a0-8b71-4b17-fdd9-e03b24a3a9e2"
      },
      "execution_count": null,
      "outputs": [
        {
          "output_type": "stream",
          "name": "stdout",
          "text": [
            "Tamaño datos de entrenamiento: (43228, 8)\n",
            "Tamaño datos de testeo: (10807, 8)\n"
          ]
        }
      ]
    },
    {
      "cell_type": "code",
      "source": [
        "# CONFIGURACIÓN DE LA BÚSQUEDA DE HIPERPARÁMETROS\n",
        "# Configurar la búsqueda por validación cruzada para encontrar el mejor valor de alpha\n",
        "metaparameter_list = ['classifier__max_features', 'classifier__min_samples_split']\n",
        "param_grid = {\n",
        "    metaparameter_list[0]: ['sqrt', 'log2', None], # Las opciones es la raíz\n",
        "    metaparameter_list[1]: [2, 5, 10],\n",
        "}\n",
        "\n",
        "# Configurar el GridSearchCV\n",
        "grid_search = GridSearchCV(model, param_grid, cv=5, verbose = 1, scoring='f1_weighted')"
      ],
      "metadata": {
        "id": "yHQi76WDgmNv"
      },
      "execution_count": null,
      "outputs": []
    },
    {
      "cell_type": "code",
      "source": [
        "from scipy.stats import mode\n",
        "\n",
        "# BÚSQUEDA DE HIPERPARÁMETROS CON VALIDACIÓN ANIDADA.\n",
        "# Este paso es independiente del entrenamiento posterior, pero es recomendable para evaluar la variabilidad de los modelos en cuanto a evaluación y selección de hiperparámetros.\n",
        "n_splits = 5\n",
        "outer_cv = KFold(n_splits=n_splits, shuffle=True, random_state=42)\n",
        "best_params_list = []\n",
        "best_scores = []\n",
        "\n",
        "# Aquí estamos haciendo una Validación Cruzada manualmente. En cada iteración (tantas como número de folds indicados) se calculará un GridSearchCV\n",
        "# con el conjunto de entrenamiento seleccionado en ese fold.\n",
        "for train_index, test_index in outer_cv.split(X_train):\n",
        "    X_train_fold = X_train.iloc[train_index]\n",
        "    X_test_fold = X_train.iloc[test_index]\n",
        "    y_train_fold = y_train.iloc[train_index]\n",
        "    y_test_fold = y_train.iloc[test_index]\n",
        "\n",
        "    # Ejecutar GridSearchCV\n",
        "    grid_search.fit(X_train_fold, y_train_fold)\n",
        "\n",
        "    # Almacenar los mejores parámetros y los mejores resultados en cada split\n",
        "    best_params_list.append(grid_search.best_params_)\n",
        "    best_scores.append(grid_search.best_score_)\n",
        "\n",
        "# Un bucle por fold, indicando el hiperparámetro óptimo y la mejor métrica de error de esa iteración.\n",
        "for split in range(n_splits):\n",
        "  for metaparameter in metaparameter_list:\n",
        "    value = best_params_list[split][metaparameter]\n",
        "    if isinstance(value, (int, float)):\n",
        "        print(f'Mejor valor en el fold {split} del {metaparameter} en VC anidada: {round(value, 3)}')\n",
        "    else:\n",
        "        print(f'Mejor valor en el fold {split} del {metaparameter} en VC anidada: {value}')\n",
        "  print(f\"Mejor f1-Score ponderada en el fold {split}: {np.round(best_scores[split],2)}\\n\")\n",
        "\n",
        "# Un bucle para los estadísticos de cada hiperparámetro\n",
        "for metaparameter in metaparameter_list:\n",
        "  values = [value[metaparameter] for value in best_params_list] # Recogemos los diferentes valores que nos devuelve cada fold\n",
        "  if isinstance(values[0], (int, float)):\n",
        "    mean = sum(values) / len(values) # Calculamos la media\n",
        "    std = np.sqrt(sum((value - mean) ** 2 for value in values) / len(values)) # Calculamos la Desviación Típica\n",
        "    print(f'Promedio de las puntuaciones {metaparameter} en VC anidada: {round(mean,3)}')\n",
        "    print(f'Desviación Típica de las puntuaciones {metaparameter} en VC anidada: {round(std,3)}\\n')\n",
        "  else:\n",
        "    unique_values, counts = np.unique(values, return_counts=True) # Valores y su frecuencia en values\n",
        "    max_index = np.argmax(counts) # Índice del valor con mayor frecuencia\n",
        "    mode = unique_values[max_index]\n",
        "    count = counts[max_index]\n",
        "    print(f'Moda de las puntuaciones {metaparameter} en VC anidada: {mode}')\n",
        "    print(f'Frecuencia de la moda de las puntuaciones {metaparameter} en VC anidada: {count}')"
      ],
      "metadata": {
        "colab": {
          "base_uri": "https://localhost:8080/"
        },
        "id": "uzTohQPehrn8",
        "outputId": "ae520230-9e5f-47a9-df55-d72ec61b4801"
      },
      "execution_count": null,
      "outputs": [
        {
          "output_type": "stream",
          "name": "stdout",
          "text": [
            "Fitting 5 folds for each of 9 candidates, totalling 45 fits\n"
          ]
        }
      ]
    },
    {
      "cell_type": "code",
      "source": [
        "# BÚSQUEDA DE HIPERPARÁMETROS SIN VALIDACIÓN ANIDADA\n",
        "# Entrenamos ahora con GridSearchCV sin anidar.\n",
        "grid_search.fit(X_train, y_train)\n",
        "\n",
        "# Mostrar mejor puntuación y los mejores parámetros. Podemos compararlos a aquellos valores obtenidos en la validación cruzada anidada.\n",
        "for metaparameter in metaparameter_list:\n",
        "  value = grid_search.best_params_[metaparameter]\n",
        "  if isinstance(value, (int, float)):\n",
        "    print(f'Mejor puntuación del {metaparameter} en VC anidada: {round(grid_search.best_params_[metaparameter],3)}')\n",
        "  else:\n",
        "    print(f'Mejor valor del {metaparameter} en VC anidada: {value}')\n",
        "print(\"Mejor F1-Score:\", np.round(grid_search.best_score_,2))"
      ],
      "metadata": {
        "colab": {
          "base_uri": "https://localhost:8080/"
        },
        "id": "rBNItPSSh6WW",
        "outputId": "2f8e513c-d290-4f63-87d3-c1c7d038b325"
      },
      "execution_count": null,
      "outputs": [
        {
          "output_type": "stream",
          "name": "stdout",
          "text": [
            "Fitting 5 folds for each of 9 candidates, totalling 45 fits\n",
            "Mejor valor del classifier__max_features en VC anidada: sqrt\n",
            "Mejor puntuación del classifier__min_samples_split en VC anidada: 5\n",
            "Mejor F1-Score: 0.99\n"
          ]
        }
      ]
    },
    {
      "cell_type": "code",
      "source": [
        "# TESTEO DEL MODELO\n",
        "# Recoger el modelo con los mejores hiperparámetros\n",
        "best_model = grid_search.best_estimator_\n",
        "y_pred = best_model.predict(X_test)"
      ],
      "metadata": {
        "id": "3nMq5W2YiRk8"
      },
      "execution_count": null,
      "outputs": []
    },
    {
      "cell_type": "code",
      "source": [
        "from sklearn.metrics import accuracy_score, precision_score, recall_score, f1_score, roc_auc_score, confusion_matrix, roc_curve\n",
        "\n",
        "# EVALUACIÓN DEL MODELO\n",
        "accuracy = round(accuracy_score(y_test, y_pred), 2)\n",
        "precision = round(precision_score(y_test, y_pred), 2)\n",
        "recall = round(recall_score(y_test, y_pred), 2)\n",
        "f1 = round(f1_score(y_test, y_pred), 2)\n",
        "conf_matrix = confusion_matrix(y_test, y_pred)\n",
        "tree_model = best_model.named_steps['classifier']\n",
        "oob_score = tree_model.oob_score_\n",
        "\n",
        "print(\"Exactitud:\", accuracy)\n",
        "print(\"Precisión:\", precision)\n",
        "print(\"Sensibilidad:\", recall)\n",
        "print(\"F1 Score:\", f1)\n",
        "print(f\"OOB Score: {oob_score:.2f}\")\n",
        "print(\"Matriz de Confusión:\\n\", conf_matrix)"
      ],
      "metadata": {
        "colab": {
          "base_uri": "https://localhost:8080/"
        },
        "id": "tkiYDDmHiTuH",
        "outputId": "fbf6b967-bc7b-45e3-ed97-27e50aa9820a"
      },
      "execution_count": null,
      "outputs": [
        {
          "output_type": "stream",
          "name": "stdout",
          "text": [
            "Exactitud: 0.99\n",
            "Precisión: 0.99\n",
            "Sensibilidad: 0.99\n",
            "F1 Score: 0.99\n",
            "OOB Score: 0.99\n",
            "Matriz de Confusión:\n",
            " [[4827   53]\n",
            " [  48 5879]]\n"
          ]
        }
      ]
    },
    {
      "cell_type": "code",
      "source": [
        "# LOCALIZACIÓN DEL PUNTO CRÍTICO\n",
        "n_estimators_range = range(1, 101) # Rango en el número de estimadores a probar\n",
        "train_errors = []\n",
        "test_errors = []\n",
        "\n",
        "# Extraer los mejores hiperparámetros\n",
        "best_max_features = grid_search.best_params_['classifier__max_features']\n",
        "best_min_samples_split = grid_search.best_params_['classifier__min_samples_split'] # Metaparámetros obtenido del mejor modelo obtenido en el GridSearch\n",
        "\n",
        "# Este bucle entrena y evalua un Random Forest, cada uno con un número distinto de estimadores.\n",
        "for n in n_estimators_range:\n",
        "    clf = RandomForestClassifier(\n",
        "        n_estimators=n,\n",
        "        max_features = best_max_features,\n",
        "        min_samples_split = best_min_samples_split,\n",
        "        random_state=42,\n",
        "    )\n",
        "    clf.fit(X_train, y_train)\n",
        "\n",
        "    # Obtenemos la medida del error, tanto para las muestras de entrenamiento como de testeo.\n",
        "    train_errors.append(1 - f1_score(y_train, clf.predict(X_train)))\n",
        "    test_errors.append(1 - f1_score(y_test, clf.predict(X_test)))\n",
        "\n",
        "# Graficar los errores de entrenamiento y prueba\n",
        "plt.figure(figsize=(8, 4))\n",
        "plt.plot(n_estimators_range, train_errors, label='Error de Entrenamiento')\n",
        "plt.plot(n_estimators_range, test_errors, label='Error de Prueba')\n",
        "plt.xlabel('Número de Árboles')\n",
        "plt.ylabel('Error')\n",
        "plt.title('Error vs. Número de Árboles en el Random Forest')\n",
        "plt.legend()\n",
        "plt.show()"
      ],
      "metadata": {
        "colab": {
          "base_uri": "https://localhost:8080/",
          "height": 410
        },
        "id": "FYFxE0aViWV1",
        "outputId": "38b6cc44-b0a0-4a6c-8d23-ed5186962ebe"
      },
      "execution_count": null,
      "outputs": [
        {
          "output_type": "display_data",
          "data": {
            "text/plain": [
              "<Figure size 800x400 with 1 Axes>"
            ],
            "image/png": "[encoded data removed]"
          },
          "metadata": {}
        }
      ]
    },
    {
      "cell_type": "code",
      "source": [
        "# INTERPRETACIÓN DEL MODELO\n",
        "# Extraemos las métricas de relevancia de cara característica.\n",
        "importances = tree_model.feature_importances_\n",
        "# Crear un DataFrame para visualizar las importancias\n",
        "feature_importances = pd.DataFrame({'feature': pred_columns, 'importance': importances})\n",
        "feature_importances = feature_importances.sort_values(by='importance', ascending=False)\n",
        "# Graficar la importancia de las características\n",
        "plt.figure(figsize=(5, 2))\n",
        "plt.bar(feature_importances['feature'], feature_importances['importance'])\n",
        "plt.xlabel('Características')\n",
        "plt.ylabel('Importancia')\n",
        "plt.title('Importancia de las Características del Random Forest')\n",
        "plt.xticks(rotation=45)\n",
        "plt.show()"
      ],
      "metadata": {
        "colab": {
          "base_uri": "https://localhost:8080/",
          "height": 328
        },
        "id": "YkBwCF_U43z5",
        "outputId": "95721410-4545-4949-a487-54f6607f881d"
      },
      "execution_count": null,
      "outputs": [
        {
          "output_type": "display_data",
          "data": {
            "text/plain": [
              "<Figure size 500x200 with 1 Axes>"
            ],
            "image/png": "[encoded data removed]"
          },
          "metadata": {}
        }
      ]
    }
  ]
}