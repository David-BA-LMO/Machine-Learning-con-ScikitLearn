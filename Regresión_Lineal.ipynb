{
  "nbformat": 4,
  "nbformat_minor": 0,
  "metadata": {
    "colab": {
      "provenance": [],
      "authorship_tag": "ABX9TyPvrTUgwC/68RzYDVdpzE1Y",
      "include_colab_link": true
    },
    "kernelspec": {
      "name": "python3",
      "display_name": "Python 3"
    },
    "language_info": {
      "name": "python"
    }
  },
  "cells": [
    {
      "cell_type": "markdown",
      "metadata": {
        "id": "view-in-github",
        "colab_type": "text"
      },
      "source": [
        "<a href=\"https://colab.research.google.com/github/David-BA-LMO/Machine-Learning-con-ScikitLearn/blob/main/Regresi%C3%B3n_Lineal.ipynb\" target=\"_parent\"><img src=\"https://colab.research.google.com/assets/colab-badge.svg\" alt=\"Open In Colab\"/></a>"
      ]
    },
    {
      "cell_type": "markdown",
      "source": [
        "# **Regresión supervisada**\n",
        "\n",
        "La regresión es una técnica utilizada para predecir un valor numérico continuo en función de una o más variables independientes. Estas variable a predecir se denomina *variable objetivo* (*target* en literatura inglesa). Variables objetivo típicas pueden ser el precio de un inmueble, la temperatura en una zona determinada del país, la altura media de una población, y en general toda característica que pueda tomar un valor cualquiera dentro de un rango numérico.\n",
        "\n",
        "Esta predicción se realiza a partir de un conjunto *variables predictoras* (*features*), como pueden ser el barrio, la superficie en metros cuadrados o el número de habitaciones en el caso de que busquemos estimar el precio de un piso. El objetivo de la Regresión supervisada es entrenar un algoritmo de Machine Learning  que le permitan realizar la predicción. Para ello se le pasan ejemplos de datos en los que conocemos el valor real de la variables objetivo de manera que descubra patrones que le permitan realizar la predicción con nuevos datos."
      ],
      "metadata": {
        "id": "O9Zevx4jP125"
      }
    },
    {
      "cell_type": "markdown",
      "source": [
        "# **Modelo de Regresión Lineal**"
      ],
      "metadata": {
        "id": "-Ev-Bkmf5qlr"
      }
    },
    {
      "cell_type": "markdown",
      "source": [
        " El modelo más simple para predicción de variables numéricas continuas es sin duda la **Regresión Lineal**. La técnica es muy simple y se basa en lograr ajustar un modelo lineal, definido formalmente de la siguiente manera.\n",
        "\n",
        "$$\\hat{y} = w_{0} + w_{1}x_{1} + w_{2}x_{2} \\cdots + w_{k}x_{k}$$\n",
        "\n",
        "Aquí $x_{i}$ son las diferentes valores de las variables predictoras. Para realizar la predicción el modelo debe aprender unos pesos $w_{i}$ los cuales ponderan cada característica. El sumatorio de las ponderaciones es la predicción final $\\hat{y}$. También se incluye un *interceptor* o *sesgo* $w_{0}$ el cual se considera un valor base o valor de $\\hat{y}$ cuando el resto de coeficientes es $0$.\n",
        "\n",
        "<div style=\"display: flex; justify-content: center;\">\n",
        "<img src=\"https://drive.google.com/uc?export=view&id=1ue5tLu9aKh9wt8_2vQcYGAxAw92vmrsV\" width=\"400\">\n",
        "</div>\n",
        "\n",
        "Desde un perspectiva geométrica, un modelo de regresión genera un plano. Si tenemos una sola variable predictora ese plano es una línea. El interceptor nos indica el punto de corte de esa línea sobre el eje $y$. En caso de contar con dos variables predictoras se trataría de un plano o superficie, e hiperplanos de mayores dimensiones para más de tres variables. Cada distinta combinación de coeficientes $w$ generará un plano con diferentes pendientes y por tanto distintas predicciones que podrá ser más o menos acertadas. En la imagen de arriba vemos una regresión para una única variable. En la grandísima mayoría de los casos no tendremos contaremos con mucho más de un solo coeficiente por lo que la visualización no va ser factible.\n",
        "\n",
        "Pongamos el ejemplo de un modelo para predecir precios de viviendas. Tal modelo tiene dos columnas predictoras: superficie en metros cuadrados y año de construcción. Supongamos una vivienda con $87$ metros cuadrados y construida en $1978$. Tras ser entrenado, los coeficientes del modelo para esas respectivas columnas son $507.38$ y $-9.46$, con un interceptor de $97474.56$. El modelo final sería:\n",
        "\n",
        "$$97474.56 + 507.38\\times 87 + (-9.46)\\times 1978$$\n",
        "\n",
        "Esto nos devolvería una predicción para ese piso de $122904.74$. Evidentemente la dificultad de esta tarea es localizar los valores de esos coeficientes que mejorar nuestra estimación del precio."
      ],
      "metadata": {
        "id": "SHnVjI4W5t0y"
      }
    },
    {
      "cell_type": "markdown",
      "source": [
        "# **Función de pérdida**"
      ],
      "metadata": {
        "id": "9lwhl6k8Wob3"
      }
    },
    {
      "cell_type": "markdown",
      "source": [
        "Ya tenemos un modelo matemático que devuelve una predicción. Inicialmente, y con los coeficientes inicializados de forma aletatoria, las predicciones no serán nada precisas. Notemos que $\\hat{y}$ es simplemente el resultado de nuestro modelo, el cual puede ser más o menos errado. Es aquí donde entra en juego la variable objetivo. Su utilidad radica en que sirve de ejemplo o referencia real a la que queremos aproximar dichas predicciones. Cada dato para el entrenamiento tendrá un valor $y$ en dicha variable objetivo. La idea es minimizar las diferencias $(y - \\hat{y})$ entre las predicciones $\\hat{y}$ que realiza nuestro modelo y dicha variable objetivo. Se muestran en la imagen como líneas punteadas\n",
        "\n",
        "<div style=\"display: flex; justify-content: center;\">\n",
        "<img src=\"https://drive.google.com/uc?export=view&id=1RYoUHZsL_FtyvKhkC4lvRVdfc9XZB9k7\" width=\"400\">\n",
        "\n",
        "Estas diferencias son cuantificadas en la llamada **función de pérdida**: ese error o distancia entre nuestras predicciones y la variable objetivo. La meta final es que el modelo encuentre los coeficientes óptimos que hagan esa función de pérdida lo mínima posible. La función de pérdida suele denotarse como $L$. Debería ahora quedar claro que todo gira en torno a estos coeficientes del modelo: su valor es el que determina si nuestra predicción es más o menos acertada.\n",
        "\n",
        "Existen múltiples métodos para evaluar el error, aunque uno de los más comunes en Regresión Lineal es el de **Mínimos Cuadrados**, o el sumatorio de las diferencias al cuadrado entre el valor predicho y el valor real. Elevar al cuadrado esas diferencias implica simplificar cálculos posteriores y eliminar la influencia de valores negativos.\n",
        "\n",
        "$$L= \\sum_{i=1}^{n}(\\hat{y}-y)^{2}$$\n",
        "\n",
        "También es usual encontrarse una versión alternativa que calcula la media de esas diferencias al cuadrado:\n",
        "\n",
        "$$L= \\frac{1}{n}\\sum_{i=1}^{n}(\\hat{y}-y)^{2}$$\n",
        "\n",
        "Indistintamente, y dado que esta función cuantifica el error, el objetivo será que debamos de minimizar esta función de pérdida para afinar nuestras predicciones."
      ],
      "metadata": {
        "id": "_N-wm4mvdweW"
      }
    },
    {
      "cell_type": "markdown",
      "source": [
        "# **Descenso del Gradiente**"
      ],
      "metadata": {
        "id": "eXhwc5hVaXXr"
      }
    },
    {
      "cell_type": "markdown",
      "source": [
        "La tercera pieza para dar forma a un estimador capaz de realizar predicciones es entrenarlo. En Regresión Lineal entrenar equivale a encontrar los coeficientes del modelo que minimicen la función de pérdida. Existen muchas formas de realizar este paso, algunas de ellas de tipo analítico (como las Ecuación Normal). Pero aprovechando el poder de cálculo de una computadora, suele optarse por una estrategia iterativa. Este método iterativo es llamado **Descenso del Gradiente**. El término descenso hace referencia a la necesidad de encontrar los puntos \"hundidos\" en los que la función de pérdida es más pequeña. Para ello es necesario calcular la derivada parcial de dicha función de pérdida respecto al valor del coeficiente. Recordemos que las derivadas miden la tendencia de la función y nos interesa saber si esta desciende o no, siendo el objetivo final el punto en el que dicha derivada es cercana a $0$, o plana, indicando un punto mínimo. No es lo mismo que la derivada sea $0$ a que los sea la función de pérdida; raramente esta última tendrá un valor $0$.\n",
        "\n",
        "<div style=\"display: flex; justify-content: center;\">\n",
        "<img src=\"https://drive.google.com/uc?export=view&id=1mLAdH9bthVNZeH7DMLHtEkDZcV5oyGH4\" width=\"400\">\n",
        "\n",
        "En cada iteración, el algoritmo del descenso del gradiente calculará la función de pérdida para unos coeficientes específicos, para luego obtener la derivada parcial de dicha función respecto a cada coeficiente ($\\frac{\\partial L}{\\partial  w_{i}}$), y así poder decidir la actualización de los valores de estos últimos, aumentándo el coeficiente si la derivada es negativa y reduciéndolo si la derivada es positiva. Así, el nuevo valor $w'_{i}$ del coeficiente será:\n",
        "\n",
        "$$w'_{i} = w_{i} - \\alpha\\frac{\\partial L}{\\partial  w_{i}}$$\n",
        "\n",
        "El parámetro $\\alpha$ indica cómo de grande será la actualización del peso en cada iteración. Es un metaparámetro muy importante porque determina la rapidez con el que el algoritmo aprende.\n",
        "\n",
        "Para grupos de datos grandes, normalmente no es necesario que en cada pase se calcule la función de pérdida con todos los datos. El **Descenso del Gradiente Estocástico** (SGD) es una alternativa que hace uso de una pequeña parte del dataset para obtener dicha función. Esto mejora bastante la eficiencia computacional del algoritmo y su capacidad de generalización a datos novedosos. Es aconsejable su uso para dataset especialmente grandes por lo que no lo veremos desplegado aquí."
      ],
      "metadata": {
        "id": "r7XlQ7SqaaCu"
      }
    },
    {
      "cell_type": "markdown",
      "source": [
        "# **Evaluación de la Regresión Lineal**"
      ],
      "metadata": {
        "id": "f8QiSuNg0gxh"
      }
    },
    {
      "cell_type": "markdown",
      "source": [
        "La calidad de nuestro modelo de regresión puede ser medida de distintas manera. Estos son las principales métricas utilizadas.\n",
        "\n",
        "- ***Mean Squared Error*** (MSE): promedio de los cuadrados de los errores entre las predicciones y los valores reales. Penaliza más fuertemente los errores grandes.\n",
        "$$MSE = \\frac{1}{n}\\sum_{i=1}^{n} (y_{i} - \\hat{y_{i}})^{2}$$\n",
        "\n",
        "- ***Mean Absolute Error*** (MAE): el promedio de los valores absolutos de los errores entre las predicciones y los valores reales. Es menos sensible a valores atípicos en comparación con MSE.\n",
        "\n",
        "$$MAE = \\frac{1}{n}\\sum_{i=1}^{n} \\left | y_{i} - \\hat{y_{i}}  \\right |$$\n",
        "\n",
        "- ***Root Mean Squared Error*** (RMSE): raíz cuadrada del MSE. Proporciona un error promedio en las mismas unidades que la variable objetivo.\n",
        "$$RMSE = \\sqrt{\\frac{1}{n}\\sum_{i=1}^{n} (y_{i} - \\hat{y_{i}})^{2}}$$\n",
        "\n",
        "- **Coeficiente de Determinación** ($R^{2}$): indica la proporción de la variabilidad total de la variable dependiente que es explicada por el modelo. Toma valores entre $0$ y $1$. Un $R^{2}$ de $0$ indica que el modelo no explica ninguna variabilidad de la variable dependiente. Se calcula como uno menos el ratio entre la suma cuadrada de los errores $(y_{i} - \\hat{y_{i}})^{2}$ entre la suma cuadrada de la variabilidad del modelo $(y_{i} - \\bar{y_{i}})^{2}$ (siendo $\\bar{y_{i}}$ la media).\n",
        "$$R^{2} = 1 - \\frac{\\sum_{i=1}^{n} (y_{i} - \\hat{y_{i}})^{2}}{\\sum_{i=1}^{n} (y_{i} - \\bar{y_{i}})^{2}}$$\n",
        "Un $R^{2}$ muy alto en el conjunto de entrenamiento puede ser indicativo de sobreajuste."
      ],
      "metadata": {
        "id": "6dVqmCCq1NuJ"
      }
    },
    {
      "cell_type": "markdown",
      "source": [
        "#**Guía de uso de la Regresión Lineal**"
      ],
      "metadata": {
        "id": "zj1NXpHFRmzu"
      }
    },
    {
      "cell_type": "markdown",
      "source": [
        "Quizás la mayor ventaja de la Regresión Lineal sea su simplicidad y su facilidad de interpretación. Los coeficientes que obtenemos una vez entrenado el modelo nos indican el peso o importancia de cada una de las columnas y cuánto han contribuído estas en la predicción. Si es posible obtener buenos resultados con un modelo de Regresión Lineal, podría no ser necesario recurrir a algoritmos muy complejos.\n",
        "\n",
        "Los inconvenientes son principalmente dos. Por un lado es un algoritmo basado en un *combinación lineal*, es decir: cualquier modificación de los coeficientes se transmite a la predicción de forma proporcional. Esto puede ser limitante cuando las relaciones entre las variables predictoras y la objetivo son no-lineales. La Regresión Lineal no es capaz de capturar combinaciones más complejas como interacciones entre las propias variables predictoras.\n",
        "\n",
        "\n",
        "<div style=\"display: flex; justify-content: center;\">\n",
        "<img src=\"https://drive.google.com/uc?export=view&id=19J8LXZOySRntYQWfCTWbZv2fYLTBqjjA\" width=\"600\">\n",
        "\n",
        "\n",
        "Esto a su vez está relacionado con el segundo inconveniente que es la presuposición de independencia entre las variables predictoras. El modelo de Regresión Lineal es especialmente sensible en casos de *colinealidad*, es decir, correlación entre variables predictoras. La razón de esto es que, tal y como está estructurado el modelo, un modelo de Regresión Lineal representa el cambio estimado en la variable objetivo a razón de un cambio en una variable predictora, manteniendo el resto constantes. La presencia de correlaciones implica que este cambio se refleja en alguna otra variable predictora, dificultando su tratamiento aislado. La multicolinealidad implica una hipersensibilidad del modelo hacia los cambios y un sesgo en el momento de interpretar los coeficientes asociados a cada variable, aunque no influye demasiado en su precisión."
      ],
      "metadata": {
        "id": "lUxzK_2KRuQn"
      }
    },
    {
      "cell_type": "markdown",
      "source": [
        "# **Entrenamiento y testeo del modelo**"
      ],
      "metadata": {
        "id": "jLGkjPrp5AjE"
      }
    },
    {
      "cell_type": "markdown",
      "source": [
        "El proceso de entrenamiento de un modelo de regresión lineal involucra varios pasos clave para asegurar que el modelo no solo se ajuste bien a los datos de entrenamiento, sino que también generalice adecuadamente a datos no vistos. Buscamos que nuestro modelo sea capaz de realizar buenas predicciones, pero también queremos evitar el **sobreajuste** (*overfitting*), es decir, que dicho modelo aprenda demasiado bien de nuestros set de datos de entrenamiento de manera que mas tarde falle cuando se enfrente a nuevos datos fuera de dicho set. Recordemos que es importante que sea capaz de generalizar a casos no vistos durante el entrenamiento. Existen múltiples técnicas para evitar el sobreajuste. Veremos algunas.\n",
        "\n",
        "El primer paso en el entrenamiento de un modelo de regresión lineal (y en general de cualquier modelo supervisado) es separar las variables predictoras de la variable objetivo . Esto es esencial para definir claramente qué información se utiliza para hacer predicciones y qué se está intentando predecir.\n",
        "\n",
        "Una vez que se tienen las variables predictoras y la variable objetivo, el siguiente paso es dividir el dataset en un conjunto de entrenamiento (*train*) y un conjunto de prueba (*test*). Esto se hace para testear el modelo en datos que no fueron utilizados durante su entrenamiento, proporcionando una estimación de cómo se desempeñará en datos nuevos. Si nuestro modelo funciona bien con los datos de entrenamiento pero fracasa con este conjunto de prueba, estaremos ante un modelo sobreajustado.\n",
        "\n",
        "<div style=\"display: flex; justify-content: center;\">\n",
        "<img src=\"https://drive.google.com/uc?export=view&id=1QzDwMInQwt6-tiYDXcF_2gzUqg-R-frk\" width=\"500\">"
      ],
      "metadata": {
        "id": "H4y5JIyU5OLQ"
      }
    },
    {
      "cell_type": "markdown",
      "source": [
        "# **Validación Cruzada**"
      ],
      "metadata": {
        "id": "bm_ujIB3wQp3"
      }
    },
    {
      "cell_type": "markdown",
      "source": [
        "Otra estrategia para evitar sobreajuste es la **Validación Cruzada** (*Cross Validation*), la cual supone la tercera partición de datos. Normalmente, el entrenamiento exige pasar varias veces el mismo conjunto de datos. Podemos aprovechar esto para evaluar el rendimiento en cada pasada.. La Validación Cruzada permite reservar en cada iteración un conjunto de datos para su evaluación.\n",
        "\n",
        "- ***K-Fold***: se parten los datos de entrenamiento en diferentes secciones o *folds*. En cada ronda un *fold* distinto se reserva para evaluar el resultado final de dicha ronda, mientras que el resto se utiliza para el entrenamiento mismo. Al final habrá tantas rondas como número de *folds* y todos los *folds* habrán servido al menos una vez como validadores.\n",
        "- ***Leave-One-Out Cross-Validation*** (LOOCV): es un caso particular de la validación *K-Fold* donde es igual al número de muestras en el conjunto de datos. Es computacionalmente costosa, ya que supone tantas iteraciones como datos, asi que es útil solo para conjuntos de datos muy pequeños.\n",
        "\n",
        "- ***Stratified K-Fold***: las validaciones anteriores asumen que las diferentes agrupaciones de datos estas distribuidas homogéneamente entre cada *fold*. Sin embargo esto puede no ser así. Es por ello que cuando tenemos valores muy desvalanceados en la columna objetivo podemos usar la versión estratificada, que genera folds con clases balanceadas. Es la que scikit-learn utiliza por defecto para tareas de clasificación.\n",
        "- ***Group K-Fold***: en otros casos nos interesará que el entrenamiento de realice aislando los datos por grupos. Un mismo grupo nunca está en el conjunto de entrenamiento y de validación. Es útil para casos en los que existiese una agrupación de datos que podemos predecir a partir de otra.\n",
        "- ***Time Series Splite***: este caso es específico de datos ordenados cronológicamente. Se utilizan datso de entrenamiento previos que luego se evalúan en los inmediatamente posteriores. En cada iteración, el conjunto de entrenamiento abarca más y más datos pasados."
      ],
      "metadata": {
        "id": "3OCoe1ArwU2M"
      }
    },
    {
      "cell_type": "markdown",
      "source": [
        "# **Análisis del DataFrame**"
      ],
      "metadata": {
        "id": "WQG9UrLmxjvM"
      }
    },
    {
      "cell_type": "code",
      "source": [
        "import matplotlib.pyplot as plt\n",
        "import numpy as np\n",
        "import pandas as pd\n",
        "import math\n",
        "from typing import List, Tuple, Dict\n",
        "import seaborn as sns\n",
        "\n",
        "url='https://drive.google.com/file/d/1gdk_ZEj5iRkBEYdJM2oX5jjBDQl0oqxz/view?usp=sharing'\n",
        "file_id=url.split('/')[-2]\n",
        "dwn_url='https://drive.google.com/uc?id=' + file_id\n",
        "data = pd.read_csv(dwn_url)\n",
        "\n",
        "data.head(6)"
      ],
      "metadata": {
        "colab": {
          "base_uri": "https://localhost:8080/",
          "height": 237
        },
        "id": "ueh-X9iNx6yv",
        "outputId": "caf01406-0163-474f-b871-71c75eb90817"
      },
      "execution_count": null,
      "outputs": [
        {
          "output_type": "execute_result",
          "data": {
            "text/plain": [
              "   SquareFeet  Bedrooms  Bathrooms Neighborhood  YearBuilt          Price\n",
              "0        2126         4          1        Rural       1969  215355.283618\n",
              "1        2459         3          2        Rural       1980  195014.221626\n",
              "2        1860         2          1       Suburb       1970  306891.012076\n",
              "3        2294         2          1        Urban       1996  206786.787153\n",
              "4        2130         5          2       Suburb       2001  272436.239065\n",
              "5        2095         2          3       Suburb       2020  198208.803907"
            ],
            "text/html": [
              "\n",
              "  <div id=\"df-31e3c661-20ce-418b-958f-0e5df2f7b578\" class=\"colab-df-container\">\n",
              "    <div>\n",
              "<style scoped>\n",
              "    .dataframe tbody tr th:only-of-type {\n",
              "        vertical-align: middle;\n",
              "    }\n",
              "\n",
              "    .dataframe tbody tr th {\n",
              "        vertical-align: top;\n",
              "    }\n",
              "\n",
              "    .dataframe thead th {\n",
              "        text-align: right;\n",
              "    }\n",
              "</style>\n",
              "<table border=\"1\" class=\"dataframe\">\n",
              "  <thead>\n",
              "    <tr style=\"text-align: right;\">\n",
              "      <th></th>\n",
              "      <th>SquareFeet</th>\n",
              "      <th>Bedrooms</th>\n",
              "      <th>Bathrooms</th>\n",
              "      <th>Neighborhood</th>\n",
              "      <th>YearBuilt</th>\n",
              "      <th>Price</th>\n",
              "    </tr>\n",
              "  </thead>\n",
              "  <tbody>\n",
              "    <tr>\n",
              "      <th>0</th>\n",
              "      <td>2126</td>\n",
              "      <td>4</td>\n",
              "      <td>1</td>\n",
              "      <td>Rural</td>\n",
              "      <td>1969</td>\n",
              "      <td>215355.283618</td>\n",
              "    </tr>\n",
              "    <tr>\n",
              "      <th>1</th>\n",
              "      <td>2459</td>\n",
              "      <td>3</td>\n",
              "      <td>2</td>\n",
              "      <td>Rural</td>\n",
              "      <td>1980</td>\n",
              "      <td>195014.221626</td>\n",
              "    </tr>\n",
              "    <tr>\n",
              "      <th>2</th>\n",
              "      <td>1860</td>\n",
              "      <td>2</td>\n",
              "      <td>1</td>\n",
              "      <td>Suburb</td>\n",
              "      <td>1970</td>\n",
              "      <td>306891.012076</td>\n",
              "    </tr>\n",
              "    <tr>\n",
              "      <th>3</th>\n",
              "      <td>2294</td>\n",
              "      <td>2</td>\n",
              "      <td>1</td>\n",
              "      <td>Urban</td>\n",
              "      <td>1996</td>\n",
              "      <td>206786.787153</td>\n",
              "    </tr>\n",
              "    <tr>\n",
              "      <th>4</th>\n",
              "      <td>2130</td>\n",
              "      <td>5</td>\n",
              "      <td>2</td>\n",
              "      <td>Suburb</td>\n",
              "      <td>2001</td>\n",
              "      <td>272436.239065</td>\n",
              "    </tr>\n",
              "    <tr>\n",
              "      <th>5</th>\n",
              "      <td>2095</td>\n",
              "      <td>2</td>\n",
              "      <td>3</td>\n",
              "      <td>Suburb</td>\n",
              "      <td>2020</td>\n",
              "      <td>198208.803907</td>\n",
              "    </tr>\n",
              "  </tbody>\n",
              "</table>\n",
              "</div>\n",
              "    <div class=\"colab-df-buttons\">\n",
              "\n",
              "  <div class=\"colab-df-container\">\n",
              "    <button class=\"colab-df-convert\" onclick=\"convertToInteractive('df-31e3c661-20ce-418b-958f-0e5df2f7b578')\"\n",
              "            title=\"Convert this dataframe to an interactive table.\"\n",
              "            style=\"display:none;\">\n",
              "\n",
              "  <svg xmlns=\"http://www.w3.org/2000/svg\" height=\"24px\" viewBox=\"0 -960 960 960\">\n",
              "    <path d=\"M120-120v-720h720v720H120Zm60-500h600v-160H180v160Zm220 220h160v-160H400v160Zm0 220h160v-160H400v160ZM180-400h160v-160H180v160Zm440 0h160v-160H620v160ZM180-180h160v-160H180v160Zm440 0h160v-160H620v160Z\"/>\n",
              "  </svg>\n",
              "    </button>\n",
              "\n",
              "  <style>\n",
              "    .colab-df-container {\n",
              "      display:flex;\n",
              "      gap: 12px;\n",
              "    }\n",
              "\n",
              "    .colab-df-convert {\n",
              "      background-color: #E8F0FE;\n",
              "      border: none;\n",
              "      border-radius: 50%;\n",
              "      cursor: pointer;\n",
              "      display: none;\n",
              "      fill: #1967D2;\n",
              "      height: 32px;\n",
              "      padding: 0 0 0 0;\n",
              "      width: 32px;\n",
              "    }\n",
              "\n",
              "    .colab-df-convert:hover {\n",
              "      background-color: #E2EBFA;\n",
              "      box-shadow: 0px 1px 2px rgba(60, 64, 67, 0.3), 0px 1px 3px 1px rgba(60, 64, 67, 0.15);\n",
              "      fill: #174EA6;\n",
              "    }\n",
              "\n",
              "    .colab-df-buttons div {\n",
              "      margin-bottom: 4px;\n",
              "    }\n",
              "\n",
              "    [theme=dark] .colab-df-convert {\n",
              "      background-color: #3B4455;\n",
              "      fill: #D2E3FC;\n",
              "    }\n",
              "\n",
              "    [theme=dark] .colab-df-convert:hover {\n",
              "      background-color: #434B5C;\n",
              "      box-shadow: 0px 1px 3px 1px rgba(0, 0, 0, 0.15);\n",
              "      filter: drop-shadow(0px 1px 2px rgba(0, 0, 0, 0.3));\n",
              "      fill: #FFFFFF;\n",
              "    }\n",
              "  </style>\n",
              "\n",
              "    <script>\n",
              "      const buttonEl =\n",
              "        document.querySelector('#df-31e3c661-20ce-418b-958f-0e5df2f7b578 button.colab-df-convert');\n",
              "      buttonEl.style.display =\n",
              "        google.colab.kernel.accessAllowed ? 'block' : 'none';\n",
              "\n",
              "      async function convertToInteractive(key) {\n",
              "        const element = document.querySelector('#df-31e3c661-20ce-418b-958f-0e5df2f7b578');\n",
              "        const dataTable =\n",
              "          await google.colab.kernel.invokeFunction('convertToInteractive',\n",
              "                                                    [key], {});\n",
              "        if (!dataTable) return;\n",
              "\n",
              "        const docLinkHtml = 'Like what you see? Visit the ' +\n",
              "          '<a target=\"_blank\" href=https://colab.research.google.com/notebooks/data_table.ipynb>data table notebook</a>'\n",
              "          + ' to learn more about interactive tables.';\n",
              "        element.innerHTML = '';\n",
              "        dataTable['output_type'] = 'display_data';\n",
              "        await google.colab.output.renderOutput(dataTable, element);\n",
              "        const docLink = document.createElement('div');\n",
              "        docLink.innerHTML = docLinkHtml;\n",
              "        element.appendChild(docLink);\n",
              "      }\n",
              "    </script>\n",
              "  </div>\n",
              "\n",
              "\n",
              "<div id=\"df-c8a25a9f-ad97-436f-9391-38225ec0a891\">\n",
              "  <button class=\"colab-df-quickchart\" onclick=\"quickchart('df-c8a25a9f-ad97-436f-9391-38225ec0a891')\"\n",
              "            title=\"Suggest charts\"\n",
              "            style=\"display:none;\">\n",
              "\n",
              "<svg xmlns=\"http://www.w3.org/2000/svg\" height=\"24px\"viewBox=\"0 0 24 24\"\n",
              "     width=\"24px\">\n",
              "    <g>\n",
              "        <path d=\"M19 3H5c-1.1 0-2 .9-2 2v14c0 1.1.9 2 2 2h14c1.1 0 2-.9 2-2V5c0-1.1-.9-2-2-2zM9 17H7v-7h2v7zm4 0h-2V7h2v10zm4 0h-2v-4h2v4z\"/>\n",
              "    </g>\n",
              "</svg>\n",
              "  </button>\n",
              "\n",
              "<style>\n",
              "  .colab-df-quickchart {\n",
              "      --bg-color: #E8F0FE;\n",
              "      --fill-color: #1967D2;\n",
              "      --hover-bg-color: #E2EBFA;\n",
              "      --hover-fill-color: #174EA6;\n",
              "      --disabled-fill-color: #AAA;\n",
              "      --disabled-bg-color: #DDD;\n",
              "  }\n",
              "\n",
              "  [theme=dark] .colab-df-quickchart {\n",
              "      --bg-color: #3B4455;\n",
              "      --fill-color: #D2E3FC;\n",
              "      --hover-bg-color: #434B5C;\n",
              "      --hover-fill-color: #FFFFFF;\n",
              "      --disabled-bg-color: #3B4455;\n",
              "      --disabled-fill-color: #666;\n",
              "  }\n",
              "\n",
              "  .colab-df-quickchart {\n",
              "    background-color: var(--bg-color);\n",
              "    border: none;\n",
              "    border-radius: 50%;\n",
              "    cursor: pointer;\n",
              "    display: none;\n",
              "    fill: var(--fill-color);\n",
              "    height: 32px;\n",
              "    padding: 0;\n",
              "    width: 32px;\n",
              "  }\n",
              "\n",
              "  .colab-df-quickchart:hover {\n",
              "    background-color: var(--hover-bg-color);\n",
              "    box-shadow: 0 1px 2px rgba(60, 64, 67, 0.3), 0 1px 3px 1px rgba(60, 64, 67, 0.15);\n",
              "    fill: var(--button-hover-fill-color);\n",
              "  }\n",
              "\n",
              "  .colab-df-quickchart-complete:disabled,\n",
              "  .colab-df-quickchart-complete:disabled:hover {\n",
              "    background-color: var(--disabled-bg-color);\n",
              "    fill: var(--disabled-fill-color);\n",
              "    box-shadow: none;\n",
              "  }\n",
              "\n",
              "  .colab-df-spinner {\n",
              "    border: 2px solid var(--fill-color);\n",
              "    border-color: transparent;\n",
              "    border-bottom-color: var(--fill-color);\n",
              "    animation:\n",
              "      spin 1s steps(1) infinite;\n",
              "  }\n",
              "\n",
              "  @keyframes spin {\n",
              "    0% {\n",
              "      border-color: transparent;\n",
              "      border-bottom-color: var(--fill-color);\n",
              "      border-left-color: var(--fill-color);\n",
              "    }\n",
              "    20% {\n",
              "      border-color: transparent;\n",
              "      border-left-color: var(--fill-color);\n",
              "      border-top-color: var(--fill-color);\n",
              "    }\n",
              "    30% {\n",
              "      border-color: transparent;\n",
              "      border-left-color: var(--fill-color);\n",
              "      border-top-color: var(--fill-color);\n",
              "      border-right-color: var(--fill-color);\n",
              "    }\n",
              "    40% {\n",
              "      border-color: transparent;\n",
              "      border-right-color: var(--fill-color);\n",
              "      border-top-color: var(--fill-color);\n",
              "    }\n",
              "    60% {\n",
              "      border-color: transparent;\n",
              "      border-right-color: var(--fill-color);\n",
              "    }\n",
              "    80% {\n",
              "      border-color: transparent;\n",
              "      border-right-color: var(--fill-color);\n",
              "      border-bottom-color: var(--fill-color);\n",
              "    }\n",
              "    90% {\n",
              "      border-color: transparent;\n",
              "      border-bottom-color: var(--fill-color);\n",
              "    }\n",
              "  }\n",
              "</style>\n",
              "\n",
              "  <script>\n",
              "    async function quickchart(key) {\n",
              "      const quickchartButtonEl =\n",
              "        document.querySelector('#' + key + ' button');\n",
              "      quickchartButtonEl.disabled = true;  // To prevent multiple clicks.\n",
              "      quickchartButtonEl.classList.add('colab-df-spinner');\n",
              "      try {\n",
              "        const charts = await google.colab.kernel.invokeFunction(\n",
              "            'suggestCharts', [key], {});\n",
              "      } catch (error) {\n",
              "        console.error('Error during call to suggestCharts:', error);\n",
              "      }\n",
              "      quickchartButtonEl.classList.remove('colab-df-spinner');\n",
              "      quickchartButtonEl.classList.add('colab-df-quickchart-complete');\n",
              "    }\n",
              "    (() => {\n",
              "      let quickchartButtonEl =\n",
              "        document.querySelector('#df-c8a25a9f-ad97-436f-9391-38225ec0a891 button');\n",
              "      quickchartButtonEl.style.display =\n",
              "        google.colab.kernel.accessAllowed ? 'block' : 'none';\n",
              "    })();\n",
              "  </script>\n",
              "</div>\n",
              "    </div>\n",
              "  </div>\n"
            ],
            "application/vnd.google.colaboratory.intrinsic+json": {
              "type": "dataframe",
              "variable_name": "data",
              "summary": "{\n  \"name\": \"data\",\n  \"rows\": 50000,\n  \"fields\": [\n    {\n      \"column\": \"SquareFeet\",\n      \"properties\": {\n        \"dtype\": \"number\",\n        \"std\": 575,\n        \"min\": 1000,\n        \"max\": 2999,\n        \"num_unique_values\": 2000,\n        \"samples\": [\n          2578,\n          2250,\n          1585\n        ],\n        \"semantic_type\": \"\",\n        \"description\": \"\"\n      }\n    },\n    {\n      \"column\": \"Bedrooms\",\n      \"properties\": {\n        \"dtype\": \"number\",\n        \"std\": 1,\n        \"min\": 2,\n        \"max\": 5,\n        \"num_unique_values\": 4,\n        \"samples\": [\n          3,\n          5,\n          4\n        ],\n        \"semantic_type\": \"\",\n        \"description\": \"\"\n      }\n    },\n    {\n      \"column\": \"Bathrooms\",\n      \"properties\": {\n        \"dtype\": \"number\",\n        \"std\": 0,\n        \"min\": 1,\n        \"max\": 3,\n        \"num_unique_values\": 3,\n        \"samples\": [\n          1,\n          2,\n          3\n        ],\n        \"semantic_type\": \"\",\n        \"description\": \"\"\n      }\n    },\n    {\n      \"column\": \"Neighborhood\",\n      \"properties\": {\n        \"dtype\": \"category\",\n        \"num_unique_values\": 3,\n        \"samples\": [\n          \"Rural\",\n          \"Suburb\",\n          \"Urban\"\n        ],\n        \"semantic_type\": \"\",\n        \"description\": \"\"\n      }\n    },\n    {\n      \"column\": \"YearBuilt\",\n      \"properties\": {\n        \"dtype\": \"number\",\n        \"std\": 20,\n        \"min\": 1950,\n        \"max\": 2021,\n        \"num_unique_values\": 72,\n        \"samples\": [\n          2001,\n          1967,\n          1962\n        ],\n        \"semantic_type\": \"\",\n        \"description\": \"\"\n      }\n    },\n    {\n      \"column\": \"Price\",\n      \"properties\": {\n        \"dtype\": \"number\",\n        \"std\": 76141.84296604691,\n        \"min\": -36588.16539749279,\n        \"max\": 492195.2599720151,\n        \"num_unique_values\": 50000,\n        \"samples\": [\n          170835.03571295898,\n          126913.4699981214,\n          246611.88309182983\n        ],\n        \"semantic_type\": \"\",\n        \"description\": \"\"\n      }\n    }\n  ]\n}"
            }
          },
          "metadata": {},
          "execution_count": 3
        }
      ]
    },
    {
      "cell_type": "code",
      "source": [
        "data.shape"
      ],
      "metadata": {
        "colab": {
          "base_uri": "https://localhost:8080/"
        },
        "id": "CEdCzcUryziX",
        "outputId": "7bfdb87a-9fe0-4c45-d0f3-b59d622b11ec"
      },
      "execution_count": null,
      "outputs": [
        {
          "output_type": "execute_result",
          "data": {
            "text/plain": [
              "(50000, 6)"
            ]
          },
          "metadata": {},
          "execution_count": 4
        }
      ]
    },
    {
      "cell_type": "code",
      "source": [
        "num_columns = data.select_dtypes(include=[\"int64\",\"float64\"]).columns.tolist()\n",
        "print(\"Columnas numéricas: \", num_columns)\n",
        "\n",
        "cat_columns = data.select_dtypes(include=[\"object\"]).columns.tolist()\n",
        "print(\"Columnas categóricas: \", cat_columns)"
      ],
      "metadata": {
        "colab": {
          "base_uri": "https://localhost:8080/"
        },
        "id": "rGuOPlV3TzSs",
        "outputId": "0f7e73eb-4e09-467f-d158-4f0a4344de19"
      },
      "execution_count": null,
      "outputs": [
        {
          "output_type": "stream",
          "name": "stdout",
          "text": [
            "Columnas numéricas:  ['SquareFeet', 'Bedrooms', 'Bathrooms', 'YearBuilt', 'Price']\n",
            "Columnas categóricas:  ['Neighborhood']\n"
          ]
        }
      ]
    },
    {
      "cell_type": "code",
      "source": [
        "target_column = \"Price\"\n",
        "\n",
        "num_pred_columns = num_columns\n",
        "num_pred_columns.remove(target_column)\n",
        "print(\"Columnas numéricas predictoras: \", num_pred_columns)"
      ],
      "metadata": {
        "colab": {
          "base_uri": "https://localhost:8080/"
        },
        "id": "C5Nh7ECdfQ4C",
        "outputId": "8e976bf1-0db8-4979-a62e-d61a60f72f51"
      },
      "execution_count": null,
      "outputs": [
        {
          "output_type": "stream",
          "name": "stdout",
          "text": [
            "Columnas numéricas predictoras:  ['SquareFeet', 'Bedrooms', 'Bathrooms', 'YearBuilt']\n"
          ]
        }
      ]
    },
    {
      "cell_type": "code",
      "source": [
        "data.describe().T"
      ],
      "metadata": {
        "colab": {
          "base_uri": "https://localhost:8080/",
          "height": 206
        },
        "id": "rYIYgsvcy3bB",
        "outputId": "e656f949-d5fb-43eb-e745-93448f5a63a4"
      },
      "execution_count": null,
      "outputs": [
        {
          "output_type": "execute_result",
          "data": {
            "text/plain": [
              "              count           mean           std           min            25%  \\\n",
              "SquareFeet  50000.0    2006.374680    575.513241   1000.000000    1513.000000   \n",
              "Bedrooms    50000.0       3.498700      1.116326      2.000000       3.000000   \n",
              "Bathrooms   50000.0       1.995420      0.815851      1.000000       1.000000   \n",
              "YearBuilt   50000.0    1985.404420     20.719377   1950.000000    1967.000000   \n",
              "Price       50000.0  224827.325151  76141.842966 -36588.165397  169955.860225   \n",
              "\n",
              "                      50%            75%            max  \n",
              "SquareFeet    2007.000000    2506.000000    2999.000000  \n",
              "Bedrooms         3.000000       4.000000       5.000000  \n",
              "Bathrooms        2.000000       3.000000       3.000000  \n",
              "YearBuilt     1985.000000    2003.000000    2021.000000  \n",
              "Price       225052.141166  279373.630052  492195.259972  "
            ],
            "text/html": [
              "\n",
              "  <div id=\"df-938b3c51-d9c7-4a44-96ce-703e22ee34a2\" class=\"colab-df-container\">\n",
              "    <div>\n",
              "<style scoped>\n",
              "    .dataframe tbody tr th:only-of-type {\n",
              "        vertical-align: middle;\n",
              "    }\n",
              "\n",
              "    .dataframe tbody tr th {\n",
              "        vertical-align: top;\n",
              "    }\n",
              "\n",
              "    .dataframe thead th {\n",
              "        text-align: right;\n",
              "    }\n",
              "</style>\n",
              "<table border=\"1\" class=\"dataframe\">\n",
              "  <thead>\n",
              "    <tr style=\"text-align: right;\">\n",
              "      <th></th>\n",
              "      <th>count</th>\n",
              "      <th>mean</th>\n",
              "      <th>std</th>\n",
              "      <th>min</th>\n",
              "      <th>25%</th>\n",
              "      <th>50%</th>\n",
              "      <th>75%</th>\n",
              "      <th>max</th>\n",
              "    </tr>\n",
              "  </thead>\n",
              "  <tbody>\n",
              "    <tr>\n",
              "      <th>SquareFeet</th>\n",
              "      <td>50000.0</td>\n",
              "      <td>2006.374680</td>\n",
              "      <td>575.513241</td>\n",
              "      <td>1000.000000</td>\n",
              "      <td>1513.000000</td>\n",
              "      <td>2007.000000</td>\n",
              "      <td>2506.000000</td>\n",
              "      <td>2999.000000</td>\n",
              "    </tr>\n",
              "    <tr>\n",
              "      <th>Bedrooms</th>\n",
              "      <td>50000.0</td>\n",
              "      <td>3.498700</td>\n",
              "      <td>1.116326</td>\n",
              "      <td>2.000000</td>\n",
              "      <td>3.000000</td>\n",
              "      <td>3.000000</td>\n",
              "      <td>4.000000</td>\n",
              "      <td>5.000000</td>\n",
              "    </tr>\n",
              "    <tr>\n",
              "      <th>Bathrooms</th>\n",
              "      <td>50000.0</td>\n",
              "      <td>1.995420</td>\n",
              "      <td>0.815851</td>\n",
              "      <td>1.000000</td>\n",
              "      <td>1.000000</td>\n",
              "      <td>2.000000</td>\n",
              "      <td>3.000000</td>\n",
              "      <td>3.000000</td>\n",
              "    </tr>\n",
              "    <tr>\n",
              "      <th>YearBuilt</th>\n",
              "      <td>50000.0</td>\n",
              "      <td>1985.404420</td>\n",
              "      <td>20.719377</td>\n",
              "      <td>1950.000000</td>\n",
              "      <td>1967.000000</td>\n",
              "      <td>1985.000000</td>\n",
              "      <td>2003.000000</td>\n",
              "      <td>2021.000000</td>\n",
              "    </tr>\n",
              "    <tr>\n",
              "      <th>Price</th>\n",
              "      <td>50000.0</td>\n",
              "      <td>224827.325151</td>\n",
              "      <td>76141.842966</td>\n",
              "      <td>-36588.165397</td>\n",
              "      <td>169955.860225</td>\n",
              "      <td>225052.141166</td>\n",
              "      <td>279373.630052</td>\n",
              "      <td>492195.259972</td>\n",
              "    </tr>\n",
              "  </tbody>\n",
              "</table>\n",
              "</div>\n",
              "    <div class=\"colab-df-buttons\">\n",
              "\n",
              "  <div class=\"colab-df-container\">\n",
              "    <button class=\"colab-df-convert\" onclick=\"convertToInteractive('df-938b3c51-d9c7-4a44-96ce-703e22ee34a2')\"\n",
              "            title=\"Convert this dataframe to an interactive table.\"\n",
              "            style=\"display:none;\">\n",
              "\n",
              "  <svg xmlns=\"http://www.w3.org/2000/svg\" height=\"24px\" viewBox=\"0 -960 960 960\">\n",
              "    <path d=\"M120-120v-720h720v720H120Zm60-500h600v-160H180v160Zm220 220h160v-160H400v160Zm0 220h160v-160H400v160ZM180-400h160v-160H180v160Zm440 0h160v-160H620v160ZM180-180h160v-160H180v160Zm440 0h160v-160H620v160Z\"/>\n",
              "  </svg>\n",
              "    </button>\n",
              "\n",
              "  <style>\n",
              "    .colab-df-container {\n",
              "      display:flex;\n",
              "      gap: 12px;\n",
              "    }\n",
              "\n",
              "    .colab-df-convert {\n",
              "      background-color: #E8F0FE;\n",
              "      border: none;\n",
              "      border-radius: 50%;\n",
              "      cursor: pointer;\n",
              "      display: none;\n",
              "      fill: #1967D2;\n",
              "      height: 32px;\n",
              "      padding: 0 0 0 0;\n",
              "      width: 32px;\n",
              "    }\n",
              "\n",
              "    .colab-df-convert:hover {\n",
              "      background-color: #E2EBFA;\n",
              "      box-shadow: 0px 1px 2px rgba(60, 64, 67, 0.3), 0px 1px 3px 1px rgba(60, 64, 67, 0.15);\n",
              "      fill: #174EA6;\n",
              "    }\n",
              "\n",
              "    .colab-df-buttons div {\n",
              "      margin-bottom: 4px;\n",
              "    }\n",
              "\n",
              "    [theme=dark] .colab-df-convert {\n",
              "      background-color: #3B4455;\n",
              "      fill: #D2E3FC;\n",
              "    }\n",
              "\n",
              "    [theme=dark] .colab-df-convert:hover {\n",
              "      background-color: #434B5C;\n",
              "      box-shadow: 0px 1px 3px 1px rgba(0, 0, 0, 0.15);\n",
              "      filter: drop-shadow(0px 1px 2px rgba(0, 0, 0, 0.3));\n",
              "      fill: #FFFFFF;\n",
              "    }\n",
              "  </style>\n",
              "\n",
              "    <script>\n",
              "      const buttonEl =\n",
              "        document.querySelector('#df-938b3c51-d9c7-4a44-96ce-703e22ee34a2 button.colab-df-convert');\n",
              "      buttonEl.style.display =\n",
              "        google.colab.kernel.accessAllowed ? 'block' : 'none';\n",
              "\n",
              "      async function convertToInteractive(key) {\n",
              "        const element = document.querySelector('#df-938b3c51-d9c7-4a44-96ce-703e22ee34a2');\n",
              "        const dataTable =\n",
              "          await google.colab.kernel.invokeFunction('convertToInteractive',\n",
              "                                                    [key], {});\n",
              "        if (!dataTable) return;\n",
              "\n",
              "        const docLinkHtml = 'Like what you see? Visit the ' +\n",
              "          '<a target=\"_blank\" href=https://colab.research.google.com/notebooks/data_table.ipynb>data table notebook</a>'\n",
              "          + ' to learn more about interactive tables.';\n",
              "        element.innerHTML = '';\n",
              "        dataTable['output_type'] = 'display_data';\n",
              "        await google.colab.output.renderOutput(dataTable, element);\n",
              "        const docLink = document.createElement('div');\n",
              "        docLink.innerHTML = docLinkHtml;\n",
              "        element.appendChild(docLink);\n",
              "      }\n",
              "    </script>\n",
              "  </div>\n",
              "\n",
              "\n",
              "<div id=\"df-678ce5c2-be8b-46db-bc68-76048ec24fa1\">\n",
              "  <button class=\"colab-df-quickchart\" onclick=\"quickchart('df-678ce5c2-be8b-46db-bc68-76048ec24fa1')\"\n",
              "            title=\"Suggest charts\"\n",
              "            style=\"display:none;\">\n",
              "\n",
              "<svg xmlns=\"http://www.w3.org/2000/svg\" height=\"24px\"viewBox=\"0 0 24 24\"\n",
              "     width=\"24px\">\n",
              "    <g>\n",
              "        <path d=\"M19 3H5c-1.1 0-2 .9-2 2v14c0 1.1.9 2 2 2h14c1.1 0 2-.9 2-2V5c0-1.1-.9-2-2-2zM9 17H7v-7h2v7zm4 0h-2V7h2v10zm4 0h-2v-4h2v4z\"/>\n",
              "    </g>\n",
              "</svg>\n",
              "  </button>\n",
              "\n",
              "<style>\n",
              "  .colab-df-quickchart {\n",
              "      --bg-color: #E8F0FE;\n",
              "      --fill-color: #1967D2;\n",
              "      --hover-bg-color: #E2EBFA;\n",
              "      --hover-fill-color: #174EA6;\n",
              "      --disabled-fill-color: #AAA;\n",
              "      --disabled-bg-color: #DDD;\n",
              "  }\n",
              "\n",
              "  [theme=dark] .colab-df-quickchart {\n",
              "      --bg-color: #3B4455;\n",
              "      --fill-color: #D2E3FC;\n",
              "      --hover-bg-color: #434B5C;\n",
              "      --hover-fill-color: #FFFFFF;\n",
              "      --disabled-bg-color: #3B4455;\n",
              "      --disabled-fill-color: #666;\n",
              "  }\n",
              "\n",
              "  .colab-df-quickchart {\n",
              "    background-color: var(--bg-color);\n",
              "    border: none;\n",
              "    border-radius: 50%;\n",
              "    cursor: pointer;\n",
              "    display: none;\n",
              "    fill: var(--fill-color);\n",
              "    height: 32px;\n",
              "    padding: 0;\n",
              "    width: 32px;\n",
              "  }\n",
              "\n",
              "  .colab-df-quickchart:hover {\n",
              "    background-color: var(--hover-bg-color);\n",
              "    box-shadow: 0 1px 2px rgba(60, 64, 67, 0.3), 0 1px 3px 1px rgba(60, 64, 67, 0.15);\n",
              "    fill: var(--button-hover-fill-color);\n",
              "  }\n",
              "\n",
              "  .colab-df-quickchart-complete:disabled,\n",
              "  .colab-df-quickchart-complete:disabled:hover {\n",
              "    background-color: var(--disabled-bg-color);\n",
              "    fill: var(--disabled-fill-color);\n",
              "    box-shadow: none;\n",
              "  }\n",
              "\n",
              "  .colab-df-spinner {\n",
              "    border: 2px solid var(--fill-color);\n",
              "    border-color: transparent;\n",
              "    border-bottom-color: var(--fill-color);\n",
              "    animation:\n",
              "      spin 1s steps(1) infinite;\n",
              "  }\n",
              "\n",
              "  @keyframes spin {\n",
              "    0% {\n",
              "      border-color: transparent;\n",
              "      border-bottom-color: var(--fill-color);\n",
              "      border-left-color: var(--fill-color);\n",
              "    }\n",
              "    20% {\n",
              "      border-color: transparent;\n",
              "      border-left-color: var(--fill-color);\n",
              "      border-top-color: var(--fill-color);\n",
              "    }\n",
              "    30% {\n",
              "      border-color: transparent;\n",
              "      border-left-color: var(--fill-color);\n",
              "      border-top-color: var(--fill-color);\n",
              "      border-right-color: var(--fill-color);\n",
              "    }\n",
              "    40% {\n",
              "      border-color: transparent;\n",
              "      border-right-color: var(--fill-color);\n",
              "      border-top-color: var(--fill-color);\n",
              "    }\n",
              "    60% {\n",
              "      border-color: transparent;\n",
              "      border-right-color: var(--fill-color);\n",
              "    }\n",
              "    80% {\n",
              "      border-color: transparent;\n",
              "      border-right-color: var(--fill-color);\n",
              "      border-bottom-color: var(--fill-color);\n",
              "    }\n",
              "    90% {\n",
              "      border-color: transparent;\n",
              "      border-bottom-color: var(--fill-color);\n",
              "    }\n",
              "  }\n",
              "</style>\n",
              "\n",
              "  <script>\n",
              "    async function quickchart(key) {\n",
              "      const quickchartButtonEl =\n",
              "        document.querySelector('#' + key + ' button');\n",
              "      quickchartButtonEl.disabled = true;  // To prevent multiple clicks.\n",
              "      quickchartButtonEl.classList.add('colab-df-spinner');\n",
              "      try {\n",
              "        const charts = await google.colab.kernel.invokeFunction(\n",
              "            'suggestCharts', [key], {});\n",
              "      } catch (error) {\n",
              "        console.error('Error during call to suggestCharts:', error);\n",
              "      }\n",
              "      quickchartButtonEl.classList.remove('colab-df-spinner');\n",
              "      quickchartButtonEl.classList.add('colab-df-quickchart-complete');\n",
              "    }\n",
              "    (() => {\n",
              "      let quickchartButtonEl =\n",
              "        document.querySelector('#df-678ce5c2-be8b-46db-bc68-76048ec24fa1 button');\n",
              "      quickchartButtonEl.style.display =\n",
              "        google.colab.kernel.accessAllowed ? 'block' : 'none';\n",
              "    })();\n",
              "  </script>\n",
              "</div>\n",
              "    </div>\n",
              "  </div>\n"
            ],
            "application/vnd.google.colaboratory.intrinsic+json": {
              "type": "dataframe",
              "summary": "{\n  \"name\": \"data\",\n  \"rows\": 5,\n  \"fields\": [\n    {\n      \"column\": \"count\",\n      \"properties\": {\n        \"dtype\": \"number\",\n        \"std\": 0.0,\n        \"min\": 50000.0,\n        \"max\": 50000.0,\n        \"num_unique_values\": 1,\n        \"samples\": [\n          50000.0\n        ],\n        \"semantic_type\": \"\",\n        \"description\": \"\"\n      }\n    },\n    {\n      \"column\": \"mean\",\n      \"properties\": {\n        \"dtype\": \"number\",\n        \"std\": 100103.88873179487,\n        \"min\": 1.99542,\n        \"max\": 224827.32515099045,\n        \"num_unique_values\": 5,\n        \"samples\": [\n          3.4987\n        ],\n        \"semantic_type\": \"\",\n        \"description\": \"\"\n      }\n    },\n    {\n      \"column\": \"std\",\n      \"properties\": {\n        \"dtype\": \"number\",\n        \"std\": 33985.68131855709,\n        \"min\": 0.8158506823228849,\n        \"max\": 76141.84296604691,\n        \"num_unique_values\": 5,\n        \"samples\": [\n          1.1163257739856558\n        ],\n        \"semantic_type\": \"\",\n        \"description\": \"\"\n      }\n    },\n    {\n      \"column\": \"min\",\n      \"properties\": {\n        \"dtype\": \"number\",\n        \"std\": 16712.506409055986,\n        \"min\": -36588.16539749279,\n        \"max\": 1950.0,\n        \"num_unique_values\": 5,\n        \"samples\": [\n          2.0\n        ],\n        \"semantic_type\": \"\",\n        \"description\": \"\"\n      }\n    },\n    {\n      \"column\": \"25%\",\n      \"properties\": {\n        \"dtype\": \"number\",\n        \"std\": 75622.21179963209,\n        \"min\": 1.0,\n        \"max\": 169955.8602251014,\n        \"num_unique_values\": 5,\n        \"samples\": [\n          3.0\n        ],\n        \"semantic_type\": \"\",\n        \"description\": \"\"\n      }\n    },\n    {\n      \"column\": \"50%\",\n      \"properties\": {\n        \"dtype\": \"number\",\n        \"std\": 100204.4568826983,\n        \"min\": 2.0,\n        \"max\": 225052.14116600397,\n        \"num_unique_values\": 5,\n        \"samples\": [\n          3.0\n        ],\n        \"semantic_type\": \"\",\n        \"description\": \"\"\n      }\n    },\n    {\n      \"column\": \"75%\",\n      \"properties\": {\n        \"dtype\": \"number\",\n        \"std\": 124439.99842129453,\n        \"min\": 3.0,\n        \"max\": 279373.6300523317,\n        \"num_unique_values\": 5,\n        \"samples\": [\n          4.0\n        ],\n        \"semantic_type\": \"\",\n        \"description\": \"\"\n      }\n    },\n    {\n      \"column\": \"max\",\n      \"properties\": {\n        \"dtype\": \"number\",\n        \"std\": 219558.1121044494,\n        \"min\": 3.0,\n        \"max\": 492195.2599720151,\n        \"num_unique_values\": 5,\n        \"samples\": [\n          5.0\n        ],\n        \"semantic_type\": \"\",\n        \"description\": \"\"\n      }\n    }\n  ]\n}"
            }
          },
          "metadata": {},
          "execution_count": 7
        }
      ]
    },
    {
      "cell_type": "code",
      "source": [
        "data.isnull().sum()"
      ],
      "metadata": {
        "colab": {
          "base_uri": "https://localhost:8080/"
        },
        "id": "RBPJfUczzatU",
        "outputId": "b08c0549-4403-48d3-8033-dbbae266015b"
      },
      "execution_count": null,
      "outputs": [
        {
          "output_type": "execute_result",
          "data": {
            "text/plain": [
              "SquareFeet      0\n",
              "Bedrooms        0\n",
              "Bathrooms       0\n",
              "Neighborhood    0\n",
              "YearBuilt       0\n",
              "Price           0\n",
              "dtype: int64"
            ]
          },
          "metadata": {},
          "execution_count": 8
        }
      ]
    },
    {
      "cell_type": "code",
      "source": [
        "data.drop_duplicates(subset=\"Price\", inplace=True)"
      ],
      "metadata": {
        "id": "MXCZ1od0ROQs"
      },
      "execution_count": null,
      "outputs": []
    },
    {
      "cell_type": "code",
      "source": [
        "data[\"Neighborhood\"].value_counts()"
      ],
      "metadata": {
        "colab": {
          "base_uri": "https://localhost:8080/"
        },
        "id": "QTCxV6KcR5VS",
        "outputId": "56ea64d8-4771-45b4-885f-c0aa6c96d4fd"
      },
      "execution_count": null,
      "outputs": [
        {
          "output_type": "execute_result",
          "data": {
            "text/plain": [
              "Neighborhood\n",
              "Suburb    16721\n",
              "Rural     16676\n",
              "Urban     16603\n",
              "Name: count, dtype: int64"
            ]
          },
          "metadata": {},
          "execution_count": 10
        }
      ]
    },
    {
      "cell_type": "markdown",
      "source": [
        "# **Regresión Lineal**"
      ],
      "metadata": {
        "id": "no7MzoK9zAic"
      }
    },
    {
      "cell_type": "markdown",
      "source": [
        "Pipeline de ScikitLearn: https://scikit-learn.org/stable/modules/compose.html"
      ],
      "metadata": {
        "id": "6xT0Zg6EoJd3"
      }
    },
    {
      "cell_type": "code",
      "source": [
        "\"\"\"\n",
        "En scikit-learn existen diferente objetos que implementan dos métodos esenciales: fit() y transform().\n",
        "    -fit() es responsable de \"aprender\" de los datos de entrenamiento, almacenando las métricas y parámetros necesarios\n",
        "      para transformar o predecir en futuros datos. fit() no modifica los datos originales.\n",
        "    -transform() se utiliza para aplicar la transformación aprendida a los datos. Utiliza los parámetros aprendidos\n",
        "      durante el fit() para transformar los datos de entrada de manera consistente con el aprendizaje realizado.\n",
        "      Objetos que incorporan este método se llaman transformadores, tales como los imputadores, rescaladores,\n",
        "      codificadores o algoritmos de reducción de dimensionalidad.\n",
        "\n",
        "Vamos a aprovechar para introducir el objeto pipeline de scikit-learn que hace uso de esta distinción. Este objeto\n",
        "permite integrar un conjunto de ajustes y transformaciones en un mismo flujo. El objeto pipeline opera con\n",
        "transformaciones anidadas. Es posible incorporar funciones personalizadas, siempre y cuando contengan un método fit()\n",
        "y transform().\n",
        "\n",
        "\"\"\"\n",
        "from sklearn.pipeline import Pipeline\n",
        "from sklearn.linear_model import LinearRegression\n",
        "from sklearn.preprocessing import StandardScaler, OneHotEncoder, MinMaxScaler, RobustScaler\n",
        "from sklearn.compose import ColumnTransformer\n",
        "from sklearn.decomposition import PCA\n",
        "\n",
        "# CONSTRUCCIÓN DEL PIPELINE CON REGRESIÓN LINEAL\n",
        "# Transformador para columnas numéricas.\n",
        "numeric_transformer = Pipeline(steps=[\n",
        "    ('scaler', StandardScaler()) # Estandarización\n",
        "])\n",
        "\n",
        "# Transformador para columnas categóricas.\n",
        "# Es importante indicarle como tratar nuevos datos una vez realizada la codificación. Esto es útil cuando existe la posibilidad\n",
        "# de que los datos nuevos contengan categorías que no se vieron durante el entrenamiento.\n",
        "categorical_transformer = Pipeline(steps=[\n",
        "    ('onehot', OneHotEncoder(handle_unknown='ignore')) # Codificación tipo one-hot\n",
        "])\n",
        "\n",
        "# Integramos ambos en un preprocesador con ColumnTransformer, indicando el transformador y la lista de columnas a aplicar.\n",
        "preprocessor = ColumnTransformer(\n",
        "    transformers=[\n",
        "        ('num', numeric_transformer, num_pred_columns),\n",
        "        ('cat', categorical_transformer, cat_columns)\n",
        "    ]\n",
        ")\n",
        "\n",
        "# Creamos el pipeline completo incluyendo ahora sí el estimador, en este caso un Regresor Lineal.\n",
        "model = Pipeline(steps=[\n",
        "    ('preprocessor', preprocessor),\n",
        "    ('lin_regressor', LinearRegression())\n",
        "])"
      ],
      "metadata": {
        "id": "9yT-pe18TRxa"
      },
      "execution_count": null,
      "outputs": []
    },
    {
      "cell_type": "code",
      "source": [
        "# DIVISIÓN ENTRE COLUMNAS PREDICTIVAS Y OBJETIVO\n",
        "# Separar columnas predictoras de columna objetivo\n",
        "X = data.drop(columns=target_column)\n",
        "y = data[target_column]"
      ],
      "metadata": {
        "id": "NabyK662zC6u"
      },
      "execution_count": null,
      "outputs": []
    },
    {
      "cell_type": "code",
      "source": [
        "from sklearn.model_selection import train_test_split, cross_val_score, KFold\n",
        "\n",
        "# DIVISIÓN ENTRE DATOS DE ENTRENAMIENTO Y DATOS DE TESTEO\n",
        "# Seleccionamos una proporción de 80% de los datos para entrenamiento y 20% para el testeo.\n",
        "X_train, X_test, y_train, y_test = train_test_split(X, y, test_size=0.2)\n",
        "\n",
        "print(\"Tamaño datos de entrenamiento:\", X_train.shape)\n",
        "print(\"Tamaño datos de testeo:\", X_test.shape)"
      ],
      "metadata": {
        "id": "2yjJlzQbO77E",
        "colab": {
          "base_uri": "https://localhost:8080/"
        },
        "outputId": "0c26ea65-30c7-49fc-e9a0-3eccb3becef2"
      },
      "execution_count": null,
      "outputs": [
        {
          "output_type": "stream",
          "name": "stdout",
          "text": [
            "Tamaño datos de entrenamiento: (40000, 5)\n",
            "Tamaño datos de testeo: (10000, 5)\n"
          ]
        }
      ]
    },
    {
      "cell_type": "code",
      "source": [
        "# VALIDACIÓN CRUZADA\n",
        "# Definimos un objeto de Validación cruzada, en este caso KFold, indicando el número de splits.\n",
        "cv = KFold(n_splits=5, shuffle=True, random_state=42) #shuffle=True indica que el conjunto se baraja aleatoriamente antes de dividirse.\n",
        "# Obtenemos las puntuaciones de validación cruzada con el objeto CV creado antes.\n",
        "cv_scores = cross_val_score(model, X_train, y_train, cv=cv, scoring=\"neg_root_mean_squared_error\")\n",
        "print(f'Puntuaciones de Validación Cruzada: {np.round(cv_scores,2)}')\n",
        "print(f'Promedio de las puntuaciones de Validación Cruzada: {round(np.mean(cv_scores),2)}')\n",
        "print(f'Desviación Típica de las puntuaciones de Validación Cruzada: {round(np.std(cv_scores),2)}')"
      ],
      "metadata": {
        "colab": {
          "base_uri": "https://localhost:8080/"
        },
        "id": "6Js-DFPgzrOW",
        "outputId": "27455ea0-b91b-42ef-886c-2b121e11ec1b"
      },
      "execution_count": null,
      "outputs": [
        {
          "output_type": "stream",
          "name": "stdout",
          "text": [
            "Puntuaciones de Validación Cruzada: [-50062.47 -49504.29 -49681.64 -50642.92 -49658.08]\n",
            "Promedio de las puntuaciones de Validación Cruzada: -49909.88\n",
            "Desviación Típica de las puntuaciones de Validación Cruzada: 410.03\n"
          ]
        }
      ]
    },
    {
      "cell_type": "code",
      "source": [
        "# ENTRENAMIENTO DEL MODELO\n",
        "# Entrenar el modelo final con todos los datos de entrenamiento.\n",
        "model.fit(X_train, y_train)"
      ],
      "metadata": {
        "colab": {
          "base_uri": "https://localhost:8080/",
          "height": 190
        },
        "id": "KbVsS4TSdlB4",
        "outputId": "d6139ded-ed63-4b68-b9aa-015f6ad60564"
      },
      "execution_count": null,
      "outputs": [
        {
          "output_type": "execute_result",
          "data": {
            "text/plain": [
              "Pipeline(steps=[('preprocessor',\n",
              "                 ColumnTransformer(transformers=[('num',\n",
              "                                                  Pipeline(steps=[('scaler',\n",
              "                                                                   StandardScaler())]),\n",
              "                                                  ['SquareFeet', 'Bedrooms',\n",
              "                                                   'Bathrooms', 'YearBuilt']),\n",
              "                                                 ('cat',\n",
              "                                                  Pipeline(steps=[('onehot',\n",
              "                                                                   OneHotEncoder(handle_unknown='ignore'))]),\n",
              "                                                  ['Neighborhood'])])),\n",
              "                ('lin_regressor', LinearRegression())])"
            ],
            "text/html": [
              "<style>#sk-container-id-1 {color: black;background-color: white;}#sk-container-id-1 pre{padding: 0;}#sk-container-id-1 div.sk-toggleable {background-color: white;}#sk-container-id-1 label.sk-toggleable__label {cursor: pointer;display: block;width: 100%;margin-bottom: 0;padding: 0.3em;box-sizing: border-box;text-align: center;}#sk-container-id-1 label.sk-toggleable__label-arrow:before {content: \"▸\";float: left;margin-right: 0.25em;color: #696969;}#sk-container-id-1 label.sk-toggleable__label-arrow:hover:before {color: black;}#sk-container-id-1 div.sk-estimator:hover label.sk-toggleable__label-arrow:before {color: black;}#sk-container-id-1 div.sk-toggleable__content {max-height: 0;max-width: 0;overflow: hidden;text-align: left;background-color: #f0f8ff;}#sk-container-id-1 div.sk-toggleable__content pre {margin: 0.2em;color: black;border-radius: 0.25em;background-color: #f0f8ff;}#sk-container-id-1 input.sk-toggleable__control:checked~div.sk-toggleable__content {max-height: 200px;max-width: 100%;overflow: auto;}#sk-container-id-1 input.sk-toggleable__control:checked~label.sk-toggleable__label-arrow:before {content: \"▾\";}#sk-container-id-1 div.sk-estimator input.sk-toggleable__control:checked~label.sk-toggleable__label {background-color: #d4ebff;}#sk-container-id-1 div.sk-label input.sk-toggleable__control:checked~label.sk-toggleable__label {background-color: #d4ebff;}#sk-container-id-1 input.sk-hidden--visually {border: 0;clip: rect(1px 1px 1px 1px);clip: rect(1px, 1px, 1px, 1px);height: 1px;margin: -1px;overflow: hidden;padding: 0;position: absolute;width: 1px;}#sk-container-id-1 div.sk-estimator {font-family: monospace;background-color: #f0f8ff;border: 1px dotted black;border-radius: 0.25em;box-sizing: border-box;margin-bottom: 0.5em;}#sk-container-id-1 div.sk-estimator:hover {background-color: #d4ebff;}#sk-container-id-1 div.sk-parallel-item::after {content: \"\";width: 100%;border-bottom: 1px solid gray;flex-grow: 1;}#sk-container-id-1 div.sk-label:hover label.sk-toggleable__label {background-color: #d4ebff;}#sk-container-id-1 div.sk-serial::before {content: \"\";position: absolute;border-left: 1px solid gray;box-sizing: border-box;top: 0;bottom: 0;left: 50%;z-index: 0;}#sk-container-id-1 div.sk-serial {display: flex;flex-direction: column;align-items: center;background-color: white;padding-right: 0.2em;padding-left: 0.2em;position: relative;}#sk-container-id-1 div.sk-item {position: relative;z-index: 1;}#sk-container-id-1 div.sk-parallel {display: flex;align-items: stretch;justify-content: center;background-color: white;position: relative;}#sk-container-id-1 div.sk-item::before, #sk-container-id-1 div.sk-parallel-item::before {content: \"\";position: absolute;border-left: 1px solid gray;box-sizing: border-box;top: 0;bottom: 0;left: 50%;z-index: -1;}#sk-container-id-1 div.sk-parallel-item {display: flex;flex-direction: column;z-index: 1;position: relative;background-color: white;}#sk-container-id-1 div.sk-parallel-item:first-child::after {align-self: flex-end;width: 50%;}#sk-container-id-1 div.sk-parallel-item:last-child::after {align-self: flex-start;width: 50%;}#sk-container-id-1 div.sk-parallel-item:only-child::after {width: 0;}#sk-container-id-1 div.sk-dashed-wrapped {border: 1px dashed gray;margin: 0 0.4em 0.5em 0.4em;box-sizing: border-box;padding-bottom: 0.4em;background-color: white;}#sk-container-id-1 div.sk-label label {font-family: monospace;font-weight: bold;display: inline-block;line-height: 1.2em;}#sk-container-id-1 div.sk-label-container {text-align: center;}#sk-container-id-1 div.sk-container {/* jupyter's `normalize.less` sets `[hidden] { display: none; }` but bootstrap.min.css set `[hidden] { display: none !important; }` so we also need the `!important` here to be able to override the default hidden behavior on the sphinx rendered scikit-learn.org. See: https://github.com/scikit-learn/scikit-learn/issues/21755 */display: inline-block !important;position: relative;}#sk-container-id-1 div.sk-text-repr-fallback {display: none;}</style><div id=\"sk-container-id-1\" class=\"sk-top-container\"><div class=\"sk-text-repr-fallback\"><pre>Pipeline(steps=[(&#x27;preprocessor&#x27;,\n",
              "                 ColumnTransformer(transformers=[(&#x27;num&#x27;,\n",
              "                                                  Pipeline(steps=[(&#x27;scaler&#x27;,\n",
              "                                                                   StandardScaler())]),\n",
              "                                                  [&#x27;SquareFeet&#x27;, &#x27;Bedrooms&#x27;,\n",
              "                                                   &#x27;Bathrooms&#x27;, &#x27;YearBuilt&#x27;]),\n",
              "                                                 (&#x27;cat&#x27;,\n",
              "                                                  Pipeline(steps=[(&#x27;onehot&#x27;,\n",
              "                                                                   OneHotEncoder(handle_unknown=&#x27;ignore&#x27;))]),\n",
              "                                                  [&#x27;Neighborhood&#x27;])])),\n",
              "                (&#x27;lin_regressor&#x27;, LinearRegression())])</pre><b>In a Jupyter environment, please rerun this cell to show the HTML representation or trust the notebook. <br />On GitHub, the HTML representation is unable to render, please try loading this page with nbviewer.org.</b></div><div class=\"sk-container\" hidden><div class=\"sk-item sk-dashed-wrapped\"><div class=\"sk-label-container\"><div class=\"sk-label sk-toggleable\"><input class=\"sk-toggleable__control sk-hidden--visually\" id=\"sk-estimator-id-1\" type=\"checkbox\" ><label for=\"sk-estimator-id-1\" class=\"sk-toggleable__label sk-toggleable__label-arrow\">Pipeline</label><div class=\"sk-toggleable__content\"><pre>Pipeline(steps=[(&#x27;preprocessor&#x27;,\n",
              "                 ColumnTransformer(transformers=[(&#x27;num&#x27;,\n",
              "                                                  Pipeline(steps=[(&#x27;scaler&#x27;,\n",
              "                                                                   StandardScaler())]),\n",
              "                                                  [&#x27;SquareFeet&#x27;, &#x27;Bedrooms&#x27;,\n",
              "                                                   &#x27;Bathrooms&#x27;, &#x27;YearBuilt&#x27;]),\n",
              "                                                 (&#x27;cat&#x27;,\n",
              "                                                  Pipeline(steps=[(&#x27;onehot&#x27;,\n",
              "                                                                   OneHotEncoder(handle_unknown=&#x27;ignore&#x27;))]),\n",
              "                                                  [&#x27;Neighborhood&#x27;])])),\n",
              "                (&#x27;lin_regressor&#x27;, LinearRegression())])</pre></div></div></div><div class=\"sk-serial\"><div class=\"sk-item sk-dashed-wrapped\"><div class=\"sk-label-container\"><div class=\"sk-label sk-toggleable\"><input class=\"sk-toggleable__control sk-hidden--visually\" id=\"sk-estimator-id-2\" type=\"checkbox\" ><label for=\"sk-estimator-id-2\" class=\"sk-toggleable__label sk-toggleable__label-arrow\">preprocessor: ColumnTransformer</label><div class=\"sk-toggleable__content\"><pre>ColumnTransformer(transformers=[(&#x27;num&#x27;,\n",
              "                                 Pipeline(steps=[(&#x27;scaler&#x27;, StandardScaler())]),\n",
              "                                 [&#x27;SquareFeet&#x27;, &#x27;Bedrooms&#x27;, &#x27;Bathrooms&#x27;,\n",
              "                                  &#x27;YearBuilt&#x27;]),\n",
              "                                (&#x27;cat&#x27;,\n",
              "                                 Pipeline(steps=[(&#x27;onehot&#x27;,\n",
              "                                                  OneHotEncoder(handle_unknown=&#x27;ignore&#x27;))]),\n",
              "                                 [&#x27;Neighborhood&#x27;])])</pre></div></div></div><div class=\"sk-parallel\"><div class=\"sk-parallel-item\"><div class=\"sk-item\"><div class=\"sk-label-container\"><div class=\"sk-label sk-toggleable\"><input class=\"sk-toggleable__control sk-hidden--visually\" id=\"sk-estimator-id-3\" type=\"checkbox\" ><label for=\"sk-estimator-id-3\" class=\"sk-toggleable__label sk-toggleable__label-arrow\">num</label><div class=\"sk-toggleable__content\"><pre>[&#x27;SquareFeet&#x27;, &#x27;Bedrooms&#x27;, &#x27;Bathrooms&#x27;, &#x27;YearBuilt&#x27;]</pre></div></div></div><div class=\"sk-serial\"><div class=\"sk-item\"><div class=\"sk-serial\"><div class=\"sk-item\"><div class=\"sk-estimator sk-toggleable\"><input class=\"sk-toggleable__control sk-hidden--visually\" id=\"sk-estimator-id-4\" type=\"checkbox\" ><label for=\"sk-estimator-id-4\" class=\"sk-toggleable__label sk-toggleable__label-arrow\">StandardScaler</label><div class=\"sk-toggleable__content\"><pre>StandardScaler()</pre></div></div></div></div></div></div></div></div><div class=\"sk-parallel-item\"><div class=\"sk-item\"><div class=\"sk-label-container\"><div class=\"sk-label sk-toggleable\"><input class=\"sk-toggleable__control sk-hidden--visually\" id=\"sk-estimator-id-5\" type=\"checkbox\" ><label for=\"sk-estimator-id-5\" class=\"sk-toggleable__label sk-toggleable__label-arrow\">cat</label><div class=\"sk-toggleable__content\"><pre>[&#x27;Neighborhood&#x27;]</pre></div></div></div><div class=\"sk-serial\"><div class=\"sk-item\"><div class=\"sk-serial\"><div class=\"sk-item\"><div class=\"sk-estimator sk-toggleable\"><input class=\"sk-toggleable__control sk-hidden--visually\" id=\"sk-estimator-id-6\" type=\"checkbox\" ><label for=\"sk-estimator-id-6\" class=\"sk-toggleable__label sk-toggleable__label-arrow\">OneHotEncoder</label><div class=\"sk-toggleable__content\"><pre>OneHotEncoder(handle_unknown=&#x27;ignore&#x27;)</pre></div></div></div></div></div></div></div></div></div></div><div class=\"sk-item\"><div class=\"sk-estimator sk-toggleable\"><input class=\"sk-toggleable__control sk-hidden--visually\" id=\"sk-estimator-id-7\" type=\"checkbox\" ><label for=\"sk-estimator-id-7\" class=\"sk-toggleable__label sk-toggleable__label-arrow\">LinearRegression</label><div class=\"sk-toggleable__content\"><pre>LinearRegression()</pre></div></div></div></div></div></div></div>"
            ]
          },
          "metadata": {},
          "execution_count": 15
        }
      ]
    },
    {
      "cell_type": "code",
      "source": [
        "# TESTEO DEL MODELO\n",
        "# Realizar las predicciones con el conjunto de datos reservados de testeo.\n",
        "y_pred = model.predict(X_test)"
      ],
      "metadata": {
        "id": "pFyi8G9L3h1X"
      },
      "execution_count": null,
      "outputs": []
    },
    {
      "cell_type": "code",
      "source": [
        "# COEFICIENTES FINALES\n",
        "# Acceder al modelo de regresión dentro del pipeline\n",
        "lin_regressor = model.named_steps['lin_regressor'] # Debe ser el mismo nombre indicado al declarar el pipeline\n",
        "\n",
        "# Obtener los coeficientes y el interceptor\n",
        "coefficients = np.round(lin_regressor.coef_)\n",
        "intercept = np.round(lin_regressor.intercept_)\n",
        "feature_names = preprocessor.get_feature_names_out() # Sacamos los nombres de las columnas.\n",
        "coef_dict = dict(zip(feature_names, coefficients.flatten())) # Asociando los coeficientes con los nombres de las características\n",
        "print(\"Interceptor del modelo:\", intercept)\n",
        "print(\"Coeficientes finales del modelo:\", coef_dict)"
      ],
      "metadata": {
        "colab": {
          "base_uri": "https://localhost:8080/"
        },
        "id": "zuBA3N-nnlE_",
        "outputId": "94f60135-8e00-4c12-c36f-3ce3c7a721df"
      },
      "execution_count": null,
      "outputs": [
        {
          "output_type": "stream",
          "name": "stdout",
          "text": [
            "Interceptor del modelo: 224976.0\n",
            "Coeficientes finales del modelo: {'num__SquareFeet': 57209.0, 'num__Bedrooms': 5612.0, 'num__Bathrooms': 2063.0, 'num__YearBuilt': -344.0, 'cat__Neighborhood_Rural': -243.0, 'cat__Neighborhood_Suburb': -765.0, 'cat__Neighborhood_Urban': 1008.0}\n"
          ]
        }
      ]
    },
    {
      "cell_type": "code",
      "source": [
        "from sklearn.metrics import mean_squared_error, mean_absolute_error, r2_score\n",
        "\n",
        "# EVALUACIÓN DEL MODELO\n",
        "# Evaluación del modelo en el conjunto de prueba. Notar como es necesario pasar tanto nuestras predicciones\n",
        "# y_pred como los valores reales de la variable objetivo y_test.\n",
        "mae = round(mean_absolute_error(y_test, y_pred),2)\n",
        "mse = round(mean_squared_error(y_test, y_pred),2)\n",
        "rmse = round(np.sqrt(mse),2)\n",
        "r2 = round(r2_score(y_test, y_pred),3)\n",
        "\n",
        "print(f\"Mean Absolute Error (MAE) en el conjunto de testeo: {mae}\")\n",
        "print(f\"Mean Squared Error (MSE) en el conjunto de testeo: {mse}\")\n",
        "print(f\"Root Mean Squared Error (RMSE) en el conjunto de testeo: {rmse}\")\n",
        "print(f\"R-squared (R2) en el conjunto de testeo: {r2}\")"
      ],
      "metadata": {
        "colab": {
          "base_uri": "https://localhost:8080/"
        },
        "id": "JZWYqc82lnQj",
        "outputId": "5e1c95a6-fef3-4b2d-9c5b-6dd84f6d585c"
      },
      "execution_count": null,
      "outputs": [
        {
          "output_type": "stream",
          "name": "stdout",
          "text": [
            "Mean Absolute Error (MAE) en el conjunto de testeo: 39972.89\n",
            "Mean Squared Error (MSE) en el conjunto de testeo: 2497735875.76\n",
            "Root Mean Squared Error (RMSE) en el conjunto de testeo: 49977.35\n",
            "R-squared (R2) en el conjunto de testeo: 0.569\n"
          ]
        }
      ]
    },
    {
      "cell_type": "code",
      "source": [
        "# Podemos hacer una predicción con una fila cualquiera del dataset.\n",
        "sample_0 = X_train.iloc[[0]]\n",
        "predict_0 = model.predict(sample_0) #Es necesario el doble corchete porque predict() espera una matriz bidimensional de entrada.\n",
        "print(\"Predicción: \", predict_0)\n",
        "print(\"Error de predicción: \", predict_0-y_train.iloc[0])"
      ],
      "metadata": {
        "colab": {
          "base_uri": "https://localhost:8080/"
        },
        "id": "vVlfAJ6mtCwP",
        "outputId": "7ad94278-4de9-4348-f984-a89c56e2c0c8"
      },
      "execution_count": null,
      "outputs": [
        {
          "output_type": "stream",
          "name": "stdout",
          "text": [
            "Predicción:  [314756.48480462]\n",
            "Error de predicción:  [-39519.51891969]\n"
          ]
        }
      ]
    },
    {
      "cell_type": "code",
      "source": [
        "# Incluso podemos pasarle datos inventados, siempre y cuando indiquemos correctamente las columnas.\n",
        "# Para ello es necesario que lo que le pasemos a predict() sea un DataFrame.\n",
        "sample_1 = {\n",
        "    'SquareFeet': 2500,\n",
        "    'Bedrooms': 3,\n",
        "    'Bathrooms': 4,\n",
        "    'Neighborhood': 'Urban',\n",
        "    'YearBuilt': 1962\n",
        "}\n",
        "\n",
        "sample_1 = pd.DataFrame([sample_1])\n",
        "predict_1 = model.predict(sample_1)\n",
        "print(\"\\nPredicción: \",predict_1)"
      ],
      "metadata": {
        "colab": {
          "base_uri": "https://localhost:8080/"
        },
        "id": "0epxM6Ja6wG-",
        "outputId": "03f43f86-dfcc-4455-93d6-96e8cf5b3f7d"
      },
      "execution_count": null,
      "outputs": [
        {
          "output_type": "stream",
          "name": "stdout",
          "text": [
            "\n",
            "Predicción:  [277962.52466949]\n"
          ]
        }
      ]
    }
  ]
}